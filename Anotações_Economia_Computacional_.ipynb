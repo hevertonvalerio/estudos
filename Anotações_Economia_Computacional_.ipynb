{
  "nbformat": 4,
  "nbformat_minor": 0,
  "metadata": {
    "colab": {
      "provenance": [],
      "include_colab_link": true
    },
    "kernelspec": {
      "name": "python3",
      "display_name": "Python 3"
    },
    "language_info": {
      "name": "python"
    }
  },
  "cells": [
    {
      "cell_type": "markdown",
      "metadata": {
        "id": "view-in-github",
        "colab_type": "text"
      },
      "source": [
        "<a href=\"https://colab.research.google.com/github/hevertonvalerio/estudos/blob/main/Anota%C3%A7%C3%B5es_Economia_Computacional_.ipynb\" target=\"_parent\"><img src=\"https://colab.research.google.com/assets/colab-badge.svg\" alt=\"Open In Colab\"/></a>"
      ]
    },
    {
      "cell_type": "markdown",
      "source": [
        "Estudar analise de series temporias algoritimos classicos (3)\n",
        "\n",
        "Livro: Aprendizado de máquina: uma abordagem estatística"
      ],
      "metadata": {
        "id": "HaMgNgSUsmNo"
      }
    },
    {
      "cell_type": "markdown",
      "source": [
        "Desenvolver aplicações praticas para o mercado financeiro\n"
      ],
      "metadata": {
        "id": "-FqA70WMs1O5"
      }
    },
    {
      "cell_type": "markdown",
      "source": [
        "\n",
        "Principais tópicos:\n",
        "\n",
        "* Chalange da Bloomberg - Montar uma carteira de investimento quem lucrar mais ganha. (junto ao Mack Finance) - Cursos da Bloomberg - Gestor de terminal Falar com o Gabriel.\n",
        "\n",
        "* Macro Micro Economia - Analise de Cenários"
      ],
      "metadata": {
        "id": "QW_csDEztKL1"
      }
    },
    {
      "cell_type": "markdown",
      "source": [
        "3 Conceitos: atuação cd\n",
        "* **Research** - insights para analise de dados\n",
        "* **QuantDev** - Pega os dados e organiza para precificação engenharia de software\n",
        "* **AlgoTrade** - IA e Algoritimos que pga precificações em cotizadores para fazer transiações em alta frequência."
      ],
      "metadata": {
        "id": "4ta7ZOHKtrT8"
      }
    },
    {
      "cell_type": "markdown",
      "source": [
        "Chalange Bloomberg - **Go Horse**.\n",
        "\n",
        "* Ajustar interdisciplinaridades - distribuir função\n",
        "   * Projeção de Preços\n",
        "   * Limpeza de dados\n",
        "   * Etc"
      ],
      "metadata": {
        "id": "EklCj-5gwbxR"
      }
    },
    {
      "cell_type": "markdown",
      "source": [
        "marcovit - cod github (código que avalia 12 ativos em um período de tempo e retorna qual a % adequada para cada ativo.)"
      ],
      "metadata": {
        "id": "6L7Kf79Aw25T"
      }
    },
    {
      "cell_type": "markdown",
      "source": [
        "Econometria - A econometria é um estudo que utiliza ferramentas estatísticas e matemáticas para analisar relações econômicas, testar hipóteses e prever tendências"
      ],
      "metadata": {
        "id": "LRWDCHwrx7jq"
      }
    },
    {
      "cell_type": "markdown",
      "source": [
        "problema: quantidade de ativios, diversificação % para cada um.\n",
        "como construir algoritimo para o Feeling Warren Buffet"
      ],
      "metadata": {
        "id": "yLFUX09ayTag"
      }
    },
    {
      "cell_type": "markdown",
      "source": [
        "Xgboost"
      ],
      "metadata": {
        "id": "A5NIViu5zlnu"
      }
    },
    {
      "cell_type": "markdown",
      "source": [
        "Ajuste de hiperparâmetro"
      ],
      "metadata": {
        "id": "flA4XhP0z1Mu"
      }
    },
    {
      "cell_type": "markdown",
      "source": [
        "Prêmios:\n",
        "* Reconhecimento professor Eli (Portfólio parceria Mack Finance) 5ª BR\n",
        "* Aprendizado durante"
      ],
      "metadata": {
        "id": "6A-F_GZHz4eu"
      }
    },
    {
      "cell_type": "markdown",
      "source": [
        "---"
      ],
      "metadata": {
        "id": "6KZ55yw71QF-"
      }
    },
    {
      "cell_type": "markdown",
      "source": [
        "Secretário(a)\n",
        "* Responsável pela manutenção de todos os registros e documentações da LAE\n",
        "IA&CD, como atas de reuniões e registros de presença.\n",
        "* Prepara os relatórios periódicos, documentando o andamento das atividades\n",
        "para a Coordenação de Atividades Complementares, Diretoria da FCI e/ou\n",
        "UPM quando requisitado.\n"
      ],
      "metadata": {
        "id": "Rd9Yb_tC1QiF"
      }
    },
    {
      "cell_type": "markdown",
      "source": [
        "convolução temporal network"
      ],
      "metadata": {
        "id": "3gQTY5r52Ajt"
      }
    },
    {
      "cell_type": "code",
      "source": [
        "temporal convolutional network"
      ],
      "metadata": {
        "id": "sxGYXDtb2l3d"
      },
      "execution_count": null,
      "outputs": []
    },
    {
      "cell_type": "markdown",
      "source": [
        "---\n"
      ],
      "metadata": {
        "id": "o9s8aONW_Qi8"
      }
    },
    {
      "cell_type": "markdown",
      "source": [
        "Breve Estudo TCN e CNN - Artigo do Prof Borba\n",
        "\n",
        "https://chatgpt.com/share/b8fe9f66-74bf-4a5b-afb0-9a21079580c2\n"
      ],
      "metadata": {
        "id": "j88scUyO_RMD"
      }
    },
    {
      "cell_type": "markdown",
      "source": [
        "Breve Estudo sobre os conceitos conversados (GPT)"
      ],
      "metadata": {
        "id": "EfqwBjQ6Dc2B"
      }
    },
    {
      "cell_type": "markdown",
      "source": [
        "Vamos organizar os conceitos de acordo com o cenário que você propôs, considerando que eu sou seu professor de Economia Computacional. Vou estruturar cada conceito de maneira clara e direta:\n",
        "\n",
        "### 1. **Três Principais Algoritmos Clássicos de Análise de Séries Temporais**\n",
        "\n",
        "1. **ARIMA (AutoRegressive Integrated Moving Average):**\n",
        "   - **Descrição:** O ARIMA é um modelo estatístico que combina três componentes: autoregressão (AR), diferenciação (I) para tornar a série estacionária, e média móvel (MA). Ele é amplamente utilizado para modelar e prever séries temporais, especialmente aquelas que mostram um padrão de dependência temporal.\n",
        "   - **Aplicação:** É ideal para séries temporais univariadas que exibem tendência e sazonalidade.\n",
        "\n",
        "2. **Exponential Smoothing (Suavização Exponencial):**\n",
        "   - **Descrição:** Este método dá mais peso às observações recentes na série temporal ao prever valores futuros. Existem várias variantes, como o método de Holt-Winters, que pode capturar tanto a tendência quanto a sazonalidade.\n",
        "   - **Aplicação:** Utilizado em séries temporais com sazonalidade, sem a necessidade de um modelo complexo como o ARIMA.\n",
        "\n",
        "3. **GARCH (Generalized Autoregressive Conditional Heteroskedasticity):**\n",
        "   - **Descrição:** O GARCH é utilizado para modelar séries temporais financeiras que apresentam volatilidade heterocedástica, ou seja, onde a variância dos resíduos não é constante ao longo do tempo.\n",
        "   - **Aplicação:** Comumente aplicado em finanças para modelar a volatilidade dos retornos de ativos financeiros.\n",
        "\n",
        "### 2. **Ajuste de Hiperparâmetros**\n",
        "   - **Descrição:** Refere-se ao processo de otimização dos parâmetros de um modelo de machine learning que não são aprendidos diretamente a partir dos dados, como a taxa de aprendizado, número de árvores em um modelo de árvore de decisão, etc. O objetivo é encontrar a combinação de hiperparâmetros que maximize o desempenho do modelo em dados de validação.\n",
        "   - **Técnicas:** Métodos comuns incluem Grid Search, Random Search, e Otimização Bayesiana.\n",
        "\n",
        "### 3. **XGBoost (Extreme Gradient Boosting)**\n",
        "   - **Descrição:** XGBoost é uma biblioteca de machine learning otimizada para aumentar a performance e a eficiência de modelos baseados em árvores de decisão. Utiliza técnicas de boosting para criar um modelo forte a partir de vários modelos fracos.\n",
        "   - **Aplicação:** Muito utilizado em competições de ciência de dados e em cenários onde a acurácia é crítica, como na previsão de preços de ativos financeiros.\n",
        "\n",
        "### 4. **Código Markowitz (Teoria da Carteira)**\n",
        "   - **Descrição:** Baseado na Teoria da Carteira de Markowitz, este algoritmo otimiza a alocação de ativos em uma carteira para maximizar o retorno esperado para um dado nível de risco. Considera a correlação entre ativos e utiliza um período histórico para determinar as melhores proporções de cada ativo.\n",
        "   - **Aplicação:** Utilizado para construir carteiras eficientes que equilibram risco e retorno, sendo essencial para gestores de investimentos.\n",
        "\n",
        "### 5. **Atuação de Cientista de Dados no Mercado Financeiro**\n",
        "\n",
        "1. **Research (Pesquisa Quantitativa):**\n",
        "   - **Descrição:** Envolve a análise de grandes volumes de dados financeiros para identificar padrões, prever movimentos de mercado e desenvolver novas estratégias de investimento. Cientistas de Dados nessa área focam em criar modelos estatísticos e algoritmos preditivos.\n",
        "   - **Aplicação:** Utilizados por fundos de hedge, bancos de investimento, e firmas de pesquisa para tomar decisões informadas.\n",
        "\n",
        "2. **QuantDev (Desenvolvimento Quantitativo):**\n",
        "   - **Descrição:** Combina habilidades de desenvolvimento de software com modelagem quantitativa. QuantDevs implementam modelos matemáticos e algoritmos em sistemas de trading, otimizam o desempenho dos modelos, e garantem que eles possam ser executados em tempo real.\n",
        "   - **Aplicação:** Essencial para transformar teorias e modelos financeiros em sistemas prontos para o mercado.\n",
        "\n",
        "3. **AlgoTrade (Trading Algorítmico):**\n",
        "   - **Descrição:** Refere-se ao uso de algoritmos automatizados para executar operações de compra e venda de ativos no mercado financeiro. Esses algoritmos são projetados para reagir a condições de mercado em tempo real, executando ordens de forma mais rápida e eficiente que traders humanos.\n",
        "   - **Aplicação:** Utilizado por traders institucionais e hedge funds para capturar pequenas oportunidades de lucro em grandes volumes de transações.\n",
        "\n",
        "Esses conceitos interagem entre si no mercado financeiro, onde o conhecimento em algoritmos de análise de séries temporais, otimização de carteiras, e implementação de estratégias de trading algorítmico são essenciais para o sucesso de um Cientista de Dados."
      ],
      "metadata": {
        "id": "L_g8Wx7gDhcB"
      }
    },
    {
      "cell_type": "markdown",
      "source": [
        "----"
      ],
      "metadata": {
        "id": "3X9CK3HOu_vR"
      }
    },
    {
      "cell_type": "markdown",
      "source": [
        "indice charp"
      ],
      "metadata": {
        "id": "NX_UPgeUvAne"
      }
    },
    {
      "cell_type": "markdown",
      "source": [
        "Nós podemos obter uma estratégia cheia de risco."
      ],
      "metadata": {
        "id": "3kI_1vDAvKIn"
      }
    },
    {
      "cell_type": "markdown",
      "source": [
        "Dois times um go horse com eles e outro estratégia escalável."
      ],
      "metadata": {
        "id": "rDmcgBJavhoj"
      }
    },
    {
      "cell_type": "markdown",
      "source": [
        "Apresentação professor borba 2 coisas importantes:"
      ],
      "metadata": {
        "id": "rXhEmOiRvsTH"
      }
    },
    {
      "cell_type": "markdown",
      "source": [
        "1. O que é Softmax?"
      ],
      "metadata": {
        "id": "RSLQOg3Awfwb"
      }
    },
    {
      "cell_type": "markdown",
      "source": [
        "composição primeiro convolução de pooling"
      ],
      "metadata": {
        "id": "J8Judz2Txpqs"
      }
    },
    {
      "cell_type": "markdown",
      "source": [
        "faz a média de 3 itens para transformar em 1 dado."
      ],
      "metadata": {
        "id": "-wJWU4r-zjAi"
      }
    },
    {
      "cell_type": "markdown",
      "source": [
        "qual o objetivo da utilização dos filtors... Observar Padrão."
      ],
      "metadata": {
        "id": "pVJdMFK00UeQ"
      }
    },
    {
      "cell_type": "markdown",
      "source": [
        "Utilizaçaões:\n",
        "* High Frequency com menos poder computacional\n",
        "* Ativos com gande volatilidade.\n",
        "* Janela de Petax ()"
      ],
      "metadata": {
        "id": "trUUQEr53qWv"
      }
    },
    {
      "cell_type": "markdown",
      "source": [
        "puxar dados\n",
        "\n",
        "ver a visão do stake holders, não ter retrabalho, ver a visão do trader."
      ],
      "metadata": {
        "id": "tgVI4aSx4pHG"
      }
    }
  ]
}