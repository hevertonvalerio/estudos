{
  "nbformat": 4,
  "nbformat_minor": 0,
  "metadata": {
    "colab": {
      "name": "AED_3_ex.ipynb",
      "provenance": [],
      "include_colab_link": true
    },
    "kernelspec": {
      "name": "ir",
      "display_name": "R"
    },
    "language_info": {
      "name": "R"
    }
  },
  "cells": [
    {
      "cell_type": "markdown",
      "metadata": {
        "id": "view-in-github",
        "colab_type": "text"
      },
      "source": [
        "<a href=\"https://colab.research.google.com/github/hevertonvalerio/estudos/blob/main/AED_3_ex.ipynb\" target=\"_parent\"><img src=\"https://colab.research.google.com/assets/colab-badge.svg\" alt=\"Open In Colab\"/></a>"
      ]
    },
    {
      "cell_type": "markdown",
      "metadata": {
        "id": "40b90843"
      },
      "source": [
        "<img src=\"http://meusite.mackenzie.br/rogerio/mackenzie_logo/UPM.2_horizontal_vermelho.jpg\"  width=300, align=\"right\">\n",
        "<br>\n",
        "<br>\n",
        "<br>\n",
        "<br>\n",
        "<br>\n",
        "\n",
        "# Estatística Descritiva em R\n",
        "---"
      ]
    },
    {
      "cell_type": "markdown",
      "metadata": {
        "id": "f59d854c"
      },
      "source": [
        "# Exercícios"
      ]
    },
    {
      "cell_type": "markdown",
      "metadata": {
        "id": "6a28cc58"
      },
      "source": [
        "## Exercício 1\n",
        "\n",
        "Considere a base."
      ]
    },
    {
      "cell_type": "code",
      "source": [
        "df = read.csv('http://meusite.mackenzie.br/rogerio/TIC/Life_Expectancy_Data.csv')\n",
        "head(df)"
      ],
      "metadata": {
        "id": "12E858c05d7N",
        "outputId": "efbf9106-49a9-402e-8b0e-7f5aec065842",
        "colab": {
          "base_uri": "https://localhost:8080/",
          "height": 306
        }
      },
      "execution_count": 1,
      "outputs": [
        {
          "output_type": "display_data",
          "data": {
            "text/html": [
              "<table class=\"dataframe\">\n",
              "<caption>A data.frame: 6 × 22</caption>\n",
              "<thead>\n",
              "\t<tr><th></th><th scope=col>Country</th><th scope=col>Year</th><th scope=col>Status</th><th scope=col>Life.expectancy</th><th scope=col>Adult.Mortality</th><th scope=col>infant.deaths</th><th scope=col>Alcohol</th><th scope=col>percentage.expenditure</th><th scope=col>Hepatitis.B</th><th scope=col>Measles</th><th scope=col>⋯</th><th scope=col>Polio</th><th scope=col>Total.expenditure</th><th scope=col>Diphtheria</th><th scope=col>HIV.AIDS</th><th scope=col>GDP</th><th scope=col>Population</th><th scope=col>thinness..1.19.years</th><th scope=col>thinness.5.9.years</th><th scope=col>Income.composition.of.resources</th><th scope=col>Schooling</th></tr>\n",
              "\t<tr><th></th><th scope=col>&lt;chr&gt;</th><th scope=col>&lt;int&gt;</th><th scope=col>&lt;chr&gt;</th><th scope=col>&lt;dbl&gt;</th><th scope=col>&lt;int&gt;</th><th scope=col>&lt;int&gt;</th><th scope=col>&lt;dbl&gt;</th><th scope=col>&lt;dbl&gt;</th><th scope=col>&lt;int&gt;</th><th scope=col>&lt;int&gt;</th><th scope=col>⋯</th><th scope=col>&lt;int&gt;</th><th scope=col>&lt;dbl&gt;</th><th scope=col>&lt;int&gt;</th><th scope=col>&lt;dbl&gt;</th><th scope=col>&lt;dbl&gt;</th><th scope=col>&lt;dbl&gt;</th><th scope=col>&lt;dbl&gt;</th><th scope=col>&lt;dbl&gt;</th><th scope=col>&lt;dbl&gt;</th><th scope=col>&lt;dbl&gt;</th></tr>\n",
              "</thead>\n",
              "<tbody>\n",
              "\t<tr><th scope=row>1</th><td>Afghanistan</td><td>2015</td><td>Developing</td><td>65.0</td><td>263</td><td>62</td><td>0.01</td><td>71.279624</td><td>65</td><td>1154</td><td>⋯</td><td> 6</td><td>8.16</td><td>65</td><td>0.1</td><td>584.25921</td><td>33736494</td><td>17.2</td><td>17.3</td><td>0.479</td><td>10.1</td></tr>\n",
              "\t<tr><th scope=row>2</th><td>Afghanistan</td><td>2014</td><td>Developing</td><td>59.9</td><td>271</td><td>64</td><td>0.01</td><td>73.523582</td><td>62</td><td> 492</td><td>⋯</td><td>58</td><td>8.18</td><td>62</td><td>0.1</td><td>612.69651</td><td>  327582</td><td>17.5</td><td>17.5</td><td>0.476</td><td>10.0</td></tr>\n",
              "\t<tr><th scope=row>3</th><td>Afghanistan</td><td>2013</td><td>Developing</td><td>59.9</td><td>268</td><td>66</td><td>0.01</td><td>73.219243</td><td>64</td><td> 430</td><td>⋯</td><td>62</td><td>8.13</td><td>64</td><td>0.1</td><td>631.74498</td><td>31731688</td><td>17.7</td><td>17.7</td><td>0.470</td><td> 9.9</td></tr>\n",
              "\t<tr><th scope=row>4</th><td>Afghanistan</td><td>2012</td><td>Developing</td><td>59.5</td><td>272</td><td>69</td><td>0.01</td><td>78.184215</td><td>67</td><td>2787</td><td>⋯</td><td>67</td><td>8.52</td><td>67</td><td>0.1</td><td>669.95900</td><td> 3696958</td><td>17.9</td><td>18.0</td><td>0.463</td><td> 9.8</td></tr>\n",
              "\t<tr><th scope=row>5</th><td>Afghanistan</td><td>2011</td><td>Developing</td><td>59.2</td><td>275</td><td>71</td><td>0.01</td><td> 7.097109</td><td>68</td><td>3013</td><td>⋯</td><td>68</td><td>7.87</td><td>68</td><td>0.1</td><td> 63.53723</td><td> 2978599</td><td>18.2</td><td>18.2</td><td>0.454</td><td> 9.5</td></tr>\n",
              "\t<tr><th scope=row>6</th><td>Afghanistan</td><td>2010</td><td>Developing</td><td>58.8</td><td>279</td><td>74</td><td>0.01</td><td>79.679367</td><td>66</td><td>1989</td><td>⋯</td><td>66</td><td>9.20</td><td>66</td><td>0.1</td><td>553.32894</td><td> 2883167</td><td>18.4</td><td>18.4</td><td>0.448</td><td> 9.2</td></tr>\n",
              "</tbody>\n",
              "</table>\n"
            ],
            "text/markdown": "\nA data.frame: 6 × 22\n\n| <!--/--> | Country &lt;chr&gt; | Year &lt;int&gt; | Status &lt;chr&gt; | Life.expectancy &lt;dbl&gt; | Adult.Mortality &lt;int&gt; | infant.deaths &lt;int&gt; | Alcohol &lt;dbl&gt; | percentage.expenditure &lt;dbl&gt; | Hepatitis.B &lt;int&gt; | Measles &lt;int&gt; | ⋯ ⋯ | Polio &lt;int&gt; | Total.expenditure &lt;dbl&gt; | Diphtheria &lt;int&gt; | HIV.AIDS &lt;dbl&gt; | GDP &lt;dbl&gt; | Population &lt;dbl&gt; | thinness..1.19.years &lt;dbl&gt; | thinness.5.9.years &lt;dbl&gt; | Income.composition.of.resources &lt;dbl&gt; | Schooling &lt;dbl&gt; |\n|---|---|---|---|---|---|---|---|---|---|---|---|---|---|---|---|---|---|---|---|---|---|\n| 1 | Afghanistan | 2015 | Developing | 65.0 | 263 | 62 | 0.01 | 71.279624 | 65 | 1154 | ⋯ |  6 | 8.16 | 65 | 0.1 | 584.25921 | 33736494 | 17.2 | 17.3 | 0.479 | 10.1 |\n| 2 | Afghanistan | 2014 | Developing | 59.9 | 271 | 64 | 0.01 | 73.523582 | 62 |  492 | ⋯ | 58 | 8.18 | 62 | 0.1 | 612.69651 |   327582 | 17.5 | 17.5 | 0.476 | 10.0 |\n| 3 | Afghanistan | 2013 | Developing | 59.9 | 268 | 66 | 0.01 | 73.219243 | 64 |  430 | ⋯ | 62 | 8.13 | 64 | 0.1 | 631.74498 | 31731688 | 17.7 | 17.7 | 0.470 |  9.9 |\n| 4 | Afghanistan | 2012 | Developing | 59.5 | 272 | 69 | 0.01 | 78.184215 | 67 | 2787 | ⋯ | 67 | 8.52 | 67 | 0.1 | 669.95900 |  3696958 | 17.9 | 18.0 | 0.463 |  9.8 |\n| 5 | Afghanistan | 2011 | Developing | 59.2 | 275 | 71 | 0.01 |  7.097109 | 68 | 3013 | ⋯ | 68 | 7.87 | 68 | 0.1 |  63.53723 |  2978599 | 18.2 | 18.2 | 0.454 |  9.5 |\n| 6 | Afghanistan | 2010 | Developing | 58.8 | 279 | 74 | 0.01 | 79.679367 | 66 | 1989 | ⋯ | 66 | 9.20 | 66 | 0.1 | 553.32894 |  2883167 | 18.4 | 18.4 | 0.448 |  9.2 |\n\n",
            "text/latex": "A data.frame: 6 × 22\n\\begin{tabular}{r|lllllllllllllllllllll}\n  & Country & Year & Status & Life.expectancy & Adult.Mortality & infant.deaths & Alcohol & percentage.expenditure & Hepatitis.B & Measles & ⋯ & Polio & Total.expenditure & Diphtheria & HIV.AIDS & GDP & Population & thinness..1.19.years & thinness.5.9.years & Income.composition.of.resources & Schooling\\\\\n  & <chr> & <int> & <chr> & <dbl> & <int> & <int> & <dbl> & <dbl> & <int> & <int> & ⋯ & <int> & <dbl> & <int> & <dbl> & <dbl> & <dbl> & <dbl> & <dbl> & <dbl> & <dbl>\\\\\n\\hline\n\t1 & Afghanistan & 2015 & Developing & 65.0 & 263 & 62 & 0.01 & 71.279624 & 65 & 1154 & ⋯ &  6 & 8.16 & 65 & 0.1 & 584.25921 & 33736494 & 17.2 & 17.3 & 0.479 & 10.1\\\\\n\t2 & Afghanistan & 2014 & Developing & 59.9 & 271 & 64 & 0.01 & 73.523582 & 62 &  492 & ⋯ & 58 & 8.18 & 62 & 0.1 & 612.69651 &   327582 & 17.5 & 17.5 & 0.476 & 10.0\\\\\n\t3 & Afghanistan & 2013 & Developing & 59.9 & 268 & 66 & 0.01 & 73.219243 & 64 &  430 & ⋯ & 62 & 8.13 & 64 & 0.1 & 631.74498 & 31731688 & 17.7 & 17.7 & 0.470 &  9.9\\\\\n\t4 & Afghanistan & 2012 & Developing & 59.5 & 272 & 69 & 0.01 & 78.184215 & 67 & 2787 & ⋯ & 67 & 8.52 & 67 & 0.1 & 669.95900 &  3696958 & 17.9 & 18.0 & 0.463 &  9.8\\\\\n\t5 & Afghanistan & 2011 & Developing & 59.2 & 275 & 71 & 0.01 &  7.097109 & 68 & 3013 & ⋯ & 68 & 7.87 & 68 & 0.1 &  63.53723 &  2978599 & 18.2 & 18.2 & 0.454 &  9.5\\\\\n\t6 & Afghanistan & 2010 & Developing & 58.8 & 279 & 74 & 0.01 & 79.679367 & 66 & 1989 & ⋯ & 66 & 9.20 & 66 & 0.1 & 553.32894 &  2883167 & 18.4 & 18.4 & 0.448 &  9.2\\\\\n\\end{tabular}\n",
            "text/plain": [
              "  Country     Year Status     Life.expectancy Adult.Mortality infant.deaths\n",
              "1 Afghanistan 2015 Developing 65.0            263             62           \n",
              "2 Afghanistan 2014 Developing 59.9            271             64           \n",
              "3 Afghanistan 2013 Developing 59.9            268             66           \n",
              "4 Afghanistan 2012 Developing 59.5            272             69           \n",
              "5 Afghanistan 2011 Developing 59.2            275             71           \n",
              "6 Afghanistan 2010 Developing 58.8            279             74           \n",
              "  Alcohol percentage.expenditure Hepatitis.B Measles ⋯ Polio Total.expenditure\n",
              "1 0.01    71.279624              65          1154    ⋯  6    8.16             \n",
              "2 0.01    73.523582              62           492    ⋯ 58    8.18             \n",
              "3 0.01    73.219243              64           430    ⋯ 62    8.13             \n",
              "4 0.01    78.184215              67          2787    ⋯ 67    8.52             \n",
              "5 0.01     7.097109              68          3013    ⋯ 68    7.87             \n",
              "6 0.01    79.679367              66          1989    ⋯ 66    9.20             \n",
              "  Diphtheria HIV.AIDS GDP       Population thinness..1.19.years\n",
              "1 65         0.1      584.25921 33736494   17.2                \n",
              "2 62         0.1      612.69651   327582   17.5                \n",
              "3 64         0.1      631.74498 31731688   17.7                \n",
              "4 67         0.1      669.95900  3696958   17.9                \n",
              "5 68         0.1       63.53723  2978599   18.2                \n",
              "6 66         0.1      553.32894  2883167   18.4                \n",
              "  thinness.5.9.years Income.composition.of.resources Schooling\n",
              "1 17.3               0.479                           10.1     \n",
              "2 17.5               0.476                           10.0     \n",
              "3 17.7               0.470                            9.9     \n",
              "4 18.0               0.463                            9.8     \n",
              "5 18.2               0.454                            9.5     \n",
              "6 18.4               0.448                            9.2     "
            ]
          },
          "metadata": {}
        }
      ]
    },
    {
      "cell_type": "code",
      "source": [
        "# Verificar a soma total de valores nulos no dataframe\n",
        "sum(is.na(df))\n"
      ],
      "metadata": {
        "id": "m8FUuZWk5fvt",
        "outputId": "9f05f70d-0fe5-427d-ef60-be6b1b09eb7e",
        "colab": {
          "base_uri": "https://localhost:8080/",
          "height": 34
        }
      },
      "execution_count": 9,
      "outputs": [
        {
          "output_type": "display_data",
          "data": {
            "text/html": [
              "0"
            ],
            "text/markdown": "0",
            "text/latex": "0",
            "text/plain": [
              "[1] 0"
            ]
          },
          "metadata": {}
        }
      ]
    },
    {
      "cell_type": "code",
      "metadata": {
        "kernel": "R",
        "tags": [
          "report_cell"
        ],
        "id": "272f6582",
        "colab": {
          "base_uri": "https://localhost:8080/",
          "height": 306
        },
        "outputId": "c31b3a35-1eb9-4df4-a024-d938d80130fa"
      },
      "source": [
        "df = read.csv('http://meusite.mackenzie.br/rogerio/TIC/Life_Expectancy_Data.csv')\n",
        "df = na.omit(df)\n",
        "head(df)"
      ],
      "execution_count": 8,
      "outputs": [
        {
          "output_type": "display_data",
          "data": {
            "text/html": [
              "<table class=\"dataframe\">\n",
              "<caption>A data.frame: 6 × 22</caption>\n",
              "<thead>\n",
              "\t<tr><th></th><th scope=col>Country</th><th scope=col>Year</th><th scope=col>Status</th><th scope=col>Life.expectancy</th><th scope=col>Adult.Mortality</th><th scope=col>infant.deaths</th><th scope=col>Alcohol</th><th scope=col>percentage.expenditure</th><th scope=col>Hepatitis.B</th><th scope=col>Measles</th><th scope=col>⋯</th><th scope=col>Polio</th><th scope=col>Total.expenditure</th><th scope=col>Diphtheria</th><th scope=col>HIV.AIDS</th><th scope=col>GDP</th><th scope=col>Population</th><th scope=col>thinness..1.19.years</th><th scope=col>thinness.5.9.years</th><th scope=col>Income.composition.of.resources</th><th scope=col>Schooling</th></tr>\n",
              "\t<tr><th></th><th scope=col>&lt;chr&gt;</th><th scope=col>&lt;int&gt;</th><th scope=col>&lt;chr&gt;</th><th scope=col>&lt;dbl&gt;</th><th scope=col>&lt;int&gt;</th><th scope=col>&lt;int&gt;</th><th scope=col>&lt;dbl&gt;</th><th scope=col>&lt;dbl&gt;</th><th scope=col>&lt;int&gt;</th><th scope=col>&lt;int&gt;</th><th scope=col>⋯</th><th scope=col>&lt;int&gt;</th><th scope=col>&lt;dbl&gt;</th><th scope=col>&lt;int&gt;</th><th scope=col>&lt;dbl&gt;</th><th scope=col>&lt;dbl&gt;</th><th scope=col>&lt;dbl&gt;</th><th scope=col>&lt;dbl&gt;</th><th scope=col>&lt;dbl&gt;</th><th scope=col>&lt;dbl&gt;</th><th scope=col>&lt;dbl&gt;</th></tr>\n",
              "</thead>\n",
              "<tbody>\n",
              "\t<tr><th scope=row>1</th><td>Afghanistan</td><td>2015</td><td>Developing</td><td>65.0</td><td>263</td><td>62</td><td>0.01</td><td>71.279624</td><td>65</td><td>1154</td><td>⋯</td><td> 6</td><td>8.16</td><td>65</td><td>0.1</td><td>584.25921</td><td>33736494</td><td>17.2</td><td>17.3</td><td>0.479</td><td>10.1</td></tr>\n",
              "\t<tr><th scope=row>2</th><td>Afghanistan</td><td>2014</td><td>Developing</td><td>59.9</td><td>271</td><td>64</td><td>0.01</td><td>73.523582</td><td>62</td><td> 492</td><td>⋯</td><td>58</td><td>8.18</td><td>62</td><td>0.1</td><td>612.69651</td><td>  327582</td><td>17.5</td><td>17.5</td><td>0.476</td><td>10.0</td></tr>\n",
              "\t<tr><th scope=row>3</th><td>Afghanistan</td><td>2013</td><td>Developing</td><td>59.9</td><td>268</td><td>66</td><td>0.01</td><td>73.219243</td><td>64</td><td> 430</td><td>⋯</td><td>62</td><td>8.13</td><td>64</td><td>0.1</td><td>631.74498</td><td>31731688</td><td>17.7</td><td>17.7</td><td>0.470</td><td> 9.9</td></tr>\n",
              "\t<tr><th scope=row>4</th><td>Afghanistan</td><td>2012</td><td>Developing</td><td>59.5</td><td>272</td><td>69</td><td>0.01</td><td>78.184215</td><td>67</td><td>2787</td><td>⋯</td><td>67</td><td>8.52</td><td>67</td><td>0.1</td><td>669.95900</td><td> 3696958</td><td>17.9</td><td>18.0</td><td>0.463</td><td> 9.8</td></tr>\n",
              "\t<tr><th scope=row>5</th><td>Afghanistan</td><td>2011</td><td>Developing</td><td>59.2</td><td>275</td><td>71</td><td>0.01</td><td> 7.097109</td><td>68</td><td>3013</td><td>⋯</td><td>68</td><td>7.87</td><td>68</td><td>0.1</td><td> 63.53723</td><td> 2978599</td><td>18.2</td><td>18.2</td><td>0.454</td><td> 9.5</td></tr>\n",
              "\t<tr><th scope=row>6</th><td>Afghanistan</td><td>2010</td><td>Developing</td><td>58.8</td><td>279</td><td>74</td><td>0.01</td><td>79.679367</td><td>66</td><td>1989</td><td>⋯</td><td>66</td><td>9.20</td><td>66</td><td>0.1</td><td>553.32894</td><td> 2883167</td><td>18.4</td><td>18.4</td><td>0.448</td><td> 9.2</td></tr>\n",
              "</tbody>\n",
              "</table>\n"
            ],
            "text/markdown": "\nA data.frame: 6 × 22\n\n| <!--/--> | Country &lt;chr&gt; | Year &lt;int&gt; | Status &lt;chr&gt; | Life.expectancy &lt;dbl&gt; | Adult.Mortality &lt;int&gt; | infant.deaths &lt;int&gt; | Alcohol &lt;dbl&gt; | percentage.expenditure &lt;dbl&gt; | Hepatitis.B &lt;int&gt; | Measles &lt;int&gt; | ⋯ ⋯ | Polio &lt;int&gt; | Total.expenditure &lt;dbl&gt; | Diphtheria &lt;int&gt; | HIV.AIDS &lt;dbl&gt; | GDP &lt;dbl&gt; | Population &lt;dbl&gt; | thinness..1.19.years &lt;dbl&gt; | thinness.5.9.years &lt;dbl&gt; | Income.composition.of.resources &lt;dbl&gt; | Schooling &lt;dbl&gt; |\n|---|---|---|---|---|---|---|---|---|---|---|---|---|---|---|---|---|---|---|---|---|---|\n| 1 | Afghanistan | 2015 | Developing | 65.0 | 263 | 62 | 0.01 | 71.279624 | 65 | 1154 | ⋯ |  6 | 8.16 | 65 | 0.1 | 584.25921 | 33736494 | 17.2 | 17.3 | 0.479 | 10.1 |\n| 2 | Afghanistan | 2014 | Developing | 59.9 | 271 | 64 | 0.01 | 73.523582 | 62 |  492 | ⋯ | 58 | 8.18 | 62 | 0.1 | 612.69651 |   327582 | 17.5 | 17.5 | 0.476 | 10.0 |\n| 3 | Afghanistan | 2013 | Developing | 59.9 | 268 | 66 | 0.01 | 73.219243 | 64 |  430 | ⋯ | 62 | 8.13 | 64 | 0.1 | 631.74498 | 31731688 | 17.7 | 17.7 | 0.470 |  9.9 |\n| 4 | Afghanistan | 2012 | Developing | 59.5 | 272 | 69 | 0.01 | 78.184215 | 67 | 2787 | ⋯ | 67 | 8.52 | 67 | 0.1 | 669.95900 |  3696958 | 17.9 | 18.0 | 0.463 |  9.8 |\n| 5 | Afghanistan | 2011 | Developing | 59.2 | 275 | 71 | 0.01 |  7.097109 | 68 | 3013 | ⋯ | 68 | 7.87 | 68 | 0.1 |  63.53723 |  2978599 | 18.2 | 18.2 | 0.454 |  9.5 |\n| 6 | Afghanistan | 2010 | Developing | 58.8 | 279 | 74 | 0.01 | 79.679367 | 66 | 1989 | ⋯ | 66 | 9.20 | 66 | 0.1 | 553.32894 |  2883167 | 18.4 | 18.4 | 0.448 |  9.2 |\n\n",
            "text/latex": "A data.frame: 6 × 22\n\\begin{tabular}{r|lllllllllllllllllllll}\n  & Country & Year & Status & Life.expectancy & Adult.Mortality & infant.deaths & Alcohol & percentage.expenditure & Hepatitis.B & Measles & ⋯ & Polio & Total.expenditure & Diphtheria & HIV.AIDS & GDP & Population & thinness..1.19.years & thinness.5.9.years & Income.composition.of.resources & Schooling\\\\\n  & <chr> & <int> & <chr> & <dbl> & <int> & <int> & <dbl> & <dbl> & <int> & <int> & ⋯ & <int> & <dbl> & <int> & <dbl> & <dbl> & <dbl> & <dbl> & <dbl> & <dbl> & <dbl>\\\\\n\\hline\n\t1 & Afghanistan & 2015 & Developing & 65.0 & 263 & 62 & 0.01 & 71.279624 & 65 & 1154 & ⋯ &  6 & 8.16 & 65 & 0.1 & 584.25921 & 33736494 & 17.2 & 17.3 & 0.479 & 10.1\\\\\n\t2 & Afghanistan & 2014 & Developing & 59.9 & 271 & 64 & 0.01 & 73.523582 & 62 &  492 & ⋯ & 58 & 8.18 & 62 & 0.1 & 612.69651 &   327582 & 17.5 & 17.5 & 0.476 & 10.0\\\\\n\t3 & Afghanistan & 2013 & Developing & 59.9 & 268 & 66 & 0.01 & 73.219243 & 64 &  430 & ⋯ & 62 & 8.13 & 64 & 0.1 & 631.74498 & 31731688 & 17.7 & 17.7 & 0.470 &  9.9\\\\\n\t4 & Afghanistan & 2012 & Developing & 59.5 & 272 & 69 & 0.01 & 78.184215 & 67 & 2787 & ⋯ & 67 & 8.52 & 67 & 0.1 & 669.95900 &  3696958 & 17.9 & 18.0 & 0.463 &  9.8\\\\\n\t5 & Afghanistan & 2011 & Developing & 59.2 & 275 & 71 & 0.01 &  7.097109 & 68 & 3013 & ⋯ & 68 & 7.87 & 68 & 0.1 &  63.53723 &  2978599 & 18.2 & 18.2 & 0.454 &  9.5\\\\\n\t6 & Afghanistan & 2010 & Developing & 58.8 & 279 & 74 & 0.01 & 79.679367 & 66 & 1989 & ⋯ & 66 & 9.20 & 66 & 0.1 & 553.32894 &  2883167 & 18.4 & 18.4 & 0.448 &  9.2\\\\\n\\end{tabular}\n",
            "text/plain": [
              "  Country     Year Status     Life.expectancy Adult.Mortality infant.deaths\n",
              "1 Afghanistan 2015 Developing 65.0            263             62           \n",
              "2 Afghanistan 2014 Developing 59.9            271             64           \n",
              "3 Afghanistan 2013 Developing 59.9            268             66           \n",
              "4 Afghanistan 2012 Developing 59.5            272             69           \n",
              "5 Afghanistan 2011 Developing 59.2            275             71           \n",
              "6 Afghanistan 2010 Developing 58.8            279             74           \n",
              "  Alcohol percentage.expenditure Hepatitis.B Measles ⋯ Polio Total.expenditure\n",
              "1 0.01    71.279624              65          1154    ⋯  6    8.16             \n",
              "2 0.01    73.523582              62           492    ⋯ 58    8.18             \n",
              "3 0.01    73.219243              64           430    ⋯ 62    8.13             \n",
              "4 0.01    78.184215              67          2787    ⋯ 67    8.52             \n",
              "5 0.01     7.097109              68          3013    ⋯ 68    7.87             \n",
              "6 0.01    79.679367              66          1989    ⋯ 66    9.20             \n",
              "  Diphtheria HIV.AIDS GDP       Population thinness..1.19.years\n",
              "1 65         0.1      584.25921 33736494   17.2                \n",
              "2 62         0.1      612.69651   327582   17.5                \n",
              "3 64         0.1      631.74498 31731688   17.7                \n",
              "4 67         0.1      669.95900  3696958   17.9                \n",
              "5 68         0.1       63.53723  2978599   18.2                \n",
              "6 66         0.1      553.32894  2883167   18.4                \n",
              "  thinness.5.9.years Income.composition.of.resources Schooling\n",
              "1 17.3               0.479                           10.1     \n",
              "2 17.5               0.476                           10.0     \n",
              "3 17.7               0.470                            9.9     \n",
              "4 18.0               0.463                            9.8     \n",
              "5 18.2               0.454                            9.5     \n",
              "6 18.4               0.448                            9.2     "
            ]
          },
          "metadata": {}
        }
      ]
    },
    {
      "cell_type": "code",
      "source": [
        "df"
      ],
      "metadata": {
        "id": "JUwCL3CEx2dB",
        "outputId": "591d9897-c380-46de-8549-088c36f074ef",
        "colab": {
          "base_uri": "https://localhost:8080/",
          "height": 1000
        }
      },
      "execution_count": 2,
      "outputs": [
        {
          "output_type": "display_data",
          "data": {
            "text/html": [
              "<table class=\"dataframe\">\n",
              "<caption>A data.frame: 1649 × 22</caption>\n",
              "<thead>\n",
              "\t<tr><th></th><th scope=col>Country</th><th scope=col>Year</th><th scope=col>Status</th><th scope=col>Life.expectancy</th><th scope=col>Adult.Mortality</th><th scope=col>infant.deaths</th><th scope=col>Alcohol</th><th scope=col>percentage.expenditure</th><th scope=col>Hepatitis.B</th><th scope=col>Measles</th><th scope=col>⋯</th><th scope=col>Polio</th><th scope=col>Total.expenditure</th><th scope=col>Diphtheria</th><th scope=col>HIV.AIDS</th><th scope=col>GDP</th><th scope=col>Population</th><th scope=col>thinness..1.19.years</th><th scope=col>thinness.5.9.years</th><th scope=col>Income.composition.of.resources</th><th scope=col>Schooling</th></tr>\n",
              "\t<tr><th></th><th scope=col>&lt;chr&gt;</th><th scope=col>&lt;int&gt;</th><th scope=col>&lt;chr&gt;</th><th scope=col>&lt;dbl&gt;</th><th scope=col>&lt;int&gt;</th><th scope=col>&lt;int&gt;</th><th scope=col>&lt;dbl&gt;</th><th scope=col>&lt;dbl&gt;</th><th scope=col>&lt;int&gt;</th><th scope=col>&lt;int&gt;</th><th scope=col>⋯</th><th scope=col>&lt;int&gt;</th><th scope=col>&lt;dbl&gt;</th><th scope=col>&lt;int&gt;</th><th scope=col>&lt;dbl&gt;</th><th scope=col>&lt;dbl&gt;</th><th scope=col>&lt;dbl&gt;</th><th scope=col>&lt;dbl&gt;</th><th scope=col>&lt;dbl&gt;</th><th scope=col>&lt;dbl&gt;</th><th scope=col>&lt;dbl&gt;</th></tr>\n",
              "</thead>\n",
              "<tbody>\n",
              "\t<tr><th scope=row>1</th><td>Afghanistan</td><td>2015</td><td>Developing</td><td>65.0</td><td>263</td><td>62</td><td>0.01</td><td> 71.279624</td><td>65</td><td>1154</td><td>⋯</td><td> 6</td><td>8.16</td><td>65</td><td>0.1</td><td> 584.25921</td><td>33736494</td><td>17.2</td><td>17.3</td><td>0.479</td><td>10.1</td></tr>\n",
              "\t<tr><th scope=row>2</th><td>Afghanistan</td><td>2014</td><td>Developing</td><td>59.9</td><td>271</td><td>64</td><td>0.01</td><td> 73.523582</td><td>62</td><td> 492</td><td>⋯</td><td>58</td><td>8.18</td><td>62</td><td>0.1</td><td> 612.69651</td><td>  327582</td><td>17.5</td><td>17.5</td><td>0.476</td><td>10.0</td></tr>\n",
              "\t<tr><th scope=row>3</th><td>Afghanistan</td><td>2013</td><td>Developing</td><td>59.9</td><td>268</td><td>66</td><td>0.01</td><td> 73.219243</td><td>64</td><td> 430</td><td>⋯</td><td>62</td><td>8.13</td><td>64</td><td>0.1</td><td> 631.74498</td><td>31731688</td><td>17.7</td><td>17.7</td><td>0.470</td><td> 9.9</td></tr>\n",
              "\t<tr><th scope=row>4</th><td>Afghanistan</td><td>2012</td><td>Developing</td><td>59.5</td><td>272</td><td>69</td><td>0.01</td><td> 78.184215</td><td>67</td><td>2787</td><td>⋯</td><td>67</td><td>8.52</td><td>67</td><td>0.1</td><td> 669.95900</td><td> 3696958</td><td>17.9</td><td>18.0</td><td>0.463</td><td> 9.8</td></tr>\n",
              "\t<tr><th scope=row>5</th><td>Afghanistan</td><td>2011</td><td>Developing</td><td>59.2</td><td>275</td><td>71</td><td>0.01</td><td>  7.097109</td><td>68</td><td>3013</td><td>⋯</td><td>68</td><td>7.87</td><td>68</td><td>0.1</td><td>  63.53723</td><td> 2978599</td><td>18.2</td><td>18.2</td><td>0.454</td><td> 9.5</td></tr>\n",
              "\t<tr><th scope=row>6</th><td>Afghanistan</td><td>2010</td><td>Developing</td><td>58.8</td><td>279</td><td>74</td><td>0.01</td><td> 79.679367</td><td>66</td><td>1989</td><td>⋯</td><td>66</td><td>9.20</td><td>66</td><td>0.1</td><td> 553.32894</td><td> 2883167</td><td>18.4</td><td>18.4</td><td>0.448</td><td> 9.2</td></tr>\n",
              "\t<tr><th scope=row>7</th><td>Afghanistan</td><td>2009</td><td>Developing</td><td>58.6</td><td>281</td><td>77</td><td>0.01</td><td> 56.762217</td><td>63</td><td>2861</td><td>⋯</td><td>63</td><td>9.42</td><td>63</td><td>0.1</td><td> 445.89330</td><td>  284331</td><td>18.6</td><td>18.7</td><td>0.434</td><td> 8.9</td></tr>\n",
              "\t<tr><th scope=row>8</th><td>Afghanistan</td><td>2008</td><td>Developing</td><td>58.1</td><td>287</td><td>80</td><td>0.03</td><td> 25.873925</td><td>64</td><td>1599</td><td>⋯</td><td>64</td><td>8.33</td><td>64</td><td>0.1</td><td> 373.36112</td><td> 2729431</td><td>18.8</td><td>18.9</td><td>0.433</td><td> 8.7</td></tr>\n",
              "\t<tr><th scope=row>9</th><td>Afghanistan</td><td>2007</td><td>Developing</td><td>57.5</td><td>295</td><td>82</td><td>0.02</td><td> 10.910156</td><td>63</td><td>1141</td><td>⋯</td><td>63</td><td>6.73</td><td>63</td><td>0.1</td><td> 369.83580</td><td>26616792</td><td>19.0</td><td>19.1</td><td>0.415</td><td> 8.4</td></tr>\n",
              "\t<tr><th scope=row>10</th><td>Afghanistan</td><td>2006</td><td>Developing</td><td>57.3</td><td>295</td><td>84</td><td>0.03</td><td> 17.171518</td><td>64</td><td>1990</td><td>⋯</td><td>58</td><td>7.43</td><td>58</td><td>0.1</td><td> 272.56377</td><td> 2589345</td><td>19.2</td><td>19.3</td><td>0.405</td><td> 8.1</td></tr>\n",
              "\t<tr><th scope=row>11</th><td>Afghanistan</td><td>2005</td><td>Developing</td><td>57.3</td><td>291</td><td>85</td><td>0.02</td><td>  1.388648</td><td>66</td><td>1296</td><td>⋯</td><td>58</td><td>8.70</td><td>58</td><td>0.1</td><td>  25.29413</td><td>  257798</td><td>19.3</td><td>19.5</td><td>0.396</td><td> 7.9</td></tr>\n",
              "\t<tr><th scope=row>12</th><td>Afghanistan</td><td>2004</td><td>Developing</td><td>57.0</td><td>293</td><td>87</td><td>0.02</td><td> 15.296066</td><td>67</td><td> 466</td><td>⋯</td><td> 5</td><td>8.79</td><td> 5</td><td>0.1</td><td> 219.14135</td><td>24118979</td><td>19.5</td><td>19.7</td><td>0.381</td><td> 6.8</td></tr>\n",
              "\t<tr><th scope=row>13</th><td>Afghanistan</td><td>2003</td><td>Developing</td><td>56.7</td><td>295</td><td>87</td><td>0.01</td><td> 11.089053</td><td>65</td><td> 798</td><td>⋯</td><td>41</td><td>8.82</td><td>41</td><td>0.1</td><td> 198.72854</td><td> 2364851</td><td>19.7</td><td>19.9</td><td>0.373</td><td> 6.5</td></tr>\n",
              "\t<tr><th scope=row>14</th><td>Afghanistan</td><td>2002</td><td>Developing</td><td>56.2</td><td>  3</td><td>88</td><td>0.01</td><td> 16.887351</td><td>64</td><td>2486</td><td>⋯</td><td>36</td><td>7.76</td><td>36</td><td>0.1</td><td> 187.84595</td><td>21979923</td><td>19.9</td><td> 2.2</td><td>0.341</td><td> 6.2</td></tr>\n",
              "\t<tr><th scope=row>15</th><td>Afghanistan</td><td>2001</td><td>Developing</td><td>55.3</td><td>316</td><td>88</td><td>0.01</td><td> 10.574728</td><td>63</td><td>8762</td><td>⋯</td><td>35</td><td>7.80</td><td>33</td><td>0.1</td><td> 117.49698</td><td> 2966463</td><td> 2.1</td><td> 2.4</td><td>0.340</td><td> 5.9</td></tr>\n",
              "\t<tr><th scope=row>16</th><td>Afghanistan</td><td>2000</td><td>Developing</td><td>54.8</td><td>321</td><td>88</td><td>0.01</td><td> 10.424960</td><td>62</td><td>6532</td><td>⋯</td><td>24</td><td>8.20</td><td>24</td><td>0.1</td><td> 114.56000</td><td>  293756</td><td> 2.3</td><td> 2.5</td><td>0.338</td><td> 5.5</td></tr>\n",
              "\t<tr><th scope=row>17</th><td>Albania    </td><td>2015</td><td>Developing</td><td>77.8</td><td> 74</td><td> 0</td><td>4.60</td><td>364.975229</td><td>99</td><td>   0</td><td>⋯</td><td>99</td><td>6.00</td><td>99</td><td>0.1</td><td>3954.22783</td><td>   28873</td><td> 1.2</td><td> 1.3</td><td>0.762</td><td>14.2</td></tr>\n",
              "\t<tr><th scope=row>18</th><td>Albania    </td><td>2014</td><td>Developing</td><td>77.5</td><td>  8</td><td> 0</td><td>4.51</td><td>428.749067</td><td>98</td><td>   0</td><td>⋯</td><td>98</td><td>5.88</td><td>98</td><td>0.1</td><td>4575.76379</td><td>  288914</td><td> 1.2</td><td> 1.3</td><td>0.761</td><td>14.2</td></tr>\n",
              "\t<tr><th scope=row>19</th><td>Albania    </td><td>2013</td><td>Developing</td><td>77.2</td><td> 84</td><td> 0</td><td>4.76</td><td>430.876979</td><td>99</td><td>   0</td><td>⋯</td><td>99</td><td>5.66</td><td>99</td><td>0.1</td><td>4414.72314</td><td>  289592</td><td> 1.3</td><td> 1.4</td><td>0.759</td><td>14.2</td></tr>\n",
              "\t<tr><th scope=row>20</th><td>Albania    </td><td>2012</td><td>Developing</td><td>76.9</td><td> 86</td><td> 0</td><td>5.14</td><td>412.443356</td><td>99</td><td>   9</td><td>⋯</td><td>99</td><td>5.59</td><td>99</td><td>0.1</td><td>4247.61438</td><td>    2941</td><td> 1.3</td><td> 1.4</td><td>0.752</td><td>14.2</td></tr>\n",
              "\t<tr><th scope=row>21</th><td>Albania    </td><td>2011</td><td>Developing</td><td>76.6</td><td> 88</td><td> 0</td><td>5.37</td><td>437.062100</td><td>99</td><td>  28</td><td>⋯</td><td>99</td><td>5.71</td><td>99</td><td>0.1</td><td>4437.17868</td><td>  295195</td><td> 1.4</td><td> 1.5</td><td>0.738</td><td>13.3</td></tr>\n",
              "\t<tr><th scope=row>22</th><td>Albania    </td><td>2010</td><td>Developing</td><td>76.2</td><td> 91</td><td> 1</td><td>5.28</td><td> 41.822757</td><td>99</td><td>  10</td><td>⋯</td><td>99</td><td>5.34</td><td>99</td><td>0.1</td><td> 494.35883</td><td>  291321</td><td> 1.4</td><td> 1.5</td><td>0.725</td><td>12.5</td></tr>\n",
              "\t<tr><th scope=row>23</th><td>Albania    </td><td>2009</td><td>Developing</td><td>76.1</td><td> 91</td><td> 1</td><td>5.79</td><td>348.055952</td><td>98</td><td>   0</td><td>⋯</td><td>98</td><td>5.79</td><td>98</td><td>0.1</td><td>4114.13655</td><td> 2927519</td><td> 1.5</td><td> 1.6</td><td>0.721</td><td>12.2</td></tr>\n",
              "\t<tr><th scope=row>24</th><td>Albania    </td><td>2008</td><td>Developing</td><td>75.3</td><td>  1</td><td> 1</td><td>5.61</td><td> 36.622068</td><td>99</td><td>   0</td><td>⋯</td><td>99</td><td>5.87</td><td>99</td><td>0.1</td><td> 437.53965</td><td> 2947314</td><td> 1.6</td><td> 1.6</td><td>0.713</td><td>12.0</td></tr>\n",
              "\t<tr><th scope=row>25</th><td>Albania    </td><td>2007</td><td>Developing</td><td>75.9</td><td>  9</td><td> 1</td><td>5.58</td><td> 32.246552</td><td>98</td><td>  22</td><td>⋯</td><td>99</td><td>6.10</td><td>98</td><td>0.1</td><td> 363.13685</td><td>   29717</td><td> 1.6</td><td> 1.7</td><td>0.703</td><td>11.6</td></tr>\n",
              "\t<tr><th scope=row>26</th><td>Albania    </td><td>2006</td><td>Developing</td><td>74.2</td><td> 99</td><td> 1</td><td>5.31</td><td>  3.302154</td><td>98</td><td>  68</td><td>⋯</td><td>97</td><td>5.86</td><td>97</td><td>0.1</td><td>  35.12930</td><td> 2992547</td><td> 1.7</td><td> 1.8</td><td>0.696</td><td>11.4</td></tr>\n",
              "\t<tr><th scope=row>27</th><td>Albania    </td><td>2005</td><td>Developing</td><td>73.5</td><td> 15</td><td> 1</td><td>5.16</td><td> 26.993121</td><td>98</td><td>   6</td><td>⋯</td><td>97</td><td>6.12</td><td>98</td><td>0.1</td><td> 279.14293</td><td>  311487</td><td> 1.8</td><td> 1.8</td><td>0.685</td><td>10.8</td></tr>\n",
              "\t<tr><th scope=row>28</th><td>Albania    </td><td>2004</td><td>Developing</td><td>73.0</td><td> 17</td><td> 1</td><td>4.54</td><td>221.842800</td><td>99</td><td>   7</td><td>⋯</td><td>98</td><td>6.38</td><td>97</td><td>0.1</td><td>2416.58824</td><td>  326939</td><td> 1.8</td><td> 1.9</td><td>0.681</td><td>10.9</td></tr>\n",
              "\t<tr><th scope=row>29</th><td>Albania    </td><td>2003</td><td>Developing</td><td>72.8</td><td> 18</td><td> 1</td><td>4.29</td><td> 14.719289</td><td>97</td><td>   8</td><td>⋯</td><td>97</td><td>6.27</td><td>97</td><td>0.1</td><td> 189.68156</td><td>  339616</td><td> 1.9</td><td> 2.0</td><td>0.674</td><td>10.7</td></tr>\n",
              "\t<tr><th scope=row>30</th><td>Albania    </td><td>2002</td><td>Developing</td><td>73.3</td><td> 15</td><td> 1</td><td>3.73</td><td>104.516916</td><td>96</td><td>  16</td><td>⋯</td><td>98</td><td>6.30</td><td>98</td><td>0.1</td><td>1453.64278</td><td>    3511</td><td> 2.0</td><td> 2.1</td><td>0.670</td><td>10.7</td></tr>\n",
              "\t<tr><th scope=row>⋮</th><td>⋮</td><td>⋮</td><td>⋮</td><td>⋮</td><td>⋮</td><td>⋮</td><td>⋮</td><td>⋮</td><td>⋮</td><td>⋮</td><td>⋱</td><td>⋮</td><td>⋮</td><td>⋮</td><td>⋮</td><td>⋮</td><td>⋮</td><td>⋮</td><td>⋮</td><td>⋮</td><td>⋮</td></tr>\n",
              "\t<tr><th scope=row>2854</th><td>Vanuatu </td><td>2004</td><td>Developing</td><td>69.6</td><td>169</td><td> 0</td><td>0.85</td><td>334.167337</td><td>63</td><td>    0</td><td>⋯</td><td>67</td><td>4.12</td><td>69</td><td> 0.1</td><td>1787.94723</td><td>   24143</td><td> 1.6</td><td> 1.5</td><td>0.000</td><td>10.7</td></tr>\n",
              "\t<tr><th scope=row>2855</th><td>Vanuatu </td><td>2003</td><td>Developing</td><td>69.4</td><td>173</td><td> 0</td><td>1.20</td><td> 27.298391</td><td>64</td><td>  165</td><td>⋯</td><td>67</td><td>4.20</td><td>69</td><td> 0.1</td><td> 158.52724</td><td>  198964</td><td> 1.6</td><td> 1.6</td><td>0.000</td><td>10.4</td></tr>\n",
              "\t<tr><th scope=row>2856</th><td>Vanuatu </td><td>2002</td><td>Developing</td><td>69.3</td><td>176</td><td> 0</td><td>1.24</td><td>171.137361</td><td>66</td><td>  101</td><td>⋯</td><td>67</td><td>3.52</td><td> 7</td><td> 0.1</td><td>1353.93482</td><td>  193956</td><td> 1.7</td><td> 1.6</td><td>0.000</td><td>10.2</td></tr>\n",
              "\t<tr><th scope=row>2857</th><td>Vanuatu </td><td>2001</td><td>Developing</td><td>69.1</td><td>179</td><td> 0</td><td>0.91</td><td>163.105292</td><td>68</td><td>    7</td><td>⋯</td><td>67</td><td>3.37</td><td> 7</td><td> 0.1</td><td>1362.61731</td><td>   18929</td><td> 1.7</td><td> 1.6</td><td>0.000</td><td>10.1</td></tr>\n",
              "\t<tr><th scope=row>2858</th><td>Vanuatu </td><td>2000</td><td>Developing</td><td>69.0</td><td> 18</td><td> 0</td><td>1.21</td><td> 21.900752</td><td> 7</td><td>    9</td><td>⋯</td><td>67</td><td>3.28</td><td>71</td><td> 0.1</td><td>1469.84915</td><td>   18563</td><td> 1.7</td><td> 1.7</td><td>0.000</td><td> 9.6</td></tr>\n",
              "\t<tr><th scope=row>2908</th><td>Zambia  </td><td>2014</td><td>Developing</td><td>61.1</td><td>314</td><td>28</td><td>0.01</td><td>196.667577</td><td>86</td><td>    9</td><td>⋯</td><td>78</td><td>4.99</td><td>86</td><td> 4.3</td><td>1738.88220</td><td> 1562974</td><td> 6.3</td><td> 6.2</td><td>0.570</td><td>12.5</td></tr>\n",
              "\t<tr><th scope=row>2909</th><td>Zambia  </td><td>2013</td><td>Developing</td><td>63.0</td><td>328</td><td>29</td><td>2.41</td><td> 20.623063</td><td>79</td><td>   35</td><td>⋯</td><td>74</td><td>4.99</td><td>79</td><td> 4.8</td><td> 185.79336</td><td> 1515321</td><td> 6.4</td><td> 6.2</td><td>0.565</td><td>12.5</td></tr>\n",
              "\t<tr><th scope=row>2910</th><td>Zambia  </td><td>2012</td><td>Developing</td><td>59.2</td><td>349</td><td>29</td><td>2.59</td><td>196.915250</td><td>78</td><td>  896</td><td>⋯</td><td> 7</td><td>4.91</td><td>78</td><td> 5.6</td><td>1734.93612</td><td>14699937</td><td> 6.5</td><td> 6.3</td><td>0.554</td><td>12.3</td></tr>\n",
              "\t<tr><th scope=row>2911</th><td>Zambia  </td><td>2011</td><td>Developing</td><td>58.2</td><td>366</td><td>29</td><td>2.57</td><td>183.046169</td><td>81</td><td>13234</td><td>⋯</td><td>83</td><td>4.26</td><td>81</td><td> 6.3</td><td>1644.61967</td><td>14264756</td><td> 6.6</td><td> 6.4</td><td>0.543</td><td>12.0</td></tr>\n",
              "\t<tr><th scope=row>2912</th><td>Zambia  </td><td>2010</td><td>Developing</td><td>58.0</td><td>363</td><td>30</td><td>2.47</td><td>184.364910</td><td>83</td><td>15754</td><td>⋯</td><td> 8</td><td>4.41</td><td>83</td><td> 6.8</td><td>1463.21357</td><td>  138533</td><td> 6.7</td><td> 6.5</td><td>0.533</td><td>11.8</td></tr>\n",
              "\t<tr><th scope=row>2913</th><td>Zambia  </td><td>2009</td><td>Developing</td><td>57.4</td><td>368</td><td>30</td><td>2.30</td><td>143.869887</td><td>94</td><td>   26</td><td>⋯</td><td>93</td><td>4.73</td><td>94</td><td> 9.1</td><td>1139.11233</td><td>13456417</td><td> 6.7</td><td> 6.6</td><td>0.518</td><td>11.6</td></tr>\n",
              "\t<tr><th scope=row>2914</th><td>Zambia  </td><td>2008</td><td>Developing</td><td>55.7</td><td> 45</td><td>31</td><td>2.12</td><td>153.678375</td><td>87</td><td>  140</td><td>⋯</td><td> 9</td><td>4.87</td><td>87</td><td>11.9</td><td>1369.68249</td><td> 1382517</td><td> 6.8</td><td> 6.7</td><td>0.504</td><td>11.4</td></tr>\n",
              "\t<tr><th scope=row>2915</th><td>Zambia  </td><td>2007</td><td>Developing</td><td>52.6</td><td>487</td><td>32</td><td>2.08</td><td> 10.851482</td><td> 8</td><td>  535</td><td>⋯</td><td>77</td><td>4.37</td><td> 8</td><td>13.6</td><td> 114.58799</td><td>12725974</td><td> 6.9</td><td> 6.8</td><td>0.492</td><td>11.1</td></tr>\n",
              "\t<tr><th scope=row>2916</th><td>Zambia  </td><td>2006</td><td>Developing</td><td>58.0</td><td>526</td><td>33</td><td>2.25</td><td>  1.860004</td><td>81</td><td>  459</td><td>⋯</td><td>83</td><td>6.11</td><td>81</td><td>15.9</td><td>  13.15420</td><td>12383446</td><td> 7.0</td><td> 6.9</td><td>0.479</td><td>10.9</td></tr>\n",
              "\t<tr><th scope=row>2917</th><td>Zambia  </td><td>2005</td><td>Developing</td><td>49.3</td><td>554</td><td>34</td><td>2.33</td><td>121.879331</td><td>82</td><td>   45</td><td>⋯</td><td>84</td><td>7.56</td><td>82</td><td>17.0</td><td> 691.31782</td><td> 1252156</td><td> 7.1</td><td> 7.0</td><td>0.467</td><td>10.7</td></tr>\n",
              "\t<tr><th scope=row>2924</th><td>Zimbabwe</td><td>2014</td><td>Developing</td><td>59.2</td><td>371</td><td>23</td><td>6.50</td><td> 10.822595</td><td>91</td><td>    0</td><td>⋯</td><td>92</td><td>6.44</td><td>91</td><td> 6.3</td><td> 127.47462</td><td>15411675</td><td> 5.9</td><td> 5.7</td><td>0.498</td><td>10.3</td></tr>\n",
              "\t<tr><th scope=row>2925</th><td>Zimbabwe</td><td>2013</td><td>Developing</td><td>58.0</td><td>399</td><td>25</td><td>6.39</td><td> 10.666707</td><td>95</td><td>    0</td><td>⋯</td><td>95</td><td>6.88</td><td>95</td><td> 6.8</td><td> 111.22740</td><td>  155456</td><td> 6.2</td><td> 6.0</td><td>0.488</td><td>10.4</td></tr>\n",
              "\t<tr><th scope=row>2926</th><td>Zimbabwe</td><td>2012</td><td>Developing</td><td>56.6</td><td>429</td><td>26</td><td>6.09</td><td> 92.602336</td><td>97</td><td>    0</td><td>⋯</td><td>95</td><td>6.69</td><td>95</td><td> 8.8</td><td> 955.64847</td><td> 1471826</td><td> 6.5</td><td> 6.4</td><td>0.464</td><td> 9.8</td></tr>\n",
              "\t<tr><th scope=row>2927</th><td>Zimbabwe</td><td>2011</td><td>Developing</td><td>54.9</td><td>464</td><td>28</td><td>6.00</td><td> 63.750530</td><td>94</td><td>    0</td><td>⋯</td><td>93</td><td>6.31</td><td>93</td><td>13.3</td><td> 839.92794</td><td>14386649</td><td> 6.8</td><td> 6.7</td><td>0.452</td><td>10.1</td></tr>\n",
              "\t<tr><th scope=row>2928</th><td>Zimbabwe</td><td>2010</td><td>Developing</td><td>52.4</td><td>527</td><td>29</td><td>5.21</td><td> 53.308581</td><td> 9</td><td> 9696</td><td>⋯</td><td>89</td><td>5.37</td><td>89</td><td>15.7</td><td> 713.63562</td><td> 1486317</td><td> 7.1</td><td> 7.0</td><td>0.436</td><td>10.0</td></tr>\n",
              "\t<tr><th scope=row>2929</th><td>Zimbabwe</td><td>2009</td><td>Developing</td><td>50.0</td><td>587</td><td>30</td><td>4.64</td><td>  1.040021</td><td>73</td><td>  853</td><td>⋯</td><td>69</td><td>6.26</td><td>73</td><td>18.1</td><td>  65.82412</td><td> 1381599</td><td> 7.5</td><td> 7.4</td><td>0.419</td><td> 9.9</td></tr>\n",
              "\t<tr><th scope=row>2930</th><td>Zimbabwe</td><td>2008</td><td>Developing</td><td>48.2</td><td>632</td><td>30</td><td>3.56</td><td> 20.843429</td><td>75</td><td>    0</td><td>⋯</td><td>75</td><td>4.96</td><td>75</td><td>20.5</td><td> 325.67857</td><td>13558469</td><td> 7.8</td><td> 7.8</td><td>0.421</td><td> 9.7</td></tr>\n",
              "\t<tr><th scope=row>2931</th><td>Zimbabwe</td><td>2007</td><td>Developing</td><td>46.6</td><td> 67</td><td>29</td><td>3.88</td><td> 29.814566</td><td>72</td><td>  242</td><td>⋯</td><td>73</td><td>4.47</td><td>73</td><td>23.7</td><td> 396.99822</td><td> 1332999</td><td> 8.2</td><td> 8.2</td><td>0.414</td><td> 9.6</td></tr>\n",
              "\t<tr><th scope=row>2932</th><td>Zimbabwe</td><td>2006</td><td>Developing</td><td>45.4</td><td>  7</td><td>28</td><td>4.57</td><td> 34.262169</td><td>68</td><td>  212</td><td>⋯</td><td>71</td><td>5.12</td><td> 7</td><td>26.8</td><td> 414.79623</td><td>13124267</td><td> 8.6</td><td> 8.6</td><td>0.408</td><td> 9.5</td></tr>\n",
              "\t<tr><th scope=row>2933</th><td>Zimbabwe</td><td>2005</td><td>Developing</td><td>44.6</td><td>717</td><td>28</td><td>4.14</td><td>  8.717409</td><td>65</td><td>  420</td><td>⋯</td><td>69</td><td>6.44</td><td>68</td><td>30.3</td><td> 444.76575</td><td>  129432</td><td> 9.0</td><td> 9.0</td><td>0.406</td><td> 9.3</td></tr>\n",
              "\t<tr><th scope=row>2934</th><td>Zimbabwe</td><td>2004</td><td>Developing</td><td>44.3</td><td>723</td><td>27</td><td>4.36</td><td>  0.000000</td><td>68</td><td>   31</td><td>⋯</td><td>67</td><td>7.13</td><td>65</td><td>33.6</td><td> 454.36665</td><td>12777511</td><td> 9.4</td><td> 9.4</td><td>0.407</td><td> 9.2</td></tr>\n",
              "\t<tr><th scope=row>2935</th><td>Zimbabwe</td><td>2003</td><td>Developing</td><td>44.5</td><td>715</td><td>26</td><td>4.06</td><td>  0.000000</td><td> 7</td><td>  998</td><td>⋯</td><td> 7</td><td>6.52</td><td>68</td><td>36.7</td><td> 453.35116</td><td>12633897</td><td> 9.8</td><td> 9.9</td><td>0.418</td><td> 9.5</td></tr>\n",
              "\t<tr><th scope=row>2936</th><td>Zimbabwe</td><td>2002</td><td>Developing</td><td>44.8</td><td> 73</td><td>25</td><td>4.43</td><td>  0.000000</td><td>73</td><td>  304</td><td>⋯</td><td>73</td><td>6.53</td><td>71</td><td>39.8</td><td>  57.34834</td><td>  125525</td><td> 1.2</td><td> 1.3</td><td>0.427</td><td>10.0</td></tr>\n",
              "\t<tr><th scope=row>2937</th><td>Zimbabwe</td><td>2001</td><td>Developing</td><td>45.3</td><td>686</td><td>25</td><td>1.72</td><td>  0.000000</td><td>76</td><td>  529</td><td>⋯</td><td>76</td><td>6.16</td><td>75</td><td>42.1</td><td> 548.58731</td><td>12366165</td><td> 1.6</td><td> 1.7</td><td>0.427</td><td> 9.8</td></tr>\n",
              "\t<tr><th scope=row>2938</th><td>Zimbabwe</td><td>2000</td><td>Developing</td><td>46.0</td><td>665</td><td>24</td><td>1.68</td><td>  0.000000</td><td>79</td><td> 1483</td><td>⋯</td><td>78</td><td>7.10</td><td>78</td><td>43.5</td><td> 547.35888</td><td>12222251</td><td>11.0</td><td>11.2</td><td>0.434</td><td> 9.8</td></tr>\n",
              "</tbody>\n",
              "</table>\n"
            ],
            "text/markdown": "\nA data.frame: 1649 × 22\n\n| <!--/--> | Country &lt;chr&gt; | Year &lt;int&gt; | Status &lt;chr&gt; | Life.expectancy &lt;dbl&gt; | Adult.Mortality &lt;int&gt; | infant.deaths &lt;int&gt; | Alcohol &lt;dbl&gt; | percentage.expenditure &lt;dbl&gt; | Hepatitis.B &lt;int&gt; | Measles &lt;int&gt; | ⋯ ⋯ | Polio &lt;int&gt; | Total.expenditure &lt;dbl&gt; | Diphtheria &lt;int&gt; | HIV.AIDS &lt;dbl&gt; | GDP &lt;dbl&gt; | Population &lt;dbl&gt; | thinness..1.19.years &lt;dbl&gt; | thinness.5.9.years &lt;dbl&gt; | Income.composition.of.resources &lt;dbl&gt; | Schooling &lt;dbl&gt; |\n|---|---|---|---|---|---|---|---|---|---|---|---|---|---|---|---|---|---|---|---|---|---|\n| 1 | Afghanistan | 2015 | Developing | 65.0 | 263 | 62 | 0.01 |  71.279624 | 65 | 1154 | ⋯ |  6 | 8.16 | 65 | 0.1 |  584.25921 | 33736494 | 17.2 | 17.3 | 0.479 | 10.1 |\n| 2 | Afghanistan | 2014 | Developing | 59.9 | 271 | 64 | 0.01 |  73.523582 | 62 |  492 | ⋯ | 58 | 8.18 | 62 | 0.1 |  612.69651 |   327582 | 17.5 | 17.5 | 0.476 | 10.0 |\n| 3 | Afghanistan | 2013 | Developing | 59.9 | 268 | 66 | 0.01 |  73.219243 | 64 |  430 | ⋯ | 62 | 8.13 | 64 | 0.1 |  631.74498 | 31731688 | 17.7 | 17.7 | 0.470 |  9.9 |\n| 4 | Afghanistan | 2012 | Developing | 59.5 | 272 | 69 | 0.01 |  78.184215 | 67 | 2787 | ⋯ | 67 | 8.52 | 67 | 0.1 |  669.95900 |  3696958 | 17.9 | 18.0 | 0.463 |  9.8 |\n| 5 | Afghanistan | 2011 | Developing | 59.2 | 275 | 71 | 0.01 |   7.097109 | 68 | 3013 | ⋯ | 68 | 7.87 | 68 | 0.1 |   63.53723 |  2978599 | 18.2 | 18.2 | 0.454 |  9.5 |\n| 6 | Afghanistan | 2010 | Developing | 58.8 | 279 | 74 | 0.01 |  79.679367 | 66 | 1989 | ⋯ | 66 | 9.20 | 66 | 0.1 |  553.32894 |  2883167 | 18.4 | 18.4 | 0.448 |  9.2 |\n| 7 | Afghanistan | 2009 | Developing | 58.6 | 281 | 77 | 0.01 |  56.762217 | 63 | 2861 | ⋯ | 63 | 9.42 | 63 | 0.1 |  445.89330 |   284331 | 18.6 | 18.7 | 0.434 |  8.9 |\n| 8 | Afghanistan | 2008 | Developing | 58.1 | 287 | 80 | 0.03 |  25.873925 | 64 | 1599 | ⋯ | 64 | 8.33 | 64 | 0.1 |  373.36112 |  2729431 | 18.8 | 18.9 | 0.433 |  8.7 |\n| 9 | Afghanistan | 2007 | Developing | 57.5 | 295 | 82 | 0.02 |  10.910156 | 63 | 1141 | ⋯ | 63 | 6.73 | 63 | 0.1 |  369.83580 | 26616792 | 19.0 | 19.1 | 0.415 |  8.4 |\n| 10 | Afghanistan | 2006 | Developing | 57.3 | 295 | 84 | 0.03 |  17.171518 | 64 | 1990 | ⋯ | 58 | 7.43 | 58 | 0.1 |  272.56377 |  2589345 | 19.2 | 19.3 | 0.405 |  8.1 |\n| 11 | Afghanistan | 2005 | Developing | 57.3 | 291 | 85 | 0.02 |   1.388648 | 66 | 1296 | ⋯ | 58 | 8.70 | 58 | 0.1 |   25.29413 |   257798 | 19.3 | 19.5 | 0.396 |  7.9 |\n| 12 | Afghanistan | 2004 | Developing | 57.0 | 293 | 87 | 0.02 |  15.296066 | 67 |  466 | ⋯ |  5 | 8.79 |  5 | 0.1 |  219.14135 | 24118979 | 19.5 | 19.7 | 0.381 |  6.8 |\n| 13 | Afghanistan | 2003 | Developing | 56.7 | 295 | 87 | 0.01 |  11.089053 | 65 |  798 | ⋯ | 41 | 8.82 | 41 | 0.1 |  198.72854 |  2364851 | 19.7 | 19.9 | 0.373 |  6.5 |\n| 14 | Afghanistan | 2002 | Developing | 56.2 |   3 | 88 | 0.01 |  16.887351 | 64 | 2486 | ⋯ | 36 | 7.76 | 36 | 0.1 |  187.84595 | 21979923 | 19.9 |  2.2 | 0.341 |  6.2 |\n| 15 | Afghanistan | 2001 | Developing | 55.3 | 316 | 88 | 0.01 |  10.574728 | 63 | 8762 | ⋯ | 35 | 7.80 | 33 | 0.1 |  117.49698 |  2966463 |  2.1 |  2.4 | 0.340 |  5.9 |\n| 16 | Afghanistan | 2000 | Developing | 54.8 | 321 | 88 | 0.01 |  10.424960 | 62 | 6532 | ⋯ | 24 | 8.20 | 24 | 0.1 |  114.56000 |   293756 |  2.3 |  2.5 | 0.338 |  5.5 |\n| 17 | Albania     | 2015 | Developing | 77.8 |  74 |  0 | 4.60 | 364.975229 | 99 |    0 | ⋯ | 99 | 6.00 | 99 | 0.1 | 3954.22783 |    28873 |  1.2 |  1.3 | 0.762 | 14.2 |\n| 18 | Albania     | 2014 | Developing | 77.5 |   8 |  0 | 4.51 | 428.749067 | 98 |    0 | ⋯ | 98 | 5.88 | 98 | 0.1 | 4575.76379 |   288914 |  1.2 |  1.3 | 0.761 | 14.2 |\n| 19 | Albania     | 2013 | Developing | 77.2 |  84 |  0 | 4.76 | 430.876979 | 99 |    0 | ⋯ | 99 | 5.66 | 99 | 0.1 | 4414.72314 |   289592 |  1.3 |  1.4 | 0.759 | 14.2 |\n| 20 | Albania     | 2012 | Developing | 76.9 |  86 |  0 | 5.14 | 412.443356 | 99 |    9 | ⋯ | 99 | 5.59 | 99 | 0.1 | 4247.61438 |     2941 |  1.3 |  1.4 | 0.752 | 14.2 |\n| 21 | Albania     | 2011 | Developing | 76.6 |  88 |  0 | 5.37 | 437.062100 | 99 |   28 | ⋯ | 99 | 5.71 | 99 | 0.1 | 4437.17868 |   295195 |  1.4 |  1.5 | 0.738 | 13.3 |\n| 22 | Albania     | 2010 | Developing | 76.2 |  91 |  1 | 5.28 |  41.822757 | 99 |   10 | ⋯ | 99 | 5.34 | 99 | 0.1 |  494.35883 |   291321 |  1.4 |  1.5 | 0.725 | 12.5 |\n| 23 | Albania     | 2009 | Developing | 76.1 |  91 |  1 | 5.79 | 348.055952 | 98 |    0 | ⋯ | 98 | 5.79 | 98 | 0.1 | 4114.13655 |  2927519 |  1.5 |  1.6 | 0.721 | 12.2 |\n| 24 | Albania     | 2008 | Developing | 75.3 |   1 |  1 | 5.61 |  36.622068 | 99 |    0 | ⋯ | 99 | 5.87 | 99 | 0.1 |  437.53965 |  2947314 |  1.6 |  1.6 | 0.713 | 12.0 |\n| 25 | Albania     | 2007 | Developing | 75.9 |   9 |  1 | 5.58 |  32.246552 | 98 |   22 | ⋯ | 99 | 6.10 | 98 | 0.1 |  363.13685 |    29717 |  1.6 |  1.7 | 0.703 | 11.6 |\n| 26 | Albania     | 2006 | Developing | 74.2 |  99 |  1 | 5.31 |   3.302154 | 98 |   68 | ⋯ | 97 | 5.86 | 97 | 0.1 |   35.12930 |  2992547 |  1.7 |  1.8 | 0.696 | 11.4 |\n| 27 | Albania     | 2005 | Developing | 73.5 |  15 |  1 | 5.16 |  26.993121 | 98 |    6 | ⋯ | 97 | 6.12 | 98 | 0.1 |  279.14293 |   311487 |  1.8 |  1.8 | 0.685 | 10.8 |\n| 28 | Albania     | 2004 | Developing | 73.0 |  17 |  1 | 4.54 | 221.842800 | 99 |    7 | ⋯ | 98 | 6.38 | 97 | 0.1 | 2416.58824 |   326939 |  1.8 |  1.9 | 0.681 | 10.9 |\n| 29 | Albania     | 2003 | Developing | 72.8 |  18 |  1 | 4.29 |  14.719289 | 97 |    8 | ⋯ | 97 | 6.27 | 97 | 0.1 |  189.68156 |   339616 |  1.9 |  2.0 | 0.674 | 10.7 |\n| 30 | Albania     | 2002 | Developing | 73.3 |  15 |  1 | 3.73 | 104.516916 | 96 |   16 | ⋯ | 98 | 6.30 | 98 | 0.1 | 1453.64278 |     3511 |  2.0 |  2.1 | 0.670 | 10.7 |\n| ⋮ | ⋮ | ⋮ | ⋮ | ⋮ | ⋮ | ⋮ | ⋮ | ⋮ | ⋮ | ⋮ | ⋱ | ⋮ | ⋮ | ⋮ | ⋮ | ⋮ | ⋮ | ⋮ | ⋮ | ⋮ | ⋮ |\n| 2854 | Vanuatu  | 2004 | Developing | 69.6 | 169 |  0 | 0.85 | 334.167337 | 63 |     0 | ⋯ | 67 | 4.12 | 69 |  0.1 | 1787.94723 |    24143 |  1.6 |  1.5 | 0.000 | 10.7 |\n| 2855 | Vanuatu  | 2003 | Developing | 69.4 | 173 |  0 | 1.20 |  27.298391 | 64 |   165 | ⋯ | 67 | 4.20 | 69 |  0.1 |  158.52724 |   198964 |  1.6 |  1.6 | 0.000 | 10.4 |\n| 2856 | Vanuatu  | 2002 | Developing | 69.3 | 176 |  0 | 1.24 | 171.137361 | 66 |   101 | ⋯ | 67 | 3.52 |  7 |  0.1 | 1353.93482 |   193956 |  1.7 |  1.6 | 0.000 | 10.2 |\n| 2857 | Vanuatu  | 2001 | Developing | 69.1 | 179 |  0 | 0.91 | 163.105292 | 68 |     7 | ⋯ | 67 | 3.37 |  7 |  0.1 | 1362.61731 |    18929 |  1.7 |  1.6 | 0.000 | 10.1 |\n| 2858 | Vanuatu  | 2000 | Developing | 69.0 |  18 |  0 | 1.21 |  21.900752 |  7 |     9 | ⋯ | 67 | 3.28 | 71 |  0.1 | 1469.84915 |    18563 |  1.7 |  1.7 | 0.000 |  9.6 |\n| 2908 | Zambia   | 2014 | Developing | 61.1 | 314 | 28 | 0.01 | 196.667577 | 86 |     9 | ⋯ | 78 | 4.99 | 86 |  4.3 | 1738.88220 |  1562974 |  6.3 |  6.2 | 0.570 | 12.5 |\n| 2909 | Zambia   | 2013 | Developing | 63.0 | 328 | 29 | 2.41 |  20.623063 | 79 |    35 | ⋯ | 74 | 4.99 | 79 |  4.8 |  185.79336 |  1515321 |  6.4 |  6.2 | 0.565 | 12.5 |\n| 2910 | Zambia   | 2012 | Developing | 59.2 | 349 | 29 | 2.59 | 196.915250 | 78 |   896 | ⋯ |  7 | 4.91 | 78 |  5.6 | 1734.93612 | 14699937 |  6.5 |  6.3 | 0.554 | 12.3 |\n| 2911 | Zambia   | 2011 | Developing | 58.2 | 366 | 29 | 2.57 | 183.046169 | 81 | 13234 | ⋯ | 83 | 4.26 | 81 |  6.3 | 1644.61967 | 14264756 |  6.6 |  6.4 | 0.543 | 12.0 |\n| 2912 | Zambia   | 2010 | Developing | 58.0 | 363 | 30 | 2.47 | 184.364910 | 83 | 15754 | ⋯ |  8 | 4.41 | 83 |  6.8 | 1463.21357 |   138533 |  6.7 |  6.5 | 0.533 | 11.8 |\n| 2913 | Zambia   | 2009 | Developing | 57.4 | 368 | 30 | 2.30 | 143.869887 | 94 |    26 | ⋯ | 93 | 4.73 | 94 |  9.1 | 1139.11233 | 13456417 |  6.7 |  6.6 | 0.518 | 11.6 |\n| 2914 | Zambia   | 2008 | Developing | 55.7 |  45 | 31 | 2.12 | 153.678375 | 87 |   140 | ⋯ |  9 | 4.87 | 87 | 11.9 | 1369.68249 |  1382517 |  6.8 |  6.7 | 0.504 | 11.4 |\n| 2915 | Zambia   | 2007 | Developing | 52.6 | 487 | 32 | 2.08 |  10.851482 |  8 |   535 | ⋯ | 77 | 4.37 |  8 | 13.6 |  114.58799 | 12725974 |  6.9 |  6.8 | 0.492 | 11.1 |\n| 2916 | Zambia   | 2006 | Developing | 58.0 | 526 | 33 | 2.25 |   1.860004 | 81 |   459 | ⋯ | 83 | 6.11 | 81 | 15.9 |   13.15420 | 12383446 |  7.0 |  6.9 | 0.479 | 10.9 |\n| 2917 | Zambia   | 2005 | Developing | 49.3 | 554 | 34 | 2.33 | 121.879331 | 82 |    45 | ⋯ | 84 | 7.56 | 82 | 17.0 |  691.31782 |  1252156 |  7.1 |  7.0 | 0.467 | 10.7 |\n| 2924 | Zimbabwe | 2014 | Developing | 59.2 | 371 | 23 | 6.50 |  10.822595 | 91 |     0 | ⋯ | 92 | 6.44 | 91 |  6.3 |  127.47462 | 15411675 |  5.9 |  5.7 | 0.498 | 10.3 |\n| 2925 | Zimbabwe | 2013 | Developing | 58.0 | 399 | 25 | 6.39 |  10.666707 | 95 |     0 | ⋯ | 95 | 6.88 | 95 |  6.8 |  111.22740 |   155456 |  6.2 |  6.0 | 0.488 | 10.4 |\n| 2926 | Zimbabwe | 2012 | Developing | 56.6 | 429 | 26 | 6.09 |  92.602336 | 97 |     0 | ⋯ | 95 | 6.69 | 95 |  8.8 |  955.64847 |  1471826 |  6.5 |  6.4 | 0.464 |  9.8 |\n| 2927 | Zimbabwe | 2011 | Developing | 54.9 | 464 | 28 | 6.00 |  63.750530 | 94 |     0 | ⋯ | 93 | 6.31 | 93 | 13.3 |  839.92794 | 14386649 |  6.8 |  6.7 | 0.452 | 10.1 |\n| 2928 | Zimbabwe | 2010 | Developing | 52.4 | 527 | 29 | 5.21 |  53.308581 |  9 |  9696 | ⋯ | 89 | 5.37 | 89 | 15.7 |  713.63562 |  1486317 |  7.1 |  7.0 | 0.436 | 10.0 |\n| 2929 | Zimbabwe | 2009 | Developing | 50.0 | 587 | 30 | 4.64 |   1.040021 | 73 |   853 | ⋯ | 69 | 6.26 | 73 | 18.1 |   65.82412 |  1381599 |  7.5 |  7.4 | 0.419 |  9.9 |\n| 2930 | Zimbabwe | 2008 | Developing | 48.2 | 632 | 30 | 3.56 |  20.843429 | 75 |     0 | ⋯ | 75 | 4.96 | 75 | 20.5 |  325.67857 | 13558469 |  7.8 |  7.8 | 0.421 |  9.7 |\n| 2931 | Zimbabwe | 2007 | Developing | 46.6 |  67 | 29 | 3.88 |  29.814566 | 72 |   242 | ⋯ | 73 | 4.47 | 73 | 23.7 |  396.99822 |  1332999 |  8.2 |  8.2 | 0.414 |  9.6 |\n| 2932 | Zimbabwe | 2006 | Developing | 45.4 |   7 | 28 | 4.57 |  34.262169 | 68 |   212 | ⋯ | 71 | 5.12 |  7 | 26.8 |  414.79623 | 13124267 |  8.6 |  8.6 | 0.408 |  9.5 |\n| 2933 | Zimbabwe | 2005 | Developing | 44.6 | 717 | 28 | 4.14 |   8.717409 | 65 |   420 | ⋯ | 69 | 6.44 | 68 | 30.3 |  444.76575 |   129432 |  9.0 |  9.0 | 0.406 |  9.3 |\n| 2934 | Zimbabwe | 2004 | Developing | 44.3 | 723 | 27 | 4.36 |   0.000000 | 68 |    31 | ⋯ | 67 | 7.13 | 65 | 33.6 |  454.36665 | 12777511 |  9.4 |  9.4 | 0.407 |  9.2 |\n| 2935 | Zimbabwe | 2003 | Developing | 44.5 | 715 | 26 | 4.06 |   0.000000 |  7 |   998 | ⋯ |  7 | 6.52 | 68 | 36.7 |  453.35116 | 12633897 |  9.8 |  9.9 | 0.418 |  9.5 |\n| 2936 | Zimbabwe | 2002 | Developing | 44.8 |  73 | 25 | 4.43 |   0.000000 | 73 |   304 | ⋯ | 73 | 6.53 | 71 | 39.8 |   57.34834 |   125525 |  1.2 |  1.3 | 0.427 | 10.0 |\n| 2937 | Zimbabwe | 2001 | Developing | 45.3 | 686 | 25 | 1.72 |   0.000000 | 76 |   529 | ⋯ | 76 | 6.16 | 75 | 42.1 |  548.58731 | 12366165 |  1.6 |  1.7 | 0.427 |  9.8 |\n| 2938 | Zimbabwe | 2000 | Developing | 46.0 | 665 | 24 | 1.68 |   0.000000 | 79 |  1483 | ⋯ | 78 | 7.10 | 78 | 43.5 |  547.35888 | 12222251 | 11.0 | 11.2 | 0.434 |  9.8 |\n\n",
            "text/latex": "A data.frame: 1649 × 22\n\\begin{tabular}{r|lllllllllllllllllllll}\n  & Country & Year & Status & Life.expectancy & Adult.Mortality & infant.deaths & Alcohol & percentage.expenditure & Hepatitis.B & Measles & ⋯ & Polio & Total.expenditure & Diphtheria & HIV.AIDS & GDP & Population & thinness..1.19.years & thinness.5.9.years & Income.composition.of.resources & Schooling\\\\\n  & <chr> & <int> & <chr> & <dbl> & <int> & <int> & <dbl> & <dbl> & <int> & <int> & ⋯ & <int> & <dbl> & <int> & <dbl> & <dbl> & <dbl> & <dbl> & <dbl> & <dbl> & <dbl>\\\\\n\\hline\n\t1 & Afghanistan & 2015 & Developing & 65.0 & 263 & 62 & 0.01 &  71.279624 & 65 & 1154 & ⋯ &  6 & 8.16 & 65 & 0.1 &  584.25921 & 33736494 & 17.2 & 17.3 & 0.479 & 10.1\\\\\n\t2 & Afghanistan & 2014 & Developing & 59.9 & 271 & 64 & 0.01 &  73.523582 & 62 &  492 & ⋯ & 58 & 8.18 & 62 & 0.1 &  612.69651 &   327582 & 17.5 & 17.5 & 0.476 & 10.0\\\\\n\t3 & Afghanistan & 2013 & Developing & 59.9 & 268 & 66 & 0.01 &  73.219243 & 64 &  430 & ⋯ & 62 & 8.13 & 64 & 0.1 &  631.74498 & 31731688 & 17.7 & 17.7 & 0.470 &  9.9\\\\\n\t4 & Afghanistan & 2012 & Developing & 59.5 & 272 & 69 & 0.01 &  78.184215 & 67 & 2787 & ⋯ & 67 & 8.52 & 67 & 0.1 &  669.95900 &  3696958 & 17.9 & 18.0 & 0.463 &  9.8\\\\\n\t5 & Afghanistan & 2011 & Developing & 59.2 & 275 & 71 & 0.01 &   7.097109 & 68 & 3013 & ⋯ & 68 & 7.87 & 68 & 0.1 &   63.53723 &  2978599 & 18.2 & 18.2 & 0.454 &  9.5\\\\\n\t6 & Afghanistan & 2010 & Developing & 58.8 & 279 & 74 & 0.01 &  79.679367 & 66 & 1989 & ⋯ & 66 & 9.20 & 66 & 0.1 &  553.32894 &  2883167 & 18.4 & 18.4 & 0.448 &  9.2\\\\\n\t7 & Afghanistan & 2009 & Developing & 58.6 & 281 & 77 & 0.01 &  56.762217 & 63 & 2861 & ⋯ & 63 & 9.42 & 63 & 0.1 &  445.89330 &   284331 & 18.6 & 18.7 & 0.434 &  8.9\\\\\n\t8 & Afghanistan & 2008 & Developing & 58.1 & 287 & 80 & 0.03 &  25.873925 & 64 & 1599 & ⋯ & 64 & 8.33 & 64 & 0.1 &  373.36112 &  2729431 & 18.8 & 18.9 & 0.433 &  8.7\\\\\n\t9 & Afghanistan & 2007 & Developing & 57.5 & 295 & 82 & 0.02 &  10.910156 & 63 & 1141 & ⋯ & 63 & 6.73 & 63 & 0.1 &  369.83580 & 26616792 & 19.0 & 19.1 & 0.415 &  8.4\\\\\n\t10 & Afghanistan & 2006 & Developing & 57.3 & 295 & 84 & 0.03 &  17.171518 & 64 & 1990 & ⋯ & 58 & 7.43 & 58 & 0.1 &  272.56377 &  2589345 & 19.2 & 19.3 & 0.405 &  8.1\\\\\n\t11 & Afghanistan & 2005 & Developing & 57.3 & 291 & 85 & 0.02 &   1.388648 & 66 & 1296 & ⋯ & 58 & 8.70 & 58 & 0.1 &   25.29413 &   257798 & 19.3 & 19.5 & 0.396 &  7.9\\\\\n\t12 & Afghanistan & 2004 & Developing & 57.0 & 293 & 87 & 0.02 &  15.296066 & 67 &  466 & ⋯ &  5 & 8.79 &  5 & 0.1 &  219.14135 & 24118979 & 19.5 & 19.7 & 0.381 &  6.8\\\\\n\t13 & Afghanistan & 2003 & Developing & 56.7 & 295 & 87 & 0.01 &  11.089053 & 65 &  798 & ⋯ & 41 & 8.82 & 41 & 0.1 &  198.72854 &  2364851 & 19.7 & 19.9 & 0.373 &  6.5\\\\\n\t14 & Afghanistan & 2002 & Developing & 56.2 &   3 & 88 & 0.01 &  16.887351 & 64 & 2486 & ⋯ & 36 & 7.76 & 36 & 0.1 &  187.84595 & 21979923 & 19.9 &  2.2 & 0.341 &  6.2\\\\\n\t15 & Afghanistan & 2001 & Developing & 55.3 & 316 & 88 & 0.01 &  10.574728 & 63 & 8762 & ⋯ & 35 & 7.80 & 33 & 0.1 &  117.49698 &  2966463 &  2.1 &  2.4 & 0.340 &  5.9\\\\\n\t16 & Afghanistan & 2000 & Developing & 54.8 & 321 & 88 & 0.01 &  10.424960 & 62 & 6532 & ⋯ & 24 & 8.20 & 24 & 0.1 &  114.56000 &   293756 &  2.3 &  2.5 & 0.338 &  5.5\\\\\n\t17 & Albania     & 2015 & Developing & 77.8 &  74 &  0 & 4.60 & 364.975229 & 99 &    0 & ⋯ & 99 & 6.00 & 99 & 0.1 & 3954.22783 &    28873 &  1.2 &  1.3 & 0.762 & 14.2\\\\\n\t18 & Albania     & 2014 & Developing & 77.5 &   8 &  0 & 4.51 & 428.749067 & 98 &    0 & ⋯ & 98 & 5.88 & 98 & 0.1 & 4575.76379 &   288914 &  1.2 &  1.3 & 0.761 & 14.2\\\\\n\t19 & Albania     & 2013 & Developing & 77.2 &  84 &  0 & 4.76 & 430.876979 & 99 &    0 & ⋯ & 99 & 5.66 & 99 & 0.1 & 4414.72314 &   289592 &  1.3 &  1.4 & 0.759 & 14.2\\\\\n\t20 & Albania     & 2012 & Developing & 76.9 &  86 &  0 & 5.14 & 412.443356 & 99 &    9 & ⋯ & 99 & 5.59 & 99 & 0.1 & 4247.61438 &     2941 &  1.3 &  1.4 & 0.752 & 14.2\\\\\n\t21 & Albania     & 2011 & Developing & 76.6 &  88 &  0 & 5.37 & 437.062100 & 99 &   28 & ⋯ & 99 & 5.71 & 99 & 0.1 & 4437.17868 &   295195 &  1.4 &  1.5 & 0.738 & 13.3\\\\\n\t22 & Albania     & 2010 & Developing & 76.2 &  91 &  1 & 5.28 &  41.822757 & 99 &   10 & ⋯ & 99 & 5.34 & 99 & 0.1 &  494.35883 &   291321 &  1.4 &  1.5 & 0.725 & 12.5\\\\\n\t23 & Albania     & 2009 & Developing & 76.1 &  91 &  1 & 5.79 & 348.055952 & 98 &    0 & ⋯ & 98 & 5.79 & 98 & 0.1 & 4114.13655 &  2927519 &  1.5 &  1.6 & 0.721 & 12.2\\\\\n\t24 & Albania     & 2008 & Developing & 75.3 &   1 &  1 & 5.61 &  36.622068 & 99 &    0 & ⋯ & 99 & 5.87 & 99 & 0.1 &  437.53965 &  2947314 &  1.6 &  1.6 & 0.713 & 12.0\\\\\n\t25 & Albania     & 2007 & Developing & 75.9 &   9 &  1 & 5.58 &  32.246552 & 98 &   22 & ⋯ & 99 & 6.10 & 98 & 0.1 &  363.13685 &    29717 &  1.6 &  1.7 & 0.703 & 11.6\\\\\n\t26 & Albania     & 2006 & Developing & 74.2 &  99 &  1 & 5.31 &   3.302154 & 98 &   68 & ⋯ & 97 & 5.86 & 97 & 0.1 &   35.12930 &  2992547 &  1.7 &  1.8 & 0.696 & 11.4\\\\\n\t27 & Albania     & 2005 & Developing & 73.5 &  15 &  1 & 5.16 &  26.993121 & 98 &    6 & ⋯ & 97 & 6.12 & 98 & 0.1 &  279.14293 &   311487 &  1.8 &  1.8 & 0.685 & 10.8\\\\\n\t28 & Albania     & 2004 & Developing & 73.0 &  17 &  1 & 4.54 & 221.842800 & 99 &    7 & ⋯ & 98 & 6.38 & 97 & 0.1 & 2416.58824 &   326939 &  1.8 &  1.9 & 0.681 & 10.9\\\\\n\t29 & Albania     & 2003 & Developing & 72.8 &  18 &  1 & 4.29 &  14.719289 & 97 &    8 & ⋯ & 97 & 6.27 & 97 & 0.1 &  189.68156 &   339616 &  1.9 &  2.0 & 0.674 & 10.7\\\\\n\t30 & Albania     & 2002 & Developing & 73.3 &  15 &  1 & 3.73 & 104.516916 & 96 &   16 & ⋯ & 98 & 6.30 & 98 & 0.1 & 1453.64278 &     3511 &  2.0 &  2.1 & 0.670 & 10.7\\\\\n\t⋮ & ⋮ & ⋮ & ⋮ & ⋮ & ⋮ & ⋮ & ⋮ & ⋮ & ⋮ & ⋮ & ⋱ & ⋮ & ⋮ & ⋮ & ⋮ & ⋮ & ⋮ & ⋮ & ⋮ & ⋮ & ⋮\\\\\n\t2854 & Vanuatu  & 2004 & Developing & 69.6 & 169 &  0 & 0.85 & 334.167337 & 63 &     0 & ⋯ & 67 & 4.12 & 69 &  0.1 & 1787.94723 &    24143 &  1.6 &  1.5 & 0.000 & 10.7\\\\\n\t2855 & Vanuatu  & 2003 & Developing & 69.4 & 173 &  0 & 1.20 &  27.298391 & 64 &   165 & ⋯ & 67 & 4.20 & 69 &  0.1 &  158.52724 &   198964 &  1.6 &  1.6 & 0.000 & 10.4\\\\\n\t2856 & Vanuatu  & 2002 & Developing & 69.3 & 176 &  0 & 1.24 & 171.137361 & 66 &   101 & ⋯ & 67 & 3.52 &  7 &  0.1 & 1353.93482 &   193956 &  1.7 &  1.6 & 0.000 & 10.2\\\\\n\t2857 & Vanuatu  & 2001 & Developing & 69.1 & 179 &  0 & 0.91 & 163.105292 & 68 &     7 & ⋯ & 67 & 3.37 &  7 &  0.1 & 1362.61731 &    18929 &  1.7 &  1.6 & 0.000 & 10.1\\\\\n\t2858 & Vanuatu  & 2000 & Developing & 69.0 &  18 &  0 & 1.21 &  21.900752 &  7 &     9 & ⋯ & 67 & 3.28 & 71 &  0.1 & 1469.84915 &    18563 &  1.7 &  1.7 & 0.000 &  9.6\\\\\n\t2908 & Zambia   & 2014 & Developing & 61.1 & 314 & 28 & 0.01 & 196.667577 & 86 &     9 & ⋯ & 78 & 4.99 & 86 &  4.3 & 1738.88220 &  1562974 &  6.3 &  6.2 & 0.570 & 12.5\\\\\n\t2909 & Zambia   & 2013 & Developing & 63.0 & 328 & 29 & 2.41 &  20.623063 & 79 &    35 & ⋯ & 74 & 4.99 & 79 &  4.8 &  185.79336 &  1515321 &  6.4 &  6.2 & 0.565 & 12.5\\\\\n\t2910 & Zambia   & 2012 & Developing & 59.2 & 349 & 29 & 2.59 & 196.915250 & 78 &   896 & ⋯ &  7 & 4.91 & 78 &  5.6 & 1734.93612 & 14699937 &  6.5 &  6.3 & 0.554 & 12.3\\\\\n\t2911 & Zambia   & 2011 & Developing & 58.2 & 366 & 29 & 2.57 & 183.046169 & 81 & 13234 & ⋯ & 83 & 4.26 & 81 &  6.3 & 1644.61967 & 14264756 &  6.6 &  6.4 & 0.543 & 12.0\\\\\n\t2912 & Zambia   & 2010 & Developing & 58.0 & 363 & 30 & 2.47 & 184.364910 & 83 & 15754 & ⋯ &  8 & 4.41 & 83 &  6.8 & 1463.21357 &   138533 &  6.7 &  6.5 & 0.533 & 11.8\\\\\n\t2913 & Zambia   & 2009 & Developing & 57.4 & 368 & 30 & 2.30 & 143.869887 & 94 &    26 & ⋯ & 93 & 4.73 & 94 &  9.1 & 1139.11233 & 13456417 &  6.7 &  6.6 & 0.518 & 11.6\\\\\n\t2914 & Zambia   & 2008 & Developing & 55.7 &  45 & 31 & 2.12 & 153.678375 & 87 &   140 & ⋯ &  9 & 4.87 & 87 & 11.9 & 1369.68249 &  1382517 &  6.8 &  6.7 & 0.504 & 11.4\\\\\n\t2915 & Zambia   & 2007 & Developing & 52.6 & 487 & 32 & 2.08 &  10.851482 &  8 &   535 & ⋯ & 77 & 4.37 &  8 & 13.6 &  114.58799 & 12725974 &  6.9 &  6.8 & 0.492 & 11.1\\\\\n\t2916 & Zambia   & 2006 & Developing & 58.0 & 526 & 33 & 2.25 &   1.860004 & 81 &   459 & ⋯ & 83 & 6.11 & 81 & 15.9 &   13.15420 & 12383446 &  7.0 &  6.9 & 0.479 & 10.9\\\\\n\t2917 & Zambia   & 2005 & Developing & 49.3 & 554 & 34 & 2.33 & 121.879331 & 82 &    45 & ⋯ & 84 & 7.56 & 82 & 17.0 &  691.31782 &  1252156 &  7.1 &  7.0 & 0.467 & 10.7\\\\\n\t2924 & Zimbabwe & 2014 & Developing & 59.2 & 371 & 23 & 6.50 &  10.822595 & 91 &     0 & ⋯ & 92 & 6.44 & 91 &  6.3 &  127.47462 & 15411675 &  5.9 &  5.7 & 0.498 & 10.3\\\\\n\t2925 & Zimbabwe & 2013 & Developing & 58.0 & 399 & 25 & 6.39 &  10.666707 & 95 &     0 & ⋯ & 95 & 6.88 & 95 &  6.8 &  111.22740 &   155456 &  6.2 &  6.0 & 0.488 & 10.4\\\\\n\t2926 & Zimbabwe & 2012 & Developing & 56.6 & 429 & 26 & 6.09 &  92.602336 & 97 &     0 & ⋯ & 95 & 6.69 & 95 &  8.8 &  955.64847 &  1471826 &  6.5 &  6.4 & 0.464 &  9.8\\\\\n\t2927 & Zimbabwe & 2011 & Developing & 54.9 & 464 & 28 & 6.00 &  63.750530 & 94 &     0 & ⋯ & 93 & 6.31 & 93 & 13.3 &  839.92794 & 14386649 &  6.8 &  6.7 & 0.452 & 10.1\\\\\n\t2928 & Zimbabwe & 2010 & Developing & 52.4 & 527 & 29 & 5.21 &  53.308581 &  9 &  9696 & ⋯ & 89 & 5.37 & 89 & 15.7 &  713.63562 &  1486317 &  7.1 &  7.0 & 0.436 & 10.0\\\\\n\t2929 & Zimbabwe & 2009 & Developing & 50.0 & 587 & 30 & 4.64 &   1.040021 & 73 &   853 & ⋯ & 69 & 6.26 & 73 & 18.1 &   65.82412 &  1381599 &  7.5 &  7.4 & 0.419 &  9.9\\\\\n\t2930 & Zimbabwe & 2008 & Developing & 48.2 & 632 & 30 & 3.56 &  20.843429 & 75 &     0 & ⋯ & 75 & 4.96 & 75 & 20.5 &  325.67857 & 13558469 &  7.8 &  7.8 & 0.421 &  9.7\\\\\n\t2931 & Zimbabwe & 2007 & Developing & 46.6 &  67 & 29 & 3.88 &  29.814566 & 72 &   242 & ⋯ & 73 & 4.47 & 73 & 23.7 &  396.99822 &  1332999 &  8.2 &  8.2 & 0.414 &  9.6\\\\\n\t2932 & Zimbabwe & 2006 & Developing & 45.4 &   7 & 28 & 4.57 &  34.262169 & 68 &   212 & ⋯ & 71 & 5.12 &  7 & 26.8 &  414.79623 & 13124267 &  8.6 &  8.6 & 0.408 &  9.5\\\\\n\t2933 & Zimbabwe & 2005 & Developing & 44.6 & 717 & 28 & 4.14 &   8.717409 & 65 &   420 & ⋯ & 69 & 6.44 & 68 & 30.3 &  444.76575 &   129432 &  9.0 &  9.0 & 0.406 &  9.3\\\\\n\t2934 & Zimbabwe & 2004 & Developing & 44.3 & 723 & 27 & 4.36 &   0.000000 & 68 &    31 & ⋯ & 67 & 7.13 & 65 & 33.6 &  454.36665 & 12777511 &  9.4 &  9.4 & 0.407 &  9.2\\\\\n\t2935 & Zimbabwe & 2003 & Developing & 44.5 & 715 & 26 & 4.06 &   0.000000 &  7 &   998 & ⋯ &  7 & 6.52 & 68 & 36.7 &  453.35116 & 12633897 &  9.8 &  9.9 & 0.418 &  9.5\\\\\n\t2936 & Zimbabwe & 2002 & Developing & 44.8 &  73 & 25 & 4.43 &   0.000000 & 73 &   304 & ⋯ & 73 & 6.53 & 71 & 39.8 &   57.34834 &   125525 &  1.2 &  1.3 & 0.427 & 10.0\\\\\n\t2937 & Zimbabwe & 2001 & Developing & 45.3 & 686 & 25 & 1.72 &   0.000000 & 76 &   529 & ⋯ & 76 & 6.16 & 75 & 42.1 &  548.58731 & 12366165 &  1.6 &  1.7 & 0.427 &  9.8\\\\\n\t2938 & Zimbabwe & 2000 & Developing & 46.0 & 665 & 24 & 1.68 &   0.000000 & 79 &  1483 & ⋯ & 78 & 7.10 & 78 & 43.5 &  547.35888 & 12222251 & 11.0 & 11.2 & 0.434 &  9.8\\\\\n\\end{tabular}\n",
            "text/plain": [
              "     Country     Year Status     Life.expectancy Adult.Mortality infant.deaths\n",
              "1    Afghanistan 2015 Developing 65.0            263             62           \n",
              "2    Afghanistan 2014 Developing 59.9            271             64           \n",
              "3    Afghanistan 2013 Developing 59.9            268             66           \n",
              "4    Afghanistan 2012 Developing 59.5            272             69           \n",
              "5    Afghanistan 2011 Developing 59.2            275             71           \n",
              "6    Afghanistan 2010 Developing 58.8            279             74           \n",
              "7    Afghanistan 2009 Developing 58.6            281             77           \n",
              "8    Afghanistan 2008 Developing 58.1            287             80           \n",
              "9    Afghanistan 2007 Developing 57.5            295             82           \n",
              "10   Afghanistan 2006 Developing 57.3            295             84           \n",
              "11   Afghanistan 2005 Developing 57.3            291             85           \n",
              "12   Afghanistan 2004 Developing 57.0            293             87           \n",
              "13   Afghanistan 2003 Developing 56.7            295             87           \n",
              "14   Afghanistan 2002 Developing 56.2              3             88           \n",
              "15   Afghanistan 2001 Developing 55.3            316             88           \n",
              "16   Afghanistan 2000 Developing 54.8            321             88           \n",
              "17   Albania     2015 Developing 77.8             74              0           \n",
              "18   Albania     2014 Developing 77.5              8              0           \n",
              "19   Albania     2013 Developing 77.2             84              0           \n",
              "20   Albania     2012 Developing 76.9             86              0           \n",
              "21   Albania     2011 Developing 76.6             88              0           \n",
              "22   Albania     2010 Developing 76.2             91              1           \n",
              "23   Albania     2009 Developing 76.1             91              1           \n",
              "24   Albania     2008 Developing 75.3              1              1           \n",
              "25   Albania     2007 Developing 75.9              9              1           \n",
              "26   Albania     2006 Developing 74.2             99              1           \n",
              "27   Albania     2005 Developing 73.5             15              1           \n",
              "28   Albania     2004 Developing 73.0             17              1           \n",
              "29   Albania     2003 Developing 72.8             18              1           \n",
              "30   Albania     2002 Developing 73.3             15              1           \n",
              "⋮    ⋮           ⋮    ⋮          ⋮               ⋮               ⋮            \n",
              "2854 Vanuatu     2004 Developing 69.6            169              0           \n",
              "2855 Vanuatu     2003 Developing 69.4            173              0           \n",
              "2856 Vanuatu     2002 Developing 69.3            176              0           \n",
              "2857 Vanuatu     2001 Developing 69.1            179              0           \n",
              "2858 Vanuatu     2000 Developing 69.0             18              0           \n",
              "2908 Zambia      2014 Developing 61.1            314             28           \n",
              "2909 Zambia      2013 Developing 63.0            328             29           \n",
              "2910 Zambia      2012 Developing 59.2            349             29           \n",
              "2911 Zambia      2011 Developing 58.2            366             29           \n",
              "2912 Zambia      2010 Developing 58.0            363             30           \n",
              "2913 Zambia      2009 Developing 57.4            368             30           \n",
              "2914 Zambia      2008 Developing 55.7             45             31           \n",
              "2915 Zambia      2007 Developing 52.6            487             32           \n",
              "2916 Zambia      2006 Developing 58.0            526             33           \n",
              "2917 Zambia      2005 Developing 49.3            554             34           \n",
              "2924 Zimbabwe    2014 Developing 59.2            371             23           \n",
              "2925 Zimbabwe    2013 Developing 58.0            399             25           \n",
              "2926 Zimbabwe    2012 Developing 56.6            429             26           \n",
              "2927 Zimbabwe    2011 Developing 54.9            464             28           \n",
              "2928 Zimbabwe    2010 Developing 52.4            527             29           \n",
              "2929 Zimbabwe    2009 Developing 50.0            587             30           \n",
              "2930 Zimbabwe    2008 Developing 48.2            632             30           \n",
              "2931 Zimbabwe    2007 Developing 46.6             67             29           \n",
              "2932 Zimbabwe    2006 Developing 45.4              7             28           \n",
              "2933 Zimbabwe    2005 Developing 44.6            717             28           \n",
              "2934 Zimbabwe    2004 Developing 44.3            723             27           \n",
              "2935 Zimbabwe    2003 Developing 44.5            715             26           \n",
              "2936 Zimbabwe    2002 Developing 44.8             73             25           \n",
              "2937 Zimbabwe    2001 Developing 45.3            686             25           \n",
              "2938 Zimbabwe    2000 Developing 46.0            665             24           \n",
              "     Alcohol percentage.expenditure Hepatitis.B Measles ⋯ Polio\n",
              "1    0.01     71.279624             65          1154    ⋯  6   \n",
              "2    0.01     73.523582             62           492    ⋯ 58   \n",
              "3    0.01     73.219243             64           430    ⋯ 62   \n",
              "4    0.01     78.184215             67          2787    ⋯ 67   \n",
              "5    0.01      7.097109             68          3013    ⋯ 68   \n",
              "6    0.01     79.679367             66          1989    ⋯ 66   \n",
              "7    0.01     56.762217             63          2861    ⋯ 63   \n",
              "8    0.03     25.873925             64          1599    ⋯ 64   \n",
              "9    0.02     10.910156             63          1141    ⋯ 63   \n",
              "10   0.03     17.171518             64          1990    ⋯ 58   \n",
              "11   0.02      1.388648             66          1296    ⋯ 58   \n",
              "12   0.02     15.296066             67           466    ⋯  5   \n",
              "13   0.01     11.089053             65           798    ⋯ 41   \n",
              "14   0.01     16.887351             64          2486    ⋯ 36   \n",
              "15   0.01     10.574728             63          8762    ⋯ 35   \n",
              "16   0.01     10.424960             62          6532    ⋯ 24   \n",
              "17   4.60    364.975229             99             0    ⋯ 99   \n",
              "18   4.51    428.749067             98             0    ⋯ 98   \n",
              "19   4.76    430.876979             99             0    ⋯ 99   \n",
              "20   5.14    412.443356             99             9    ⋯ 99   \n",
              "21   5.37    437.062100             99            28    ⋯ 99   \n",
              "22   5.28     41.822757             99            10    ⋯ 99   \n",
              "23   5.79    348.055952             98             0    ⋯ 98   \n",
              "24   5.61     36.622068             99             0    ⋯ 99   \n",
              "25   5.58     32.246552             98            22    ⋯ 99   \n",
              "26   5.31      3.302154             98            68    ⋯ 97   \n",
              "27   5.16     26.993121             98             6    ⋯ 97   \n",
              "28   4.54    221.842800             99             7    ⋯ 98   \n",
              "29   4.29     14.719289             97             8    ⋯ 97   \n",
              "30   3.73    104.516916             96            16    ⋯ 98   \n",
              "⋮    ⋮       ⋮                      ⋮           ⋮       ⋱ ⋮    \n",
              "2854 0.85    334.167337             63              0   ⋯ 67   \n",
              "2855 1.20     27.298391             64            165   ⋯ 67   \n",
              "2856 1.24    171.137361             66            101   ⋯ 67   \n",
              "2857 0.91    163.105292             68              7   ⋯ 67   \n",
              "2858 1.21     21.900752              7              9   ⋯ 67   \n",
              "2908 0.01    196.667577             86              9   ⋯ 78   \n",
              "2909 2.41     20.623063             79             35   ⋯ 74   \n",
              "2910 2.59    196.915250             78            896   ⋯  7   \n",
              "2911 2.57    183.046169             81          13234   ⋯ 83   \n",
              "2912 2.47    184.364910             83          15754   ⋯  8   \n",
              "2913 2.30    143.869887             94             26   ⋯ 93   \n",
              "2914 2.12    153.678375             87            140   ⋯  9   \n",
              "2915 2.08     10.851482              8            535   ⋯ 77   \n",
              "2916 2.25      1.860004             81            459   ⋯ 83   \n",
              "2917 2.33    121.879331             82             45   ⋯ 84   \n",
              "2924 6.50     10.822595             91              0   ⋯ 92   \n",
              "2925 6.39     10.666707             95              0   ⋯ 95   \n",
              "2926 6.09     92.602336             97              0   ⋯ 95   \n",
              "2927 6.00     63.750530             94              0   ⋯ 93   \n",
              "2928 5.21     53.308581              9           9696   ⋯ 89   \n",
              "2929 4.64      1.040021             73            853   ⋯ 69   \n",
              "2930 3.56     20.843429             75              0   ⋯ 75   \n",
              "2931 3.88     29.814566             72            242   ⋯ 73   \n",
              "2932 4.57     34.262169             68            212   ⋯ 71   \n",
              "2933 4.14      8.717409             65            420   ⋯ 69   \n",
              "2934 4.36      0.000000             68             31   ⋯ 67   \n",
              "2935 4.06      0.000000              7            998   ⋯  7   \n",
              "2936 4.43      0.000000             73            304   ⋯ 73   \n",
              "2937 1.72      0.000000             76            529   ⋯ 76   \n",
              "2938 1.68      0.000000             79           1483   ⋯ 78   \n",
              "     Total.expenditure Diphtheria HIV.AIDS GDP        Population\n",
              "1    8.16              65         0.1       584.25921 33736494  \n",
              "2    8.18              62         0.1       612.69651   327582  \n",
              "3    8.13              64         0.1       631.74498 31731688  \n",
              "4    8.52              67         0.1       669.95900  3696958  \n",
              "5    7.87              68         0.1        63.53723  2978599  \n",
              "6    9.20              66         0.1       553.32894  2883167  \n",
              "7    9.42              63         0.1       445.89330   284331  \n",
              "8    8.33              64         0.1       373.36112  2729431  \n",
              "9    6.73              63         0.1       369.83580 26616792  \n",
              "10   7.43              58         0.1       272.56377  2589345  \n",
              "11   8.70              58         0.1        25.29413   257798  \n",
              "12   8.79               5         0.1       219.14135 24118979  \n",
              "13   8.82              41         0.1       198.72854  2364851  \n",
              "14   7.76              36         0.1       187.84595 21979923  \n",
              "15   7.80              33         0.1       117.49698  2966463  \n",
              "16   8.20              24         0.1       114.56000   293756  \n",
              "17   6.00              99         0.1      3954.22783    28873  \n",
              "18   5.88              98         0.1      4575.76379   288914  \n",
              "19   5.66              99         0.1      4414.72314   289592  \n",
              "20   5.59              99         0.1      4247.61438     2941  \n",
              "21   5.71              99         0.1      4437.17868   295195  \n",
              "22   5.34              99         0.1       494.35883   291321  \n",
              "23   5.79              98         0.1      4114.13655  2927519  \n",
              "24   5.87              99         0.1       437.53965  2947314  \n",
              "25   6.10              98         0.1       363.13685    29717  \n",
              "26   5.86              97         0.1        35.12930  2992547  \n",
              "27   6.12              98         0.1       279.14293   311487  \n",
              "28   6.38              97         0.1      2416.58824   326939  \n",
              "29   6.27              97         0.1       189.68156   339616  \n",
              "30   6.30              98         0.1      1453.64278     3511  \n",
              "⋮    ⋮                 ⋮          ⋮        ⋮          ⋮         \n",
              "2854 4.12              69          0.1     1787.94723    24143  \n",
              "2855 4.20              69          0.1      158.52724   198964  \n",
              "2856 3.52               7          0.1     1353.93482   193956  \n",
              "2857 3.37               7          0.1     1362.61731    18929  \n",
              "2858 3.28              71          0.1     1469.84915    18563  \n",
              "2908 4.99              86          4.3     1738.88220  1562974  \n",
              "2909 4.99              79          4.8      185.79336  1515321  \n",
              "2910 4.91              78          5.6     1734.93612 14699937  \n",
              "2911 4.26              81          6.3     1644.61967 14264756  \n",
              "2912 4.41              83          6.8     1463.21357   138533  \n",
              "2913 4.73              94          9.1     1139.11233 13456417  \n",
              "2914 4.87              87         11.9     1369.68249  1382517  \n",
              "2915 4.37               8         13.6      114.58799 12725974  \n",
              "2916 6.11              81         15.9       13.15420 12383446  \n",
              "2917 7.56              82         17.0      691.31782  1252156  \n",
              "2924 6.44              91          6.3      127.47462 15411675  \n",
              "2925 6.88              95          6.8      111.22740   155456  \n",
              "2926 6.69              95          8.8      955.64847  1471826  \n",
              "2927 6.31              93         13.3      839.92794 14386649  \n",
              "2928 5.37              89         15.7      713.63562  1486317  \n",
              "2929 6.26              73         18.1       65.82412  1381599  \n",
              "2930 4.96              75         20.5      325.67857 13558469  \n",
              "2931 4.47              73         23.7      396.99822  1332999  \n",
              "2932 5.12               7         26.8      414.79623 13124267  \n",
              "2933 6.44              68         30.3      444.76575   129432  \n",
              "2934 7.13              65         33.6      454.36665 12777511  \n",
              "2935 6.52              68         36.7      453.35116 12633897  \n",
              "2936 6.53              71         39.8       57.34834   125525  \n",
              "2937 6.16              75         42.1      548.58731 12366165  \n",
              "2938 7.10              78         43.5      547.35888 12222251  \n",
              "     thinness..1.19.years thinness.5.9.years Income.composition.of.resources\n",
              "1    17.2                 17.3               0.479                          \n",
              "2    17.5                 17.5               0.476                          \n",
              "3    17.7                 17.7               0.470                          \n",
              "4    17.9                 18.0               0.463                          \n",
              "5    18.2                 18.2               0.454                          \n",
              "6    18.4                 18.4               0.448                          \n",
              "7    18.6                 18.7               0.434                          \n",
              "8    18.8                 18.9               0.433                          \n",
              "9    19.0                 19.1               0.415                          \n",
              "10   19.2                 19.3               0.405                          \n",
              "11   19.3                 19.5               0.396                          \n",
              "12   19.5                 19.7               0.381                          \n",
              "13   19.7                 19.9               0.373                          \n",
              "14   19.9                  2.2               0.341                          \n",
              "15    2.1                  2.4               0.340                          \n",
              "16    2.3                  2.5               0.338                          \n",
              "17    1.2                  1.3               0.762                          \n",
              "18    1.2                  1.3               0.761                          \n",
              "19    1.3                  1.4               0.759                          \n",
              "20    1.3                  1.4               0.752                          \n",
              "21    1.4                  1.5               0.738                          \n",
              "22    1.4                  1.5               0.725                          \n",
              "23    1.5                  1.6               0.721                          \n",
              "24    1.6                  1.6               0.713                          \n",
              "25    1.6                  1.7               0.703                          \n",
              "26    1.7                  1.8               0.696                          \n",
              "27    1.8                  1.8               0.685                          \n",
              "28    1.8                  1.9               0.681                          \n",
              "29    1.9                  2.0               0.674                          \n",
              "30    2.0                  2.1               0.670                          \n",
              "⋮    ⋮                    ⋮                  ⋮                              \n",
              "2854  1.6                  1.5               0.000                          \n",
              "2855  1.6                  1.6               0.000                          \n",
              "2856  1.7                  1.6               0.000                          \n",
              "2857  1.7                  1.6               0.000                          \n",
              "2858  1.7                  1.7               0.000                          \n",
              "2908  6.3                  6.2               0.570                          \n",
              "2909  6.4                  6.2               0.565                          \n",
              "2910  6.5                  6.3               0.554                          \n",
              "2911  6.6                  6.4               0.543                          \n",
              "2912  6.7                  6.5               0.533                          \n",
              "2913  6.7                  6.6               0.518                          \n",
              "2914  6.8                  6.7               0.504                          \n",
              "2915  6.9                  6.8               0.492                          \n",
              "2916  7.0                  6.9               0.479                          \n",
              "2917  7.1                  7.0               0.467                          \n",
              "2924  5.9                  5.7               0.498                          \n",
              "2925  6.2                  6.0               0.488                          \n",
              "2926  6.5                  6.4               0.464                          \n",
              "2927  6.8                  6.7               0.452                          \n",
              "2928  7.1                  7.0               0.436                          \n",
              "2929  7.5                  7.4               0.419                          \n",
              "2930  7.8                  7.8               0.421                          \n",
              "2931  8.2                  8.2               0.414                          \n",
              "2932  8.6                  8.6               0.408                          \n",
              "2933  9.0                  9.0               0.406                          \n",
              "2934  9.4                  9.4               0.407                          \n",
              "2935  9.8                  9.9               0.418                          \n",
              "2936  1.2                  1.3               0.427                          \n",
              "2937  1.6                  1.7               0.427                          \n",
              "2938 11.0                 11.2               0.434                          \n",
              "     Schooling\n",
              "1    10.1     \n",
              "2    10.0     \n",
              "3     9.9     \n",
              "4     9.8     \n",
              "5     9.5     \n",
              "6     9.2     \n",
              "7     8.9     \n",
              "8     8.7     \n",
              "9     8.4     \n",
              "10    8.1     \n",
              "11    7.9     \n",
              "12    6.8     \n",
              "13    6.5     \n",
              "14    6.2     \n",
              "15    5.9     \n",
              "16    5.5     \n",
              "17   14.2     \n",
              "18   14.2     \n",
              "19   14.2     \n",
              "20   14.2     \n",
              "21   13.3     \n",
              "22   12.5     \n",
              "23   12.2     \n",
              "24   12.0     \n",
              "25   11.6     \n",
              "26   11.4     \n",
              "27   10.8     \n",
              "28   10.9     \n",
              "29   10.7     \n",
              "30   10.7     \n",
              "⋮    ⋮        \n",
              "2854 10.7     \n",
              "2855 10.4     \n",
              "2856 10.2     \n",
              "2857 10.1     \n",
              "2858  9.6     \n",
              "2908 12.5     \n",
              "2909 12.5     \n",
              "2910 12.3     \n",
              "2911 12.0     \n",
              "2912 11.8     \n",
              "2913 11.6     \n",
              "2914 11.4     \n",
              "2915 11.1     \n",
              "2916 10.9     \n",
              "2917 10.7     \n",
              "2924 10.3     \n",
              "2925 10.4     \n",
              "2926  9.8     \n",
              "2927 10.1     \n",
              "2928 10.0     \n",
              "2929  9.9     \n",
              "2930  9.7     \n",
              "2931  9.6     \n",
              "2932  9.5     \n",
              "2933  9.3     \n",
              "2934  9.2     \n",
              "2935  9.5     \n",
              "2936 10.0     \n",
              "2937  9.8     \n",
              "2938  9.8     "
            ]
          },
          "metadata": {}
        }
      ]
    },
    {
      "cell_type": "markdown",
      "metadata": {
        "id": "a753b0a8"
      },
      "source": [
        "1.1. Explore os dados. Quantos registros, quantidade de atributos, período etc.\n",
        "\n",
        "**Solução**"
      ]
    },
    {
      "cell_type": "code",
      "metadata": {
        "kernel": "R",
        "tags": [
          "report_cell"
        ],
        "id": "dfd0d747",
        "colab": {
          "base_uri": "https://localhost:8080/",
          "height": 121
        },
        "outputId": "0ac353ec-a5ac-4893-d1bf-0550fc005dbb"
      },
      "source": [
        "nrow(df)\n",
        "ncol(df)\n",
        "table(df$Status)\n",
        "unique(df$Year)"
      ],
      "execution_count": 3,
      "outputs": [
        {
          "output_type": "display_data",
          "data": {
            "text/html": [
              "1649"
            ],
            "text/markdown": "1649",
            "text/latex": "1649",
            "text/plain": [
              "[1] 1649"
            ]
          },
          "metadata": {}
        },
        {
          "output_type": "display_data",
          "data": {
            "text/html": [
              "22"
            ],
            "text/markdown": "22",
            "text/latex": "22",
            "text/plain": [
              "[1] 22"
            ]
          },
          "metadata": {}
        },
        {
          "output_type": "display_data",
          "data": {
            "text/plain": [
              "\n",
              " Developed Developing \n",
              "       242       1407 "
            ]
          },
          "metadata": {}
        },
        {
          "output_type": "display_data",
          "data": {
            "text/html": [
              "<style>\n",
              ".list-inline {list-style: none; margin:0; padding: 0}\n",
              ".list-inline>li {display: inline-block}\n",
              ".list-inline>li:not(:last-child)::after {content: \"\\00b7\"; padding: 0 .5ex}\n",
              "</style>\n",
              "<ol class=list-inline><li>2015</li><li>2014</li><li>2013</li><li>2012</li><li>2011</li><li>2010</li><li>2009</li><li>2008</li><li>2007</li><li>2006</li><li>2005</li><li>2004</li><li>2003</li><li>2002</li><li>2001</li><li>2000</li></ol>\n"
            ],
            "text/markdown": "1. 2015\n2. 2014\n3. 2013\n4. 2012\n5. 2011\n6. 2010\n7. 2009\n8. 2008\n9. 2007\n10. 2006\n11. 2005\n12. 2004\n13. 2003\n14. 2002\n15. 2001\n16. 2000\n\n\n",
            "text/latex": "\\begin{enumerate*}\n\\item 2015\n\\item 2014\n\\item 2013\n\\item 2012\n\\item 2011\n\\item 2010\n\\item 2009\n\\item 2008\n\\item 2007\n\\item 2006\n\\item 2005\n\\item 2004\n\\item 2003\n\\item 2002\n\\item 2001\n\\item 2000\n\\end{enumerate*}\n",
            "text/plain": [
              " [1] 2015 2014 2013 2012 2011 2010 2009 2008 2007 2006 2005 2004 2003 2002 2001\n",
              "[16] 2000"
            ]
          },
          "metadata": {}
        }
      ]
    },
    {
      "cell_type": "markdown",
      "metadata": {
        "id": "e787ab6a"
      },
      "source": [
        "1.2.* Selecione somente os dados de 2014 e empregue eles nos exercícios a seguir. Verifique a quantidade de registros resultante.\n",
        "\n"
      ]
    },
    {
      "cell_type": "code",
      "source": [
        "df[df$Year == 2014,]"
      ],
      "metadata": {
        "id": "iJ9jEONJwrhn",
        "outputId": "7a369fc0-8025-4836-9965-bb083906b104",
        "colab": {
          "base_uri": "https://localhost:8080/",
          "height": 1000
        }
      },
      "execution_count": 4,
      "outputs": [
        {
          "output_type": "display_data",
          "data": {
            "text/html": [
              "<table class=\"dataframe\">\n",
              "<caption>A data.frame: 131 × 22</caption>\n",
              "<thead>\n",
              "\t<tr><th></th><th scope=col>Country</th><th scope=col>Year</th><th scope=col>Status</th><th scope=col>Life.expectancy</th><th scope=col>Adult.Mortality</th><th scope=col>infant.deaths</th><th scope=col>Alcohol</th><th scope=col>percentage.expenditure</th><th scope=col>Hepatitis.B</th><th scope=col>Measles</th><th scope=col>⋯</th><th scope=col>Polio</th><th scope=col>Total.expenditure</th><th scope=col>Diphtheria</th><th scope=col>HIV.AIDS</th><th scope=col>GDP</th><th scope=col>Population</th><th scope=col>thinness..1.19.years</th><th scope=col>thinness.5.9.years</th><th scope=col>Income.composition.of.resources</th><th scope=col>Schooling</th></tr>\n",
              "\t<tr><th></th><th scope=col>&lt;chr&gt;</th><th scope=col>&lt;int&gt;</th><th scope=col>&lt;chr&gt;</th><th scope=col>&lt;dbl&gt;</th><th scope=col>&lt;int&gt;</th><th scope=col>&lt;int&gt;</th><th scope=col>&lt;dbl&gt;</th><th scope=col>&lt;dbl&gt;</th><th scope=col>&lt;int&gt;</th><th scope=col>&lt;int&gt;</th><th scope=col>⋯</th><th scope=col>&lt;int&gt;</th><th scope=col>&lt;dbl&gt;</th><th scope=col>&lt;int&gt;</th><th scope=col>&lt;dbl&gt;</th><th scope=col>&lt;dbl&gt;</th><th scope=col>&lt;dbl&gt;</th><th scope=col>&lt;dbl&gt;</th><th scope=col>&lt;dbl&gt;</th><th scope=col>&lt;dbl&gt;</th><th scope=col>&lt;dbl&gt;</th></tr>\n",
              "</thead>\n",
              "<tbody>\n",
              "\t<tr><th scope=row>2</th><td>Afghanistan             </td><td>2014</td><td>Developing</td><td>59.9</td><td>271</td><td> 64</td><td> 0.01</td><td>   73.52358</td><td>62</td><td>  492</td><td>⋯</td><td>58</td><td> 8.18</td><td>62</td><td>0.1</td><td>  612.69651</td><td>  327582</td><td>17.5</td><td>17.5</td><td>0.476</td><td>10.0</td></tr>\n",
              "\t<tr><th scope=row>18</th><td>Albania                 </td><td>2014</td><td>Developing</td><td>77.5</td><td>  8</td><td>  0</td><td> 4.51</td><td>  428.74907</td><td>98</td><td>    0</td><td>⋯</td><td>98</td><td> 5.88</td><td>98</td><td>0.1</td><td> 4575.76379</td><td>  288914</td><td> 1.2</td><td> 1.3</td><td>0.761</td><td>14.2</td></tr>\n",
              "\t<tr><th scope=row>34</th><td>Algeria                 </td><td>2014</td><td>Developing</td><td>75.4</td><td> 11</td><td> 21</td><td> 0.01</td><td>   54.23732</td><td>95</td><td>    0</td><td>⋯</td><td>95</td><td> 7.21</td><td>95</td><td>0.1</td><td>  547.85170</td><td>39113313</td><td> 6.0</td><td> 5.8</td><td>0.741</td><td>14.4</td></tr>\n",
              "\t<tr><th scope=row>50</th><td>Angola                  </td><td>2014</td><td>Developing</td><td>51.7</td><td>348</td><td> 67</td><td> 8.33</td><td>   23.96561</td><td>64</td><td>11699</td><td>⋯</td><td>68</td><td> 3.31</td><td>64</td><td>2.0</td><td>  479.31224</td><td> 2692466</td><td> 8.5</td><td> 8.3</td><td>0.527</td><td>11.4</td></tr>\n",
              "\t<tr><th scope=row>82</th><td>Argentina               </td><td>2014</td><td>Developing</td><td>76.2</td><td>118</td><td>  8</td><td> 7.93</td><td>  847.37175</td><td>94</td><td>    1</td><td>⋯</td><td>92</td><td> 4.79</td><td>94</td><td>0.1</td><td>12245.25645</td><td>42981515</td><td> 1.0</td><td> 0.9</td><td>0.825</td><td>17.3</td></tr>\n",
              "\t<tr><th scope=row>98</th><td>Armenia                 </td><td>2014</td><td>Developing</td><td>74.6</td><td> 12</td><td>  1</td><td> 3.91</td><td>  295.60871</td><td>93</td><td>   13</td><td>⋯</td><td>95</td><td> 4.48</td><td>93</td><td>0.1</td><td> 3994.71236</td><td>   29622</td><td> 2.1</td><td> 2.1</td><td>0.739</td><td>12.7</td></tr>\n",
              "\t<tr><th scope=row>114</th><td>Australia               </td><td>2014</td><td>Developed </td><td>82.7</td><td>  6</td><td>  1</td><td> 9.71</td><td>10769.36305</td><td>91</td><td>  340</td><td>⋯</td><td>92</td><td> 9.42</td><td>92</td><td>0.1</td><td>62214.69120</td><td> 2346694</td><td> 0.6</td><td> 0.6</td><td>0.936</td><td>20.4</td></tr>\n",
              "\t<tr><th scope=row>130</th><td>Austria                 </td><td>2014</td><td>Developed </td><td>81.4</td><td> 66</td><td>  0</td><td>12.32</td><td> 8350.19352</td><td>98</td><td>  117</td><td>⋯</td><td>98</td><td>11.21</td><td>98</td><td>0.1</td><td>51322.63997</td><td> 8541575</td><td> 1.8</td><td> 2.0</td><td>0.892</td><td>15.9</td></tr>\n",
              "\t<tr><th scope=row>146</th><td>Azerbaijan              </td><td>2014</td><td>Developing</td><td>72.5</td><td>119</td><td>  5</td><td> 0.01</td><td>  306.18243</td><td>94</td><td>    0</td><td>⋯</td><td>97</td><td> 6.40</td><td>94</td><td>0.1</td><td> 7891.29978</td><td>  953579</td><td> 2.8</td><td> 2.9</td><td>0.752</td><td>12.2</td></tr>\n",
              "\t<tr><th scope=row>194</th><td>Bangladesh              </td><td>2014</td><td>Developing</td><td>71.4</td><td>132</td><td> 98</td><td> 0.01</td><td>   10.44640</td><td>97</td><td>  289</td><td>⋯</td><td>97</td><td> 2.82</td><td>97</td><td>0.1</td><td>  184.56543</td><td>15945279</td><td>18.1</td><td>18.6</td><td>0.570</td><td>10.0</td></tr>\n",
              "\t<tr><th scope=row>226</th><td>Belarus                 </td><td>2014</td><td>Developing</td><td>72.0</td><td>199</td><td>  0</td><td>13.94</td><td> 1147.11140</td><td>97</td><td>   64</td><td>⋯</td><td>97</td><td> 5.69</td><td>97</td><td>0.1</td><td> 8318.42929</td><td> 9474511</td><td> 1.9</td><td> 2.0</td><td>0.796</td><td>15.7</td></tr>\n",
              "\t<tr><th scope=row>242</th><td>Belgium                 </td><td>2014</td><td>Developed </td><td>89.0</td><td> 76</td><td>  0</td><td>12.60</td><td> 7163.34892</td><td>98</td><td>   70</td><td>⋯</td><td>99</td><td> 1.59</td><td>99</td><td>0.1</td><td>47439.39684</td><td>  112957</td><td> 1.0</td><td> 1.0</td><td>0.890</td><td>16.3</td></tr>\n",
              "\t<tr><th scope=row>258</th><td>Belize                  </td><td>2014</td><td>Developing</td><td>70.0</td><td>177</td><td>  0</td><td> 6.58</td><td>  670.09209</td><td>95</td><td>    0</td><td>⋯</td><td>95</td><td> 5.79</td><td>95</td><td>0.2</td><td> 4852.22367</td><td>  351694</td><td> 3.4</td><td> 3.4</td><td>0.705</td><td>12.8</td></tr>\n",
              "\t<tr><th scope=row>274</th><td>Benin                   </td><td>2014</td><td>Developing</td><td>59.7</td><td>252</td><td> 25</td><td> 0.01</td><td>   90.12207</td><td>78</td><td>  786</td><td>⋯</td><td>74</td><td> 4.59</td><td>78</td><td>1.1</td><td>  943.68657</td><td> 1286712</td><td> 7.1</td><td> 6.9</td><td>0.475</td><td>10.7</td></tr>\n",
              "\t<tr><th scope=row>290</th><td>Bhutan                  </td><td>2014</td><td>Developing</td><td>69.4</td><td>216</td><td>  0</td><td> 0.01</td><td>  209.39213</td><td>99</td><td>    0</td><td>⋯</td><td>98</td><td> 3.57</td><td>99</td><td>0.5</td><td> 2522.79680</td><td>  776448</td><td>15.7</td><td>16.2</td><td>0.596</td><td>12.5</td></tr>\n",
              "\t<tr><th scope=row>322</th><td>Bosnia and Herzegovina  </td><td>2014</td><td>Developing</td><td>77.2</td><td> 89</td><td>  0</td><td> 4.03</td><td>  732.86625</td><td>89</td><td> 3000</td><td>⋯</td><td>86</td><td> 9.57</td><td>86</td><td>0.1</td><td> 5193.94932</td><td>   35662</td><td> 2.4</td><td> 2.4</td><td>0.742</td><td>14.2</td></tr>\n",
              "\t<tr><th scope=row>338</th><td>Botswana                </td><td>2014</td><td>Developing</td><td>65.1</td><td>268</td><td>  2</td><td> 0.01</td><td>  662.80219</td><td>95</td><td>    1</td><td>⋯</td><td>96</td><td> 5.41</td><td>95</td><td>2.3</td><td> 7497.76238</td><td> 2168573</td><td> 6.7</td><td> 6.4</td><td>0.697</td><td>12.6</td></tr>\n",
              "\t<tr><th scope=row>354</th><td>Brazil                  </td><td>2014</td><td>Developing</td><td>74.8</td><td>144</td><td> 44</td><td> 7.32</td><td>   83.16465</td><td>96</td><td>  876</td><td>⋯</td><td>96</td><td> 8.32</td><td>93</td><td>0.1</td><td> 1226.61731</td><td>24213133</td><td> 2.7</td><td> 2.7</td><td>0.747</td><td>15.2</td></tr>\n",
              "\t<tr><th scope=row>386</th><td>Bulgaria                </td><td>2014</td><td>Developed </td><td>74.3</td><td>138</td><td>  1</td><td>12.03</td><td>  153.14004</td><td>95</td><td>    0</td><td>⋯</td><td>88</td><td> 8.44</td><td>88</td><td>0.1</td><td> 7853.33519</td><td> 7223938</td><td> 1.9</td><td> 1.9</td><td>0.787</td><td>14.8</td></tr>\n",
              "\t<tr><th scope=row>402</th><td>Burkina Faso            </td><td>2014</td><td>Developing</td><td>59.3</td><td>268</td><td> 39</td><td> 0.01</td><td>    8.38634</td><td>91</td><td>  343</td><td>⋯</td><td>91</td><td> 4.96</td><td>91</td><td>0.6</td><td>   75.14641</td><td>17585977</td><td> 8.2</td><td> 7.7</td><td>0.398</td><td> 7.7</td></tr>\n",
              "\t<tr><th scope=row>418</th><td>Burundi                 </td><td>2014</td><td>Developing</td><td>59.1</td><td>297</td><td> 22</td><td> 0.01</td><td>   41.25159</td><td>95</td><td>    0</td><td>⋯</td><td>95</td><td> 7.54</td><td>95</td><td>0.7</td><td>  312.74898</td><td>  989179</td><td> 7.4</td><td> 7.3</td><td>0.404</td><td>10.6</td></tr>\n",
              "\t<tr><th scope=row>450</th><td>Cabo Verde              </td><td>2014</td><td>Developing</td><td>73.0</td><td>117</td><td>  0</td><td> 0.01</td><td>  414.02424</td><td>97</td><td>    0</td><td>⋯</td><td>95</td><td> 4.76</td><td>95</td><td>0.2</td><td> 3529.61843</td><td>  526437</td><td> 6.8</td><td> 6.7</td><td>0.643</td><td>13.5</td></tr>\n",
              "\t<tr><th scope=row>466</th><td>Cambodia                </td><td>2014</td><td>Developing</td><td>68.3</td><td>179</td><td> 11</td><td> 0.01</td><td>   12.17952</td><td>88</td><td>    0</td><td>⋯</td><td>87</td><td> 5.68</td><td>88</td><td>0.2</td><td>  198.68712</td><td>  152779</td><td> 1.9</td><td>11.0</td><td>0.553</td><td>10.9</td></tr>\n",
              "\t<tr><th scope=row>482</th><td>Cameroon                </td><td>2014</td><td>Developing</td><td>56.7</td><td>366</td><td> 47</td><td> 0.01</td><td>   61.39264</td><td>87</td><td>  831</td><td>⋯</td><td>86</td><td> 4.10</td><td>87</td><td>3.7</td><td> 1441.14170</td><td> 2223994</td><td> 5.7</td><td> 5.7</td><td>0.507</td><td>10.4</td></tr>\n",
              "\t<tr><th scope=row>498</th><td>Canada                  </td><td>2014</td><td>Developing</td><td>82.0</td><td> 65</td><td>  2</td><td> 8.10</td><td>  102.19022</td><td>55</td><td>  418</td><td>⋯</td><td>91</td><td> 1.45</td><td>91</td><td>0.1</td><td>  544.43376</td><td>35544564</td><td> 0.5</td><td> 0.5</td><td>0.912</td><td>15.9</td></tr>\n",
              "\t<tr><th scope=row>514</th><td>Central African Republic</td><td>2014</td><td>Developing</td><td>58.0</td><td>437</td><td> 15</td><td> 0.01</td><td>   53.43964</td><td>47</td><td>  210</td><td>⋯</td><td>47</td><td> 4.20</td><td>47</td><td>4.5</td><td>  377.13227</td><td> 4515392</td><td> 8.4</td><td> 8.3</td><td>0.345</td><td> 7.1</td></tr>\n",
              "\t<tr><th scope=row>530</th><td>Chad                    </td><td>2014</td><td>Developing</td><td>52.6</td><td>362</td><td> 46</td><td> 0.01</td><td>   11.30207</td><td>37</td><td> 1275</td><td>⋯</td><td>44</td><td> 3.62</td><td>37</td><td>2.9</td><td>  125.99851</td><td>13569438</td><td> 8.7</td><td> 8.5</td><td>0.390</td><td> 7.3</td></tr>\n",
              "\t<tr><th scope=row>546</th><td>Chile                   </td><td>2014</td><td>Developing</td><td>83.0</td><td> 83</td><td>  2</td><td> 7.16</td><td> 2352.99959</td><td>95</td><td>    0</td><td>⋯</td><td>95</td><td> 7.79</td><td>95</td><td>0.1</td><td>14817.37778</td><td>17613798</td><td> 0.8</td><td> 0.8</td><td>0.841</td><td>16.2</td></tr>\n",
              "\t<tr><th scope=row>562</th><td>China                   </td><td>2014</td><td>Developing</td><td>75.8</td><td> 86</td><td>171</td><td> 5.78</td><td>  109.87439</td><td>99</td><td>52628</td><td>⋯</td><td>99</td><td> 5.55</td><td>99</td><td>0.1</td><td> 7683.52380</td><td>  136427</td><td> 3.7</td><td> 3.0</td><td>0.723</td><td>13.1</td></tr>\n",
              "\t<tr><th scope=row>578</th><td>Colombia                </td><td>2014</td><td>Developing</td><td>74.6</td><td>144</td><td> 11</td><td> 4.38</td><td> 1435.48776</td><td> 9</td><td>    0</td><td>⋯</td><td> 9</td><td> 7.20</td><td> 9</td><td>0.1</td><td> 7913.38343</td><td>47791911</td><td> 2.1</td><td> 1.9</td><td>0.720</td><td>13.6</td></tr>\n",
              "\t<tr><th scope=row>⋮</th><td>⋮</td><td>⋮</td><td>⋮</td><td>⋮</td><td>⋮</td><td>⋮</td><td>⋮</td><td>⋮</td><td>⋮</td><td>⋮</td><td>⋱</td><td>⋮</td><td>⋮</td><td>⋮</td><td>⋮</td><td>⋮</td><td>⋮</td><td>⋮</td><td>⋮</td><td>⋮</td><td>⋮</td></tr>\n",
              "\t<tr><th scope=row>2153</th><td>Rwanda               </td><td>2014</td><td>Developing</td><td>65.7</td><td> 23</td><td>12</td><td>0.01</td><td>   7.5497972</td><td>98</td><td>  10</td><td>⋯</td><td>98</td><td> 7.53</td><td>98</td><td>0.4</td><td>   76.56995</td><td>11345357</td><td> 5.8</td><td> 5.8</td><td>0.488</td><td>10.8</td></tr>\n",
              "\t<tr><th scope=row>2202</th><td>Samoa                </td><td>2014</td><td>Developing</td><td>73.8</td><td>128</td><td> 0</td><td>0.01</td><td> 660.2777923</td><td>56</td><td>   0</td><td>⋯</td><td>58</td><td> 7.22</td><td>63</td><td>0.1</td><td> 4178.97337</td><td>   19229</td><td> 0.2</td><td> 0.1</td><td>0.701</td><td>12.9</td></tr>\n",
              "\t<tr><th scope=row>2219</th><td>Sao Tome and Principe</td><td>2014</td><td>Developing</td><td>67.3</td><td>191</td><td> 0</td><td>0.01</td><td> 225.7307751</td><td>95</td><td>   0</td><td>⋯</td><td>95</td><td> 8.35</td><td>95</td><td>0.2</td><td> 1821.87873</td><td>  191266</td><td> 5.6</td><td> 5.4</td><td>0.562</td><td>11.1</td></tr>\n",
              "\t<tr><th scope=row>2251</th><td>Senegal              </td><td>2014</td><td>Developing</td><td>66.4</td><td>192</td><td>19</td><td>0.26</td><td>  12.8052853</td><td>89</td><td>  32</td><td>⋯</td><td>85</td><td> 4.66</td><td>89</td><td>0.3</td><td>  152.44387</td><td>14546111</td><td> 9.7</td><td> 9.5</td><td>0.483</td><td> 9.1</td></tr>\n",
              "\t<tr><th scope=row>2267</th><td>Serbia               </td><td>2014</td><td>Developing</td><td>75.4</td><td>123</td><td> 1</td><td>9.09</td><td>   8.6172084</td><td>92</td><td>  37</td><td>⋯</td><td>93</td><td> 1.37</td><td>93</td><td>0.1</td><td>   62.17322</td><td>  713576</td><td> 2.1</td><td> 2.1</td><td>0.771</td><td>14.3</td></tr>\n",
              "\t<tr><th scope=row>2283</th><td>Seychelles           </td><td>2014</td><td>Developing</td><td>73.0</td><td> 17</td><td> 0</td><td>0.01</td><td> 151.1045552</td><td>99</td><td>   0</td><td>⋯</td><td>99</td><td> 3.37</td><td>99</td><td>0.1</td><td> 1557.77892</td><td>   91359</td><td> 5.7</td><td> 6.0</td><td>0.766</td><td>13.2</td></tr>\n",
              "\t<tr><th scope=row>2299</th><td>Sierra Leone         </td><td>2014</td><td>Developing</td><td>48.1</td><td>463</td><td>23</td><td>0.01</td><td>   1.4432864</td><td>83</td><td>1006</td><td>⋯</td><td>83</td><td>11.90</td><td>83</td><td>0.6</td><td>   78.43948</td><td>  779162</td><td> 7.5</td><td> 7.4</td><td>0.426</td><td> 9.5</td></tr>\n",
              "\t<tr><th scope=row>2363</th><td>Solomon Islands      </td><td>2014</td><td>Developing</td><td>68.8</td><td>183</td><td> 0</td><td>0.01</td><td>   3.7184388</td><td>88</td><td>   0</td><td>⋯</td><td>94</td><td> 5.50</td><td>88</td><td>0.1</td><td>   29.65262</td><td>   57554</td><td> 1.1</td><td> 1.2</td><td>0.512</td><td> 9.6</td></tr>\n",
              "\t<tr><th scope=row>2395</th><td>South Africa         </td><td>2014</td><td>Developing</td><td>62.0</td><td>347</td><td>42</td><td>7.38</td><td> 922.0507313</td><td> 8</td><td>  66</td><td>⋯</td><td>77</td><td> 8.80</td><td>77</td><td>3.7</td><td> 6479.62566</td><td>54146735</td><td> 4.9</td><td> 5.9</td><td>0.660</td><td>13.0</td></tr>\n",
              "\t<tr><th scope=row>2427</th><td>Spain                </td><td>2014</td><td>Developed </td><td>82.6</td><td> 58</td><td> 1</td><td>0.01</td><td>  42.9884762</td><td>96</td><td> 154</td><td>⋯</td><td>97</td><td> 9.30</td><td>97</td><td>0.1</td><td>  296.47225</td><td> 4648882</td><td> 0.6</td><td> 0.5</td><td>0.877</td><td>17.6</td></tr>\n",
              "\t<tr><th scope=row>2443</th><td>Sri Lanka            </td><td>2014</td><td>Developing</td><td>74.7</td><td>141</td><td> 3</td><td>2.37</td><td>  42.7308283</td><td>99</td><td>1686</td><td>⋯</td><td>99</td><td> 3.50</td><td>99</td><td>0.1</td><td>  382.54994</td><td>    2771</td><td>15.2</td><td>15.0</td><td>0.760</td><td>14.0</td></tr>\n",
              "\t<tr><th scope=row>2475</th><td>Suriname             </td><td>2014</td><td>Developing</td><td>71.4</td><td>178</td><td> 0</td><td>6.32</td><td>1132.4325170</td><td>85</td><td>   0</td><td>⋯</td><td>85</td><td> 5.69</td><td>85</td><td>0.4</td><td> 9564.46383</td><td>  547928</td><td> 3.5</td><td> 3.5</td><td>0.722</td><td>12.7</td></tr>\n",
              "\t<tr><th scope=row>2491</th><td>Swaziland            </td><td>2014</td><td>Developing</td><td>58.4</td><td>382</td><td> 2</td><td>0.01</td><td> 574.3895102</td><td>98</td><td>   0</td><td>⋯</td><td>98</td><td> 9.25</td><td>98</td><td>7.3</td><td> 3464.35169</td><td>  129597</td><td> 4.3</td><td> 4.3</td><td>0.541</td><td>11.4</td></tr>\n",
              "\t<tr><th scope=row>2507</th><td>Sweden               </td><td>2014</td><td>Developed </td><td>82.3</td><td> 54</td><td> 0</td><td>7.30</td><td>1142.2124030</td><td>67</td><td>  26</td><td>⋯</td><td>98</td><td>11.93</td><td>98</td><td>0.1</td><td> 5918.19898</td><td>  969611</td><td> 1.5</td><td> 1.3</td><td>0.906</td><td>15.8</td></tr>\n",
              "\t<tr><th scope=row>2555</th><td>Tajikistan           </td><td>2014</td><td>Developing</td><td>69.6</td><td>162</td><td>10</td><td>0.01</td><td>   7.8290086</td><td>97</td><td>   0</td><td>⋯</td><td>94</td><td> 6.88</td><td>97</td><td>0.2</td><td>  114.45919</td><td> 8362745</td><td> 3.6</td><td> 3.7</td><td>0.622</td><td>11.3</td></tr>\n",
              "\t<tr><th scope=row>2571</th><td>Thailand             </td><td>2014</td><td>Developing</td><td>74.6</td><td>152</td><td> 8</td><td>6.41</td><td> 789.0772949</td><td>99</td><td>   0</td><td>⋯</td><td>99</td><td> 4.12</td><td>99</td><td>0.1</td><td> 5941.84710</td><td>68416772</td><td> 7.8</td><td> 7.8</td><td>0.737</td><td>13.6</td></tr>\n",
              "\t<tr><th scope=row>2603</th><td>Timor-Leste          </td><td>2014</td><td>Developing</td><td>68.0</td><td>155</td><td> 2</td><td>0.01</td><td>  28.1457850</td><td>77</td><td>  47</td><td>⋯</td><td>76</td><td> 1.48</td><td>77</td><td>0.1</td><td> 1153.51578</td><td> 1212814</td><td> 1.9</td><td>11.1</td><td>0.612</td><td>12.5</td></tr>\n",
              "\t<tr><th scope=row>2619</th><td>Togo                 </td><td>2014</td><td>Developing</td><td>59.7</td><td>285</td><td>13</td><td>0.01</td><td>   4.8773501</td><td>87</td><td> 577</td><td>⋯</td><td>85</td><td> 5.25</td><td>87</td><td>1.0</td><td>   62.13185</td><td> 7228915</td><td> 6.6</td><td> 6.4</td><td>0.475</td><td>12.0</td></tr>\n",
              "\t<tr><th scope=row>2635</th><td>Tonga                </td><td>2014</td><td>Developing</td><td>73.3</td><td>135</td><td> 0</td><td>0.01</td><td> 565.9672173</td><td> 8</td><td>   0</td><td>⋯</td><td>82</td><td> 5.18</td><td> 8</td><td>0.1</td><td> 4192.34976</td><td>   15782</td><td> 0.1</td><td> 0.1</td><td>0.716</td><td>14.3</td></tr>\n",
              "\t<tr><th scope=row>2651</th><td>Trinidad and Tobago  </td><td>2014</td><td>Developing</td><td>71.1</td><td>171</td><td> 0</td><td>6.94</td><td>1578.8723390</td><td>92</td><td>   0</td><td>⋯</td><td>94</td><td> 5.93</td><td>92</td><td>0.3</td><td>19325.24283</td><td> 1354493</td><td> 5.8</td><td> 6.0</td><td>0.778</td><td>12.7</td></tr>\n",
              "\t<tr><th scope=row>2667</th><td>Tunisia              </td><td>2014</td><td>Developing</td><td>75.1</td><td> 12</td><td> 3</td><td>1.39</td><td> 604.8701316</td><td>98</td><td>  15</td><td>⋯</td><td>98</td><td> 7.00</td><td>98</td><td>0.1</td><td> 4271.68172</td><td> 1114398</td><td> 6.5</td><td> 6.4</td><td>0.722</td><td>14.7</td></tr>\n",
              "\t<tr><th scope=row>2683</th><td>Turkey               </td><td>2014</td><td>Developing</td><td>75.5</td><td> 17</td><td>16</td><td>1.45</td><td> 181.9083783</td><td>96</td><td> 565</td><td>⋯</td><td>96</td><td> 5.41</td><td>96</td><td>0.1</td><td>12127.22522</td><td>  773628</td><td> 4.9</td><td> 4.7</td><td>0.759</td><td>14.5</td></tr>\n",
              "\t<tr><th scope=row>2699</th><td>Turkmenistan         </td><td>2014</td><td>Developing</td><td>66.0</td><td>217</td><td> 7</td><td>2.90</td><td> 691.1333535</td><td>97</td><td>   0</td><td>⋯</td><td>98</td><td> 2.70</td><td>98</td><td>0.1</td><td> 7962.36582</td><td> 5466241</td><td> 3.3</td><td> 3.3</td><td>0.683</td><td>10.8</td></tr>\n",
              "\t<tr><th scope=row>2716</th><td>Uganda               </td><td>2014</td><td>Developing</td><td>61.5</td><td> 38</td><td>68</td><td>0.01</td><td>  14.1677016</td><td>78</td><td> 314</td><td>⋯</td><td>82</td><td> 7.22</td><td>78</td><td>3.2</td><td>  719.17267</td><td>38833338</td><td> 5.7</td><td> 5.6</td><td>0.483</td><td>10.0</td></tr>\n",
              "\t<tr><th scope=row>2732</th><td>Ukraine              </td><td>2014</td><td>Developing</td><td>78.0</td><td> 23</td><td> 4</td><td>8.06</td><td>   5.6638493</td><td>22</td><td>   0</td><td>⋯</td><td>45</td><td> 7.10</td><td>23</td><td>0.2</td><td>  314.65830</td><td>45271947</td><td> 2.3</td><td> 2.4</td><td>0.746</td><td>15.2</td></tr>\n",
              "\t<tr><th scope=row>2812</th><td>Uruguay              </td><td>2014</td><td>Developing</td><td>76.8</td><td>117</td><td> 0</td><td>6.03</td><td> 463.6397821</td><td>95</td><td>   0</td><td>⋯</td><td>95</td><td> 8.58</td><td>95</td><td>0.1</td><td>16737.89827</td><td> 3419546</td><td> 1.5</td><td> 1.4</td><td>0.791</td><td>15.5</td></tr>\n",
              "\t<tr><th scope=row>2828</th><td>Uzbekistan           </td><td>2014</td><td>Developing</td><td>69.2</td><td>184</td><td>16</td><td>0.01</td><td>   0.4428024</td><td>99</td><td>   8</td><td>⋯</td><td>99</td><td> 5.84</td><td>99</td><td>0.1</td><td>   25.44841</td><td>   37577</td><td> 3.0</td><td> 3.1</td><td>0.690</td><td>12.1</td></tr>\n",
              "\t<tr><th scope=row>2844</th><td>Vanuatu              </td><td>2014</td><td>Developing</td><td>71.7</td><td>134</td><td> 0</td><td>0.01</td><td> 564.8167043</td><td>64</td><td>  10</td><td>⋯</td><td>65</td><td> 5.20</td><td>64</td><td>0.1</td><td> 3148.36513</td><td>   25885</td><td> 1.5</td><td> 1.4</td><td>0.596</td><td>10.8</td></tr>\n",
              "\t<tr><th scope=row>2908</th><td>Zambia               </td><td>2014</td><td>Developing</td><td>61.1</td><td>314</td><td>28</td><td>0.01</td><td> 196.6675768</td><td>86</td><td>   9</td><td>⋯</td><td>78</td><td> 4.99</td><td>86</td><td>4.3</td><td> 1738.88220</td><td> 1562974</td><td> 6.3</td><td> 6.2</td><td>0.570</td><td>12.5</td></tr>\n",
              "\t<tr><th scope=row>2924</th><td>Zimbabwe             </td><td>2014</td><td>Developing</td><td>59.2</td><td>371</td><td>23</td><td>6.50</td><td>  10.8225952</td><td>91</td><td>   0</td><td>⋯</td><td>92</td><td> 6.44</td><td>91</td><td>6.3</td><td>  127.47462</td><td>15411675</td><td> 5.9</td><td> 5.7</td><td>0.498</td><td>10.3</td></tr>\n",
              "</tbody>\n",
              "</table>\n"
            ],
            "text/markdown": "\nA data.frame: 131 × 22\n\n| <!--/--> | Country &lt;chr&gt; | Year &lt;int&gt; | Status &lt;chr&gt; | Life.expectancy &lt;dbl&gt; | Adult.Mortality &lt;int&gt; | infant.deaths &lt;int&gt; | Alcohol &lt;dbl&gt; | percentage.expenditure &lt;dbl&gt; | Hepatitis.B &lt;int&gt; | Measles &lt;int&gt; | ⋯ ⋯ | Polio &lt;int&gt; | Total.expenditure &lt;dbl&gt; | Diphtheria &lt;int&gt; | HIV.AIDS &lt;dbl&gt; | GDP &lt;dbl&gt; | Population &lt;dbl&gt; | thinness..1.19.years &lt;dbl&gt; | thinness.5.9.years &lt;dbl&gt; | Income.composition.of.resources &lt;dbl&gt; | Schooling &lt;dbl&gt; |\n|---|---|---|---|---|---|---|---|---|---|---|---|---|---|---|---|---|---|---|---|---|---|\n| 2 | Afghanistan              | 2014 | Developing | 59.9 | 271 |  64 |  0.01 |    73.52358 | 62 |   492 | ⋯ | 58 |  8.18 | 62 | 0.1 |   612.69651 |   327582 | 17.5 | 17.5 | 0.476 | 10.0 |\n| 18 | Albania                  | 2014 | Developing | 77.5 |   8 |   0 |  4.51 |   428.74907 | 98 |     0 | ⋯ | 98 |  5.88 | 98 | 0.1 |  4575.76379 |   288914 |  1.2 |  1.3 | 0.761 | 14.2 |\n| 34 | Algeria                  | 2014 | Developing | 75.4 |  11 |  21 |  0.01 |    54.23732 | 95 |     0 | ⋯ | 95 |  7.21 | 95 | 0.1 |   547.85170 | 39113313 |  6.0 |  5.8 | 0.741 | 14.4 |\n| 50 | Angola                   | 2014 | Developing | 51.7 | 348 |  67 |  8.33 |    23.96561 | 64 | 11699 | ⋯ | 68 |  3.31 | 64 | 2.0 |   479.31224 |  2692466 |  8.5 |  8.3 | 0.527 | 11.4 |\n| 82 | Argentina                | 2014 | Developing | 76.2 | 118 |   8 |  7.93 |   847.37175 | 94 |     1 | ⋯ | 92 |  4.79 | 94 | 0.1 | 12245.25645 | 42981515 |  1.0 |  0.9 | 0.825 | 17.3 |\n| 98 | Armenia                  | 2014 | Developing | 74.6 |  12 |   1 |  3.91 |   295.60871 | 93 |    13 | ⋯ | 95 |  4.48 | 93 | 0.1 |  3994.71236 |    29622 |  2.1 |  2.1 | 0.739 | 12.7 |\n| 114 | Australia                | 2014 | Developed  | 82.7 |   6 |   1 |  9.71 | 10769.36305 | 91 |   340 | ⋯ | 92 |  9.42 | 92 | 0.1 | 62214.69120 |  2346694 |  0.6 |  0.6 | 0.936 | 20.4 |\n| 130 | Austria                  | 2014 | Developed  | 81.4 |  66 |   0 | 12.32 |  8350.19352 | 98 |   117 | ⋯ | 98 | 11.21 | 98 | 0.1 | 51322.63997 |  8541575 |  1.8 |  2.0 | 0.892 | 15.9 |\n| 146 | Azerbaijan               | 2014 | Developing | 72.5 | 119 |   5 |  0.01 |   306.18243 | 94 |     0 | ⋯ | 97 |  6.40 | 94 | 0.1 |  7891.29978 |   953579 |  2.8 |  2.9 | 0.752 | 12.2 |\n| 194 | Bangladesh               | 2014 | Developing | 71.4 | 132 |  98 |  0.01 |    10.44640 | 97 |   289 | ⋯ | 97 |  2.82 | 97 | 0.1 |   184.56543 | 15945279 | 18.1 | 18.6 | 0.570 | 10.0 |\n| 226 | Belarus                  | 2014 | Developing | 72.0 | 199 |   0 | 13.94 |  1147.11140 | 97 |    64 | ⋯ | 97 |  5.69 | 97 | 0.1 |  8318.42929 |  9474511 |  1.9 |  2.0 | 0.796 | 15.7 |\n| 242 | Belgium                  | 2014 | Developed  | 89.0 |  76 |   0 | 12.60 |  7163.34892 | 98 |    70 | ⋯ | 99 |  1.59 | 99 | 0.1 | 47439.39684 |   112957 |  1.0 |  1.0 | 0.890 | 16.3 |\n| 258 | Belize                   | 2014 | Developing | 70.0 | 177 |   0 |  6.58 |   670.09209 | 95 |     0 | ⋯ | 95 |  5.79 | 95 | 0.2 |  4852.22367 |   351694 |  3.4 |  3.4 | 0.705 | 12.8 |\n| 274 | Benin                    | 2014 | Developing | 59.7 | 252 |  25 |  0.01 |    90.12207 | 78 |   786 | ⋯ | 74 |  4.59 | 78 | 1.1 |   943.68657 |  1286712 |  7.1 |  6.9 | 0.475 | 10.7 |\n| 290 | Bhutan                   | 2014 | Developing | 69.4 | 216 |   0 |  0.01 |   209.39213 | 99 |     0 | ⋯ | 98 |  3.57 | 99 | 0.5 |  2522.79680 |   776448 | 15.7 | 16.2 | 0.596 | 12.5 |\n| 322 | Bosnia and Herzegovina   | 2014 | Developing | 77.2 |  89 |   0 |  4.03 |   732.86625 | 89 |  3000 | ⋯ | 86 |  9.57 | 86 | 0.1 |  5193.94932 |    35662 |  2.4 |  2.4 | 0.742 | 14.2 |\n| 338 | Botswana                 | 2014 | Developing | 65.1 | 268 |   2 |  0.01 |   662.80219 | 95 |     1 | ⋯ | 96 |  5.41 | 95 | 2.3 |  7497.76238 |  2168573 |  6.7 |  6.4 | 0.697 | 12.6 |\n| 354 | Brazil                   | 2014 | Developing | 74.8 | 144 |  44 |  7.32 |    83.16465 | 96 |   876 | ⋯ | 96 |  8.32 | 93 | 0.1 |  1226.61731 | 24213133 |  2.7 |  2.7 | 0.747 | 15.2 |\n| 386 | Bulgaria                 | 2014 | Developed  | 74.3 | 138 |   1 | 12.03 |   153.14004 | 95 |     0 | ⋯ | 88 |  8.44 | 88 | 0.1 |  7853.33519 |  7223938 |  1.9 |  1.9 | 0.787 | 14.8 |\n| 402 | Burkina Faso             | 2014 | Developing | 59.3 | 268 |  39 |  0.01 |     8.38634 | 91 |   343 | ⋯ | 91 |  4.96 | 91 | 0.6 |    75.14641 | 17585977 |  8.2 |  7.7 | 0.398 |  7.7 |\n| 418 | Burundi                  | 2014 | Developing | 59.1 | 297 |  22 |  0.01 |    41.25159 | 95 |     0 | ⋯ | 95 |  7.54 | 95 | 0.7 |   312.74898 |   989179 |  7.4 |  7.3 | 0.404 | 10.6 |\n| 450 | Cabo Verde               | 2014 | Developing | 73.0 | 117 |   0 |  0.01 |   414.02424 | 97 |     0 | ⋯ | 95 |  4.76 | 95 | 0.2 |  3529.61843 |   526437 |  6.8 |  6.7 | 0.643 | 13.5 |\n| 466 | Cambodia                 | 2014 | Developing | 68.3 | 179 |  11 |  0.01 |    12.17952 | 88 |     0 | ⋯ | 87 |  5.68 | 88 | 0.2 |   198.68712 |   152779 |  1.9 | 11.0 | 0.553 | 10.9 |\n| 482 | Cameroon                 | 2014 | Developing | 56.7 | 366 |  47 |  0.01 |    61.39264 | 87 |   831 | ⋯ | 86 |  4.10 | 87 | 3.7 |  1441.14170 |  2223994 |  5.7 |  5.7 | 0.507 | 10.4 |\n| 498 | Canada                   | 2014 | Developing | 82.0 |  65 |   2 |  8.10 |   102.19022 | 55 |   418 | ⋯ | 91 |  1.45 | 91 | 0.1 |   544.43376 | 35544564 |  0.5 |  0.5 | 0.912 | 15.9 |\n| 514 | Central African Republic | 2014 | Developing | 58.0 | 437 |  15 |  0.01 |    53.43964 | 47 |   210 | ⋯ | 47 |  4.20 | 47 | 4.5 |   377.13227 |  4515392 |  8.4 |  8.3 | 0.345 |  7.1 |\n| 530 | Chad                     | 2014 | Developing | 52.6 | 362 |  46 |  0.01 |    11.30207 | 37 |  1275 | ⋯ | 44 |  3.62 | 37 | 2.9 |   125.99851 | 13569438 |  8.7 |  8.5 | 0.390 |  7.3 |\n| 546 | Chile                    | 2014 | Developing | 83.0 |  83 |   2 |  7.16 |  2352.99959 | 95 |     0 | ⋯ | 95 |  7.79 | 95 | 0.1 | 14817.37778 | 17613798 |  0.8 |  0.8 | 0.841 | 16.2 |\n| 562 | China                    | 2014 | Developing | 75.8 |  86 | 171 |  5.78 |   109.87439 | 99 | 52628 | ⋯ | 99 |  5.55 | 99 | 0.1 |  7683.52380 |   136427 |  3.7 |  3.0 | 0.723 | 13.1 |\n| 578 | Colombia                 | 2014 | Developing | 74.6 | 144 |  11 |  4.38 |  1435.48776 |  9 |     0 | ⋯ |  9 |  7.20 |  9 | 0.1 |  7913.38343 | 47791911 |  2.1 |  1.9 | 0.720 | 13.6 |\n| ⋮ | ⋮ | ⋮ | ⋮ | ⋮ | ⋮ | ⋮ | ⋮ | ⋮ | ⋮ | ⋮ | ⋱ | ⋮ | ⋮ | ⋮ | ⋮ | ⋮ | ⋮ | ⋮ | ⋮ | ⋮ | ⋮ |\n| 2153 | Rwanda                | 2014 | Developing | 65.7 |  23 | 12 | 0.01 |    7.5497972 | 98 |   10 | ⋯ | 98 |  7.53 | 98 | 0.4 |    76.56995 | 11345357 |  5.8 |  5.8 | 0.488 | 10.8 |\n| 2202 | Samoa                 | 2014 | Developing | 73.8 | 128 |  0 | 0.01 |  660.2777923 | 56 |    0 | ⋯ | 58 |  7.22 | 63 | 0.1 |  4178.97337 |    19229 |  0.2 |  0.1 | 0.701 | 12.9 |\n| 2219 | Sao Tome and Principe | 2014 | Developing | 67.3 | 191 |  0 | 0.01 |  225.7307751 | 95 |    0 | ⋯ | 95 |  8.35 | 95 | 0.2 |  1821.87873 |   191266 |  5.6 |  5.4 | 0.562 | 11.1 |\n| 2251 | Senegal               | 2014 | Developing | 66.4 | 192 | 19 | 0.26 |   12.8052853 | 89 |   32 | ⋯ | 85 |  4.66 | 89 | 0.3 |   152.44387 | 14546111 |  9.7 |  9.5 | 0.483 |  9.1 |\n| 2267 | Serbia                | 2014 | Developing | 75.4 | 123 |  1 | 9.09 |    8.6172084 | 92 |   37 | ⋯ | 93 |  1.37 | 93 | 0.1 |    62.17322 |   713576 |  2.1 |  2.1 | 0.771 | 14.3 |\n| 2283 | Seychelles            | 2014 | Developing | 73.0 |  17 |  0 | 0.01 |  151.1045552 | 99 |    0 | ⋯ | 99 |  3.37 | 99 | 0.1 |  1557.77892 |    91359 |  5.7 |  6.0 | 0.766 | 13.2 |\n| 2299 | Sierra Leone          | 2014 | Developing | 48.1 | 463 | 23 | 0.01 |    1.4432864 | 83 | 1006 | ⋯ | 83 | 11.90 | 83 | 0.6 |    78.43948 |   779162 |  7.5 |  7.4 | 0.426 |  9.5 |\n| 2363 | Solomon Islands       | 2014 | Developing | 68.8 | 183 |  0 | 0.01 |    3.7184388 | 88 |    0 | ⋯ | 94 |  5.50 | 88 | 0.1 |    29.65262 |    57554 |  1.1 |  1.2 | 0.512 |  9.6 |\n| 2395 | South Africa          | 2014 | Developing | 62.0 | 347 | 42 | 7.38 |  922.0507313 |  8 |   66 | ⋯ | 77 |  8.80 | 77 | 3.7 |  6479.62566 | 54146735 |  4.9 |  5.9 | 0.660 | 13.0 |\n| 2427 | Spain                 | 2014 | Developed  | 82.6 |  58 |  1 | 0.01 |   42.9884762 | 96 |  154 | ⋯ | 97 |  9.30 | 97 | 0.1 |   296.47225 |  4648882 |  0.6 |  0.5 | 0.877 | 17.6 |\n| 2443 | Sri Lanka             | 2014 | Developing | 74.7 | 141 |  3 | 2.37 |   42.7308283 | 99 | 1686 | ⋯ | 99 |  3.50 | 99 | 0.1 |   382.54994 |     2771 | 15.2 | 15.0 | 0.760 | 14.0 |\n| 2475 | Suriname              | 2014 | Developing | 71.4 | 178 |  0 | 6.32 | 1132.4325170 | 85 |    0 | ⋯ | 85 |  5.69 | 85 | 0.4 |  9564.46383 |   547928 |  3.5 |  3.5 | 0.722 | 12.7 |\n| 2491 | Swaziland             | 2014 | Developing | 58.4 | 382 |  2 | 0.01 |  574.3895102 | 98 |    0 | ⋯ | 98 |  9.25 | 98 | 7.3 |  3464.35169 |   129597 |  4.3 |  4.3 | 0.541 | 11.4 |\n| 2507 | Sweden                | 2014 | Developed  | 82.3 |  54 |  0 | 7.30 | 1142.2124030 | 67 |   26 | ⋯ | 98 | 11.93 | 98 | 0.1 |  5918.19898 |   969611 |  1.5 |  1.3 | 0.906 | 15.8 |\n| 2555 | Tajikistan            | 2014 | Developing | 69.6 | 162 | 10 | 0.01 |    7.8290086 | 97 |    0 | ⋯ | 94 |  6.88 | 97 | 0.2 |   114.45919 |  8362745 |  3.6 |  3.7 | 0.622 | 11.3 |\n| 2571 | Thailand              | 2014 | Developing | 74.6 | 152 |  8 | 6.41 |  789.0772949 | 99 |    0 | ⋯ | 99 |  4.12 | 99 | 0.1 |  5941.84710 | 68416772 |  7.8 |  7.8 | 0.737 | 13.6 |\n| 2603 | Timor-Leste           | 2014 | Developing | 68.0 | 155 |  2 | 0.01 |   28.1457850 | 77 |   47 | ⋯ | 76 |  1.48 | 77 | 0.1 |  1153.51578 |  1212814 |  1.9 | 11.1 | 0.612 | 12.5 |\n| 2619 | Togo                  | 2014 | Developing | 59.7 | 285 | 13 | 0.01 |    4.8773501 | 87 |  577 | ⋯ | 85 |  5.25 | 87 | 1.0 |    62.13185 |  7228915 |  6.6 |  6.4 | 0.475 | 12.0 |\n| 2635 | Tonga                 | 2014 | Developing | 73.3 | 135 |  0 | 0.01 |  565.9672173 |  8 |    0 | ⋯ | 82 |  5.18 |  8 | 0.1 |  4192.34976 |    15782 |  0.1 |  0.1 | 0.716 | 14.3 |\n| 2651 | Trinidad and Tobago   | 2014 | Developing | 71.1 | 171 |  0 | 6.94 | 1578.8723390 | 92 |    0 | ⋯ | 94 |  5.93 | 92 | 0.3 | 19325.24283 |  1354493 |  5.8 |  6.0 | 0.778 | 12.7 |\n| 2667 | Tunisia               | 2014 | Developing | 75.1 |  12 |  3 | 1.39 |  604.8701316 | 98 |   15 | ⋯ | 98 |  7.00 | 98 | 0.1 |  4271.68172 |  1114398 |  6.5 |  6.4 | 0.722 | 14.7 |\n| 2683 | Turkey                | 2014 | Developing | 75.5 |  17 | 16 | 1.45 |  181.9083783 | 96 |  565 | ⋯ | 96 |  5.41 | 96 | 0.1 | 12127.22522 |   773628 |  4.9 |  4.7 | 0.759 | 14.5 |\n| 2699 | Turkmenistan          | 2014 | Developing | 66.0 | 217 |  7 | 2.90 |  691.1333535 | 97 |    0 | ⋯ | 98 |  2.70 | 98 | 0.1 |  7962.36582 |  5466241 |  3.3 |  3.3 | 0.683 | 10.8 |\n| 2716 | Uganda                | 2014 | Developing | 61.5 |  38 | 68 | 0.01 |   14.1677016 | 78 |  314 | ⋯ | 82 |  7.22 | 78 | 3.2 |   719.17267 | 38833338 |  5.7 |  5.6 | 0.483 | 10.0 |\n| 2732 | Ukraine               | 2014 | Developing | 78.0 |  23 |  4 | 8.06 |    5.6638493 | 22 |    0 | ⋯ | 45 |  7.10 | 23 | 0.2 |   314.65830 | 45271947 |  2.3 |  2.4 | 0.746 | 15.2 |\n| 2812 | Uruguay               | 2014 | Developing | 76.8 | 117 |  0 | 6.03 |  463.6397821 | 95 |    0 | ⋯ | 95 |  8.58 | 95 | 0.1 | 16737.89827 |  3419546 |  1.5 |  1.4 | 0.791 | 15.5 |\n| 2828 | Uzbekistan            | 2014 | Developing | 69.2 | 184 | 16 | 0.01 |    0.4428024 | 99 |    8 | ⋯ | 99 |  5.84 | 99 | 0.1 |    25.44841 |    37577 |  3.0 |  3.1 | 0.690 | 12.1 |\n| 2844 | Vanuatu               | 2014 | Developing | 71.7 | 134 |  0 | 0.01 |  564.8167043 | 64 |   10 | ⋯ | 65 |  5.20 | 64 | 0.1 |  3148.36513 |    25885 |  1.5 |  1.4 | 0.596 | 10.8 |\n| 2908 | Zambia                | 2014 | Developing | 61.1 | 314 | 28 | 0.01 |  196.6675768 | 86 |    9 | ⋯ | 78 |  4.99 | 86 | 4.3 |  1738.88220 |  1562974 |  6.3 |  6.2 | 0.570 | 12.5 |\n| 2924 | Zimbabwe              | 2014 | Developing | 59.2 | 371 | 23 | 6.50 |   10.8225952 | 91 |    0 | ⋯ | 92 |  6.44 | 91 | 6.3 |   127.47462 | 15411675 |  5.9 |  5.7 | 0.498 | 10.3 |\n\n",
            "text/latex": "A data.frame: 131 × 22\n\\begin{tabular}{r|lllllllllllllllllllll}\n  & Country & Year & Status & Life.expectancy & Adult.Mortality & infant.deaths & Alcohol & percentage.expenditure & Hepatitis.B & Measles & ⋯ & Polio & Total.expenditure & Diphtheria & HIV.AIDS & GDP & Population & thinness..1.19.years & thinness.5.9.years & Income.composition.of.resources & Schooling\\\\\n  & <chr> & <int> & <chr> & <dbl> & <int> & <int> & <dbl> & <dbl> & <int> & <int> & ⋯ & <int> & <dbl> & <int> & <dbl> & <dbl> & <dbl> & <dbl> & <dbl> & <dbl> & <dbl>\\\\\n\\hline\n\t2 & Afghanistan              & 2014 & Developing & 59.9 & 271 &  64 &  0.01 &    73.52358 & 62 &   492 & ⋯ & 58 &  8.18 & 62 & 0.1 &   612.69651 &   327582 & 17.5 & 17.5 & 0.476 & 10.0\\\\\n\t18 & Albania                  & 2014 & Developing & 77.5 &   8 &   0 &  4.51 &   428.74907 & 98 &     0 & ⋯ & 98 &  5.88 & 98 & 0.1 &  4575.76379 &   288914 &  1.2 &  1.3 & 0.761 & 14.2\\\\\n\t34 & Algeria                  & 2014 & Developing & 75.4 &  11 &  21 &  0.01 &    54.23732 & 95 &     0 & ⋯ & 95 &  7.21 & 95 & 0.1 &   547.85170 & 39113313 &  6.0 &  5.8 & 0.741 & 14.4\\\\\n\t50 & Angola                   & 2014 & Developing & 51.7 & 348 &  67 &  8.33 &    23.96561 & 64 & 11699 & ⋯ & 68 &  3.31 & 64 & 2.0 &   479.31224 &  2692466 &  8.5 &  8.3 & 0.527 & 11.4\\\\\n\t82 & Argentina                & 2014 & Developing & 76.2 & 118 &   8 &  7.93 &   847.37175 & 94 &     1 & ⋯ & 92 &  4.79 & 94 & 0.1 & 12245.25645 & 42981515 &  1.0 &  0.9 & 0.825 & 17.3\\\\\n\t98 & Armenia                  & 2014 & Developing & 74.6 &  12 &   1 &  3.91 &   295.60871 & 93 &    13 & ⋯ & 95 &  4.48 & 93 & 0.1 &  3994.71236 &    29622 &  2.1 &  2.1 & 0.739 & 12.7\\\\\n\t114 & Australia                & 2014 & Developed  & 82.7 &   6 &   1 &  9.71 & 10769.36305 & 91 &   340 & ⋯ & 92 &  9.42 & 92 & 0.1 & 62214.69120 &  2346694 &  0.6 &  0.6 & 0.936 & 20.4\\\\\n\t130 & Austria                  & 2014 & Developed  & 81.4 &  66 &   0 & 12.32 &  8350.19352 & 98 &   117 & ⋯ & 98 & 11.21 & 98 & 0.1 & 51322.63997 &  8541575 &  1.8 &  2.0 & 0.892 & 15.9\\\\\n\t146 & Azerbaijan               & 2014 & Developing & 72.5 & 119 &   5 &  0.01 &   306.18243 & 94 &     0 & ⋯ & 97 &  6.40 & 94 & 0.1 &  7891.29978 &   953579 &  2.8 &  2.9 & 0.752 & 12.2\\\\\n\t194 & Bangladesh               & 2014 & Developing & 71.4 & 132 &  98 &  0.01 &    10.44640 & 97 &   289 & ⋯ & 97 &  2.82 & 97 & 0.1 &   184.56543 & 15945279 & 18.1 & 18.6 & 0.570 & 10.0\\\\\n\t226 & Belarus                  & 2014 & Developing & 72.0 & 199 &   0 & 13.94 &  1147.11140 & 97 &    64 & ⋯ & 97 &  5.69 & 97 & 0.1 &  8318.42929 &  9474511 &  1.9 &  2.0 & 0.796 & 15.7\\\\\n\t242 & Belgium                  & 2014 & Developed  & 89.0 &  76 &   0 & 12.60 &  7163.34892 & 98 &    70 & ⋯ & 99 &  1.59 & 99 & 0.1 & 47439.39684 &   112957 &  1.0 &  1.0 & 0.890 & 16.3\\\\\n\t258 & Belize                   & 2014 & Developing & 70.0 & 177 &   0 &  6.58 &   670.09209 & 95 &     0 & ⋯ & 95 &  5.79 & 95 & 0.2 &  4852.22367 &   351694 &  3.4 &  3.4 & 0.705 & 12.8\\\\\n\t274 & Benin                    & 2014 & Developing & 59.7 & 252 &  25 &  0.01 &    90.12207 & 78 &   786 & ⋯ & 74 &  4.59 & 78 & 1.1 &   943.68657 &  1286712 &  7.1 &  6.9 & 0.475 & 10.7\\\\\n\t290 & Bhutan                   & 2014 & Developing & 69.4 & 216 &   0 &  0.01 &   209.39213 & 99 &     0 & ⋯ & 98 &  3.57 & 99 & 0.5 &  2522.79680 &   776448 & 15.7 & 16.2 & 0.596 & 12.5\\\\\n\t322 & Bosnia and Herzegovina   & 2014 & Developing & 77.2 &  89 &   0 &  4.03 &   732.86625 & 89 &  3000 & ⋯ & 86 &  9.57 & 86 & 0.1 &  5193.94932 &    35662 &  2.4 &  2.4 & 0.742 & 14.2\\\\\n\t338 & Botswana                 & 2014 & Developing & 65.1 & 268 &   2 &  0.01 &   662.80219 & 95 &     1 & ⋯ & 96 &  5.41 & 95 & 2.3 &  7497.76238 &  2168573 &  6.7 &  6.4 & 0.697 & 12.6\\\\\n\t354 & Brazil                   & 2014 & Developing & 74.8 & 144 &  44 &  7.32 &    83.16465 & 96 &   876 & ⋯ & 96 &  8.32 & 93 & 0.1 &  1226.61731 & 24213133 &  2.7 &  2.7 & 0.747 & 15.2\\\\\n\t386 & Bulgaria                 & 2014 & Developed  & 74.3 & 138 &   1 & 12.03 &   153.14004 & 95 &     0 & ⋯ & 88 &  8.44 & 88 & 0.1 &  7853.33519 &  7223938 &  1.9 &  1.9 & 0.787 & 14.8\\\\\n\t402 & Burkina Faso             & 2014 & Developing & 59.3 & 268 &  39 &  0.01 &     8.38634 & 91 &   343 & ⋯ & 91 &  4.96 & 91 & 0.6 &    75.14641 & 17585977 &  8.2 &  7.7 & 0.398 &  7.7\\\\\n\t418 & Burundi                  & 2014 & Developing & 59.1 & 297 &  22 &  0.01 &    41.25159 & 95 &     0 & ⋯ & 95 &  7.54 & 95 & 0.7 &   312.74898 &   989179 &  7.4 &  7.3 & 0.404 & 10.6\\\\\n\t450 & Cabo Verde               & 2014 & Developing & 73.0 & 117 &   0 &  0.01 &   414.02424 & 97 &     0 & ⋯ & 95 &  4.76 & 95 & 0.2 &  3529.61843 &   526437 &  6.8 &  6.7 & 0.643 & 13.5\\\\\n\t466 & Cambodia                 & 2014 & Developing & 68.3 & 179 &  11 &  0.01 &    12.17952 & 88 &     0 & ⋯ & 87 &  5.68 & 88 & 0.2 &   198.68712 &   152779 &  1.9 & 11.0 & 0.553 & 10.9\\\\\n\t482 & Cameroon                 & 2014 & Developing & 56.7 & 366 &  47 &  0.01 &    61.39264 & 87 &   831 & ⋯ & 86 &  4.10 & 87 & 3.7 &  1441.14170 &  2223994 &  5.7 &  5.7 & 0.507 & 10.4\\\\\n\t498 & Canada                   & 2014 & Developing & 82.0 &  65 &   2 &  8.10 &   102.19022 & 55 &   418 & ⋯ & 91 &  1.45 & 91 & 0.1 &   544.43376 & 35544564 &  0.5 &  0.5 & 0.912 & 15.9\\\\\n\t514 & Central African Republic & 2014 & Developing & 58.0 & 437 &  15 &  0.01 &    53.43964 & 47 &   210 & ⋯ & 47 &  4.20 & 47 & 4.5 &   377.13227 &  4515392 &  8.4 &  8.3 & 0.345 &  7.1\\\\\n\t530 & Chad                     & 2014 & Developing & 52.6 & 362 &  46 &  0.01 &    11.30207 & 37 &  1275 & ⋯ & 44 &  3.62 & 37 & 2.9 &   125.99851 & 13569438 &  8.7 &  8.5 & 0.390 &  7.3\\\\\n\t546 & Chile                    & 2014 & Developing & 83.0 &  83 &   2 &  7.16 &  2352.99959 & 95 &     0 & ⋯ & 95 &  7.79 & 95 & 0.1 & 14817.37778 & 17613798 &  0.8 &  0.8 & 0.841 & 16.2\\\\\n\t562 & China                    & 2014 & Developing & 75.8 &  86 & 171 &  5.78 &   109.87439 & 99 & 52628 & ⋯ & 99 &  5.55 & 99 & 0.1 &  7683.52380 &   136427 &  3.7 &  3.0 & 0.723 & 13.1\\\\\n\t578 & Colombia                 & 2014 & Developing & 74.6 & 144 &  11 &  4.38 &  1435.48776 &  9 &     0 & ⋯ &  9 &  7.20 &  9 & 0.1 &  7913.38343 & 47791911 &  2.1 &  1.9 & 0.720 & 13.6\\\\\n\t⋮ & ⋮ & ⋮ & ⋮ & ⋮ & ⋮ & ⋮ & ⋮ & ⋮ & ⋮ & ⋮ & ⋱ & ⋮ & ⋮ & ⋮ & ⋮ & ⋮ & ⋮ & ⋮ & ⋮ & ⋮ & ⋮\\\\\n\t2153 & Rwanda                & 2014 & Developing & 65.7 &  23 & 12 & 0.01 &    7.5497972 & 98 &   10 & ⋯ & 98 &  7.53 & 98 & 0.4 &    76.56995 & 11345357 &  5.8 &  5.8 & 0.488 & 10.8\\\\\n\t2202 & Samoa                 & 2014 & Developing & 73.8 & 128 &  0 & 0.01 &  660.2777923 & 56 &    0 & ⋯ & 58 &  7.22 & 63 & 0.1 &  4178.97337 &    19229 &  0.2 &  0.1 & 0.701 & 12.9\\\\\n\t2219 & Sao Tome and Principe & 2014 & Developing & 67.3 & 191 &  0 & 0.01 &  225.7307751 & 95 &    0 & ⋯ & 95 &  8.35 & 95 & 0.2 &  1821.87873 &   191266 &  5.6 &  5.4 & 0.562 & 11.1\\\\\n\t2251 & Senegal               & 2014 & Developing & 66.4 & 192 & 19 & 0.26 &   12.8052853 & 89 &   32 & ⋯ & 85 &  4.66 & 89 & 0.3 &   152.44387 & 14546111 &  9.7 &  9.5 & 0.483 &  9.1\\\\\n\t2267 & Serbia                & 2014 & Developing & 75.4 & 123 &  1 & 9.09 &    8.6172084 & 92 &   37 & ⋯ & 93 &  1.37 & 93 & 0.1 &    62.17322 &   713576 &  2.1 &  2.1 & 0.771 & 14.3\\\\\n\t2283 & Seychelles            & 2014 & Developing & 73.0 &  17 &  0 & 0.01 &  151.1045552 & 99 &    0 & ⋯ & 99 &  3.37 & 99 & 0.1 &  1557.77892 &    91359 &  5.7 &  6.0 & 0.766 & 13.2\\\\\n\t2299 & Sierra Leone          & 2014 & Developing & 48.1 & 463 & 23 & 0.01 &    1.4432864 & 83 & 1006 & ⋯ & 83 & 11.90 & 83 & 0.6 &    78.43948 &   779162 &  7.5 &  7.4 & 0.426 &  9.5\\\\\n\t2363 & Solomon Islands       & 2014 & Developing & 68.8 & 183 &  0 & 0.01 &    3.7184388 & 88 &    0 & ⋯ & 94 &  5.50 & 88 & 0.1 &    29.65262 &    57554 &  1.1 &  1.2 & 0.512 &  9.6\\\\\n\t2395 & South Africa          & 2014 & Developing & 62.0 & 347 & 42 & 7.38 &  922.0507313 &  8 &   66 & ⋯ & 77 &  8.80 & 77 & 3.7 &  6479.62566 & 54146735 &  4.9 &  5.9 & 0.660 & 13.0\\\\\n\t2427 & Spain                 & 2014 & Developed  & 82.6 &  58 &  1 & 0.01 &   42.9884762 & 96 &  154 & ⋯ & 97 &  9.30 & 97 & 0.1 &   296.47225 &  4648882 &  0.6 &  0.5 & 0.877 & 17.6\\\\\n\t2443 & Sri Lanka             & 2014 & Developing & 74.7 & 141 &  3 & 2.37 &   42.7308283 & 99 & 1686 & ⋯ & 99 &  3.50 & 99 & 0.1 &   382.54994 &     2771 & 15.2 & 15.0 & 0.760 & 14.0\\\\\n\t2475 & Suriname              & 2014 & Developing & 71.4 & 178 &  0 & 6.32 & 1132.4325170 & 85 &    0 & ⋯ & 85 &  5.69 & 85 & 0.4 &  9564.46383 &   547928 &  3.5 &  3.5 & 0.722 & 12.7\\\\\n\t2491 & Swaziland             & 2014 & Developing & 58.4 & 382 &  2 & 0.01 &  574.3895102 & 98 &    0 & ⋯ & 98 &  9.25 & 98 & 7.3 &  3464.35169 &   129597 &  4.3 &  4.3 & 0.541 & 11.4\\\\\n\t2507 & Sweden                & 2014 & Developed  & 82.3 &  54 &  0 & 7.30 & 1142.2124030 & 67 &   26 & ⋯ & 98 & 11.93 & 98 & 0.1 &  5918.19898 &   969611 &  1.5 &  1.3 & 0.906 & 15.8\\\\\n\t2555 & Tajikistan            & 2014 & Developing & 69.6 & 162 & 10 & 0.01 &    7.8290086 & 97 &    0 & ⋯ & 94 &  6.88 & 97 & 0.2 &   114.45919 &  8362745 &  3.6 &  3.7 & 0.622 & 11.3\\\\\n\t2571 & Thailand              & 2014 & Developing & 74.6 & 152 &  8 & 6.41 &  789.0772949 & 99 &    0 & ⋯ & 99 &  4.12 & 99 & 0.1 &  5941.84710 & 68416772 &  7.8 &  7.8 & 0.737 & 13.6\\\\\n\t2603 & Timor-Leste           & 2014 & Developing & 68.0 & 155 &  2 & 0.01 &   28.1457850 & 77 &   47 & ⋯ & 76 &  1.48 & 77 & 0.1 &  1153.51578 &  1212814 &  1.9 & 11.1 & 0.612 & 12.5\\\\\n\t2619 & Togo                  & 2014 & Developing & 59.7 & 285 & 13 & 0.01 &    4.8773501 & 87 &  577 & ⋯ & 85 &  5.25 & 87 & 1.0 &    62.13185 &  7228915 &  6.6 &  6.4 & 0.475 & 12.0\\\\\n\t2635 & Tonga                 & 2014 & Developing & 73.3 & 135 &  0 & 0.01 &  565.9672173 &  8 &    0 & ⋯ & 82 &  5.18 &  8 & 0.1 &  4192.34976 &    15782 &  0.1 &  0.1 & 0.716 & 14.3\\\\\n\t2651 & Trinidad and Tobago   & 2014 & Developing & 71.1 & 171 &  0 & 6.94 & 1578.8723390 & 92 &    0 & ⋯ & 94 &  5.93 & 92 & 0.3 & 19325.24283 &  1354493 &  5.8 &  6.0 & 0.778 & 12.7\\\\\n\t2667 & Tunisia               & 2014 & Developing & 75.1 &  12 &  3 & 1.39 &  604.8701316 & 98 &   15 & ⋯ & 98 &  7.00 & 98 & 0.1 &  4271.68172 &  1114398 &  6.5 &  6.4 & 0.722 & 14.7\\\\\n\t2683 & Turkey                & 2014 & Developing & 75.5 &  17 & 16 & 1.45 &  181.9083783 & 96 &  565 & ⋯ & 96 &  5.41 & 96 & 0.1 & 12127.22522 &   773628 &  4.9 &  4.7 & 0.759 & 14.5\\\\\n\t2699 & Turkmenistan          & 2014 & Developing & 66.0 & 217 &  7 & 2.90 &  691.1333535 & 97 &    0 & ⋯ & 98 &  2.70 & 98 & 0.1 &  7962.36582 &  5466241 &  3.3 &  3.3 & 0.683 & 10.8\\\\\n\t2716 & Uganda                & 2014 & Developing & 61.5 &  38 & 68 & 0.01 &   14.1677016 & 78 &  314 & ⋯ & 82 &  7.22 & 78 & 3.2 &   719.17267 & 38833338 &  5.7 &  5.6 & 0.483 & 10.0\\\\\n\t2732 & Ukraine               & 2014 & Developing & 78.0 &  23 &  4 & 8.06 &    5.6638493 & 22 &    0 & ⋯ & 45 &  7.10 & 23 & 0.2 &   314.65830 & 45271947 &  2.3 &  2.4 & 0.746 & 15.2\\\\\n\t2812 & Uruguay               & 2014 & Developing & 76.8 & 117 &  0 & 6.03 &  463.6397821 & 95 &    0 & ⋯ & 95 &  8.58 & 95 & 0.1 & 16737.89827 &  3419546 &  1.5 &  1.4 & 0.791 & 15.5\\\\\n\t2828 & Uzbekistan            & 2014 & Developing & 69.2 & 184 & 16 & 0.01 &    0.4428024 & 99 &    8 & ⋯ & 99 &  5.84 & 99 & 0.1 &    25.44841 &    37577 &  3.0 &  3.1 & 0.690 & 12.1\\\\\n\t2844 & Vanuatu               & 2014 & Developing & 71.7 & 134 &  0 & 0.01 &  564.8167043 & 64 &   10 & ⋯ & 65 &  5.20 & 64 & 0.1 &  3148.36513 &    25885 &  1.5 &  1.4 & 0.596 & 10.8\\\\\n\t2908 & Zambia                & 2014 & Developing & 61.1 & 314 & 28 & 0.01 &  196.6675768 & 86 &    9 & ⋯ & 78 &  4.99 & 86 & 4.3 &  1738.88220 &  1562974 &  6.3 &  6.2 & 0.570 & 12.5\\\\\n\t2924 & Zimbabwe              & 2014 & Developing & 59.2 & 371 & 23 & 6.50 &   10.8225952 & 91 &    0 & ⋯ & 92 &  6.44 & 91 & 6.3 &   127.47462 & 15411675 &  5.9 &  5.7 & 0.498 & 10.3\\\\\n\\end{tabular}\n",
            "text/plain": [
              "     Country                  Year Status     Life.expectancy Adult.Mortality\n",
              "2    Afghanistan              2014 Developing 59.9            271            \n",
              "18   Albania                  2014 Developing 77.5              8            \n",
              "34   Algeria                  2014 Developing 75.4             11            \n",
              "50   Angola                   2014 Developing 51.7            348            \n",
              "82   Argentina                2014 Developing 76.2            118            \n",
              "98   Armenia                  2014 Developing 74.6             12            \n",
              "114  Australia                2014 Developed  82.7              6            \n",
              "130  Austria                  2014 Developed  81.4             66            \n",
              "146  Azerbaijan               2014 Developing 72.5            119            \n",
              "194  Bangladesh               2014 Developing 71.4            132            \n",
              "226  Belarus                  2014 Developing 72.0            199            \n",
              "242  Belgium                  2014 Developed  89.0             76            \n",
              "258  Belize                   2014 Developing 70.0            177            \n",
              "274  Benin                    2014 Developing 59.7            252            \n",
              "290  Bhutan                   2014 Developing 69.4            216            \n",
              "322  Bosnia and Herzegovina   2014 Developing 77.2             89            \n",
              "338  Botswana                 2014 Developing 65.1            268            \n",
              "354  Brazil                   2014 Developing 74.8            144            \n",
              "386  Bulgaria                 2014 Developed  74.3            138            \n",
              "402  Burkina Faso             2014 Developing 59.3            268            \n",
              "418  Burundi                  2014 Developing 59.1            297            \n",
              "450  Cabo Verde               2014 Developing 73.0            117            \n",
              "466  Cambodia                 2014 Developing 68.3            179            \n",
              "482  Cameroon                 2014 Developing 56.7            366            \n",
              "498  Canada                   2014 Developing 82.0             65            \n",
              "514  Central African Republic 2014 Developing 58.0            437            \n",
              "530  Chad                     2014 Developing 52.6            362            \n",
              "546  Chile                    2014 Developing 83.0             83            \n",
              "562  China                    2014 Developing 75.8             86            \n",
              "578  Colombia                 2014 Developing 74.6            144            \n",
              "⋮    ⋮                        ⋮    ⋮          ⋮               ⋮              \n",
              "2153 Rwanda                   2014 Developing 65.7             23            \n",
              "2202 Samoa                    2014 Developing 73.8            128            \n",
              "2219 Sao Tome and Principe    2014 Developing 67.3            191            \n",
              "2251 Senegal                  2014 Developing 66.4            192            \n",
              "2267 Serbia                   2014 Developing 75.4            123            \n",
              "2283 Seychelles               2014 Developing 73.0             17            \n",
              "2299 Sierra Leone             2014 Developing 48.1            463            \n",
              "2363 Solomon Islands          2014 Developing 68.8            183            \n",
              "2395 South Africa             2014 Developing 62.0            347            \n",
              "2427 Spain                    2014 Developed  82.6             58            \n",
              "2443 Sri Lanka                2014 Developing 74.7            141            \n",
              "2475 Suriname                 2014 Developing 71.4            178            \n",
              "2491 Swaziland                2014 Developing 58.4            382            \n",
              "2507 Sweden                   2014 Developed  82.3             54            \n",
              "2555 Tajikistan               2014 Developing 69.6            162            \n",
              "2571 Thailand                 2014 Developing 74.6            152            \n",
              "2603 Timor-Leste              2014 Developing 68.0            155            \n",
              "2619 Togo                     2014 Developing 59.7            285            \n",
              "2635 Tonga                    2014 Developing 73.3            135            \n",
              "2651 Trinidad and Tobago      2014 Developing 71.1            171            \n",
              "2667 Tunisia                  2014 Developing 75.1             12            \n",
              "2683 Turkey                   2014 Developing 75.5             17            \n",
              "2699 Turkmenistan             2014 Developing 66.0            217            \n",
              "2716 Uganda                   2014 Developing 61.5             38            \n",
              "2732 Ukraine                  2014 Developing 78.0             23            \n",
              "2812 Uruguay                  2014 Developing 76.8            117            \n",
              "2828 Uzbekistan               2014 Developing 69.2            184            \n",
              "2844 Vanuatu                  2014 Developing 71.7            134            \n",
              "2908 Zambia                   2014 Developing 61.1            314            \n",
              "2924 Zimbabwe                 2014 Developing 59.2            371            \n",
              "     infant.deaths Alcohol percentage.expenditure Hepatitis.B Measles ⋯ Polio\n",
              "2     64            0.01      73.52358            62            492   ⋯ 58   \n",
              "18     0            4.51     428.74907            98              0   ⋯ 98   \n",
              "34    21            0.01      54.23732            95              0   ⋯ 95   \n",
              "50    67            8.33      23.96561            64          11699   ⋯ 68   \n",
              "82     8            7.93     847.37175            94              1   ⋯ 92   \n",
              "98     1            3.91     295.60871            93             13   ⋯ 95   \n",
              "114    1            9.71   10769.36305            91            340   ⋯ 92   \n",
              "130    0           12.32    8350.19352            98            117   ⋯ 98   \n",
              "146    5            0.01     306.18243            94              0   ⋯ 97   \n",
              "194   98            0.01      10.44640            97            289   ⋯ 97   \n",
              "226    0           13.94    1147.11140            97             64   ⋯ 97   \n",
              "242    0           12.60    7163.34892            98             70   ⋯ 99   \n",
              "258    0            6.58     670.09209            95              0   ⋯ 95   \n",
              "274   25            0.01      90.12207            78            786   ⋯ 74   \n",
              "290    0            0.01     209.39213            99              0   ⋯ 98   \n",
              "322    0            4.03     732.86625            89           3000   ⋯ 86   \n",
              "338    2            0.01     662.80219            95              1   ⋯ 96   \n",
              "354   44            7.32      83.16465            96            876   ⋯ 96   \n",
              "386    1           12.03     153.14004            95              0   ⋯ 88   \n",
              "402   39            0.01       8.38634            91            343   ⋯ 91   \n",
              "418   22            0.01      41.25159            95              0   ⋯ 95   \n",
              "450    0            0.01     414.02424            97              0   ⋯ 95   \n",
              "466   11            0.01      12.17952            88              0   ⋯ 87   \n",
              "482   47            0.01      61.39264            87            831   ⋯ 86   \n",
              "498    2            8.10     102.19022            55            418   ⋯ 91   \n",
              "514   15            0.01      53.43964            47            210   ⋯ 47   \n",
              "530   46            0.01      11.30207            37           1275   ⋯ 44   \n",
              "546    2            7.16    2352.99959            95              0   ⋯ 95   \n",
              "562  171            5.78     109.87439            99          52628   ⋯ 99   \n",
              "578   11            4.38    1435.48776             9              0   ⋯  9   \n",
              "⋮    ⋮             ⋮       ⋮                      ⋮           ⋮       ⋱ ⋮    \n",
              "2153 12            0.01       7.5497972           98            10    ⋯ 98   \n",
              "2202  0            0.01     660.2777923           56             0    ⋯ 58   \n",
              "2219  0            0.01     225.7307751           95             0    ⋯ 95   \n",
              "2251 19            0.26      12.8052853           89            32    ⋯ 85   \n",
              "2267  1            9.09       8.6172084           92            37    ⋯ 93   \n",
              "2283  0            0.01     151.1045552           99             0    ⋯ 99   \n",
              "2299 23            0.01       1.4432864           83          1006    ⋯ 83   \n",
              "2363  0            0.01       3.7184388           88             0    ⋯ 94   \n",
              "2395 42            7.38     922.0507313            8            66    ⋯ 77   \n",
              "2427  1            0.01      42.9884762           96           154    ⋯ 97   \n",
              "2443  3            2.37      42.7308283           99          1686    ⋯ 99   \n",
              "2475  0            6.32    1132.4325170           85             0    ⋯ 85   \n",
              "2491  2            0.01     574.3895102           98             0    ⋯ 98   \n",
              "2507  0            7.30    1142.2124030           67            26    ⋯ 98   \n",
              "2555 10            0.01       7.8290086           97             0    ⋯ 94   \n",
              "2571  8            6.41     789.0772949           99             0    ⋯ 99   \n",
              "2603  2            0.01      28.1457850           77            47    ⋯ 76   \n",
              "2619 13            0.01       4.8773501           87           577    ⋯ 85   \n",
              "2635  0            0.01     565.9672173            8             0    ⋯ 82   \n",
              "2651  0            6.94    1578.8723390           92             0    ⋯ 94   \n",
              "2667  3            1.39     604.8701316           98            15    ⋯ 98   \n",
              "2683 16            1.45     181.9083783           96           565    ⋯ 96   \n",
              "2699  7            2.90     691.1333535           97             0    ⋯ 98   \n",
              "2716 68            0.01      14.1677016           78           314    ⋯ 82   \n",
              "2732  4            8.06       5.6638493           22             0    ⋯ 45   \n",
              "2812  0            6.03     463.6397821           95             0    ⋯ 95   \n",
              "2828 16            0.01       0.4428024           99             8    ⋯ 99   \n",
              "2844  0            0.01     564.8167043           64            10    ⋯ 65   \n",
              "2908 28            0.01     196.6675768           86             9    ⋯ 78   \n",
              "2924 23            6.50      10.8225952           91             0    ⋯ 92   \n",
              "     Total.expenditure Diphtheria HIV.AIDS GDP         Population\n",
              "2     8.18             62         0.1        612.69651   327582  \n",
              "18    5.88             98         0.1       4575.76379   288914  \n",
              "34    7.21             95         0.1        547.85170 39113313  \n",
              "50    3.31             64         2.0        479.31224  2692466  \n",
              "82    4.79             94         0.1      12245.25645 42981515  \n",
              "98    4.48             93         0.1       3994.71236    29622  \n",
              "114   9.42             92         0.1      62214.69120  2346694  \n",
              "130  11.21             98         0.1      51322.63997  8541575  \n",
              "146   6.40             94         0.1       7891.29978   953579  \n",
              "194   2.82             97         0.1        184.56543 15945279  \n",
              "226   5.69             97         0.1       8318.42929  9474511  \n",
              "242   1.59             99         0.1      47439.39684   112957  \n",
              "258   5.79             95         0.2       4852.22367   351694  \n",
              "274   4.59             78         1.1        943.68657  1286712  \n",
              "290   3.57             99         0.5       2522.79680   776448  \n",
              "322   9.57             86         0.1       5193.94932    35662  \n",
              "338   5.41             95         2.3       7497.76238  2168573  \n",
              "354   8.32             93         0.1       1226.61731 24213133  \n",
              "386   8.44             88         0.1       7853.33519  7223938  \n",
              "402   4.96             91         0.6         75.14641 17585977  \n",
              "418   7.54             95         0.7        312.74898   989179  \n",
              "450   4.76             95         0.2       3529.61843   526437  \n",
              "466   5.68             88         0.2        198.68712   152779  \n",
              "482   4.10             87         3.7       1441.14170  2223994  \n",
              "498   1.45             91         0.1        544.43376 35544564  \n",
              "514   4.20             47         4.5        377.13227  4515392  \n",
              "530   3.62             37         2.9        125.99851 13569438  \n",
              "546   7.79             95         0.1      14817.37778 17613798  \n",
              "562   5.55             99         0.1       7683.52380   136427  \n",
              "578   7.20              9         0.1       7913.38343 47791911  \n",
              "⋮    ⋮                 ⋮          ⋮        ⋮           ⋮         \n",
              "2153  7.53             98         0.4         76.56995 11345357  \n",
              "2202  7.22             63         0.1       4178.97337    19229  \n",
              "2219  8.35             95         0.2       1821.87873   191266  \n",
              "2251  4.66             89         0.3        152.44387 14546111  \n",
              "2267  1.37             93         0.1         62.17322   713576  \n",
              "2283  3.37             99         0.1       1557.77892    91359  \n",
              "2299 11.90             83         0.6         78.43948   779162  \n",
              "2363  5.50             88         0.1         29.65262    57554  \n",
              "2395  8.80             77         3.7       6479.62566 54146735  \n",
              "2427  9.30             97         0.1        296.47225  4648882  \n",
              "2443  3.50             99         0.1        382.54994     2771  \n",
              "2475  5.69             85         0.4       9564.46383   547928  \n",
              "2491  9.25             98         7.3       3464.35169   129597  \n",
              "2507 11.93             98         0.1       5918.19898   969611  \n",
              "2555  6.88             97         0.2        114.45919  8362745  \n",
              "2571  4.12             99         0.1       5941.84710 68416772  \n",
              "2603  1.48             77         0.1       1153.51578  1212814  \n",
              "2619  5.25             87         1.0         62.13185  7228915  \n",
              "2635  5.18              8         0.1       4192.34976    15782  \n",
              "2651  5.93             92         0.3      19325.24283  1354493  \n",
              "2667  7.00             98         0.1       4271.68172  1114398  \n",
              "2683  5.41             96         0.1      12127.22522   773628  \n",
              "2699  2.70             98         0.1       7962.36582  5466241  \n",
              "2716  7.22             78         3.2        719.17267 38833338  \n",
              "2732  7.10             23         0.2        314.65830 45271947  \n",
              "2812  8.58             95         0.1      16737.89827  3419546  \n",
              "2828  5.84             99         0.1         25.44841    37577  \n",
              "2844  5.20             64         0.1       3148.36513    25885  \n",
              "2908  4.99             86         4.3       1738.88220  1562974  \n",
              "2924  6.44             91         6.3        127.47462 15411675  \n",
              "     thinness..1.19.years thinness.5.9.years Income.composition.of.resources\n",
              "2    17.5                 17.5               0.476                          \n",
              "18    1.2                  1.3               0.761                          \n",
              "34    6.0                  5.8               0.741                          \n",
              "50    8.5                  8.3               0.527                          \n",
              "82    1.0                  0.9               0.825                          \n",
              "98    2.1                  2.1               0.739                          \n",
              "114   0.6                  0.6               0.936                          \n",
              "130   1.8                  2.0               0.892                          \n",
              "146   2.8                  2.9               0.752                          \n",
              "194  18.1                 18.6               0.570                          \n",
              "226   1.9                  2.0               0.796                          \n",
              "242   1.0                  1.0               0.890                          \n",
              "258   3.4                  3.4               0.705                          \n",
              "274   7.1                  6.9               0.475                          \n",
              "290  15.7                 16.2               0.596                          \n",
              "322   2.4                  2.4               0.742                          \n",
              "338   6.7                  6.4               0.697                          \n",
              "354   2.7                  2.7               0.747                          \n",
              "386   1.9                  1.9               0.787                          \n",
              "402   8.2                  7.7               0.398                          \n",
              "418   7.4                  7.3               0.404                          \n",
              "450   6.8                  6.7               0.643                          \n",
              "466   1.9                 11.0               0.553                          \n",
              "482   5.7                  5.7               0.507                          \n",
              "498   0.5                  0.5               0.912                          \n",
              "514   8.4                  8.3               0.345                          \n",
              "530   8.7                  8.5               0.390                          \n",
              "546   0.8                  0.8               0.841                          \n",
              "562   3.7                  3.0               0.723                          \n",
              "578   2.1                  1.9               0.720                          \n",
              "⋮    ⋮                    ⋮                  ⋮                              \n",
              "2153  5.8                  5.8               0.488                          \n",
              "2202  0.2                  0.1               0.701                          \n",
              "2219  5.6                  5.4               0.562                          \n",
              "2251  9.7                  9.5               0.483                          \n",
              "2267  2.1                  2.1               0.771                          \n",
              "2283  5.7                  6.0               0.766                          \n",
              "2299  7.5                  7.4               0.426                          \n",
              "2363  1.1                  1.2               0.512                          \n",
              "2395  4.9                  5.9               0.660                          \n",
              "2427  0.6                  0.5               0.877                          \n",
              "2443 15.2                 15.0               0.760                          \n",
              "2475  3.5                  3.5               0.722                          \n",
              "2491  4.3                  4.3               0.541                          \n",
              "2507  1.5                  1.3               0.906                          \n",
              "2555  3.6                  3.7               0.622                          \n",
              "2571  7.8                  7.8               0.737                          \n",
              "2603  1.9                 11.1               0.612                          \n",
              "2619  6.6                  6.4               0.475                          \n",
              "2635  0.1                  0.1               0.716                          \n",
              "2651  5.8                  6.0               0.778                          \n",
              "2667  6.5                  6.4               0.722                          \n",
              "2683  4.9                  4.7               0.759                          \n",
              "2699  3.3                  3.3               0.683                          \n",
              "2716  5.7                  5.6               0.483                          \n",
              "2732  2.3                  2.4               0.746                          \n",
              "2812  1.5                  1.4               0.791                          \n",
              "2828  3.0                  3.1               0.690                          \n",
              "2844  1.5                  1.4               0.596                          \n",
              "2908  6.3                  6.2               0.570                          \n",
              "2924  5.9                  5.7               0.498                          \n",
              "     Schooling\n",
              "2    10.0     \n",
              "18   14.2     \n",
              "34   14.4     \n",
              "50   11.4     \n",
              "82   17.3     \n",
              "98   12.7     \n",
              "114  20.4     \n",
              "130  15.9     \n",
              "146  12.2     \n",
              "194  10.0     \n",
              "226  15.7     \n",
              "242  16.3     \n",
              "258  12.8     \n",
              "274  10.7     \n",
              "290  12.5     \n",
              "322  14.2     \n",
              "338  12.6     \n",
              "354  15.2     \n",
              "386  14.8     \n",
              "402   7.7     \n",
              "418  10.6     \n",
              "450  13.5     \n",
              "466  10.9     \n",
              "482  10.4     \n",
              "498  15.9     \n",
              "514   7.1     \n",
              "530   7.3     \n",
              "546  16.2     \n",
              "562  13.1     \n",
              "578  13.6     \n",
              "⋮    ⋮        \n",
              "2153 10.8     \n",
              "2202 12.9     \n",
              "2219 11.1     \n",
              "2251  9.1     \n",
              "2267 14.3     \n",
              "2283 13.2     \n",
              "2299  9.5     \n",
              "2363  9.6     \n",
              "2395 13.0     \n",
              "2427 17.6     \n",
              "2443 14.0     \n",
              "2475 12.7     \n",
              "2491 11.4     \n",
              "2507 15.8     \n",
              "2555 11.3     \n",
              "2571 13.6     \n",
              "2603 12.5     \n",
              "2619 12.0     \n",
              "2635 14.3     \n",
              "2651 12.7     \n",
              "2667 14.7     \n",
              "2683 14.5     \n",
              "2699 10.8     \n",
              "2716 10.0     \n",
              "2732 15.2     \n",
              "2812 15.5     \n",
              "2828 12.1     \n",
              "2844 10.8     \n",
              "2908 12.5     \n",
              "2924 10.3     "
            ]
          },
          "metadata": {}
        }
      ]
    },
    {
      "cell_type": "markdown",
      "metadata": {
        "id": "8639f6db"
      },
      "source": [
        "1.3.* Qual a média de Expectativa de Vida para os países em desenvolvimento e\n",
        " desenvolvidos em 2014?\n",
        "\n"
      ]
    },
    {
      "cell_type": "code",
      "source": [
        "mean(df[df$Year == 2014 & df$Status == \"Developed\", c('Life.expectancy')])\n",
        "mean(df[df$Year == 2014 & df$Status == \"Developing\", c('Life.expectancy')])"
      ],
      "metadata": {
        "id": "1a1491SdyfZ8",
        "outputId": "b1e4c82d-ad72-4d34-c08a-fde1f7e060fc",
        "colab": {
          "base_uri": "https://localhost:8080/",
          "height": 52
        }
      },
      "execution_count": 7,
      "outputs": [
        {
          "output_type": "display_data",
          "data": {
            "text/html": [
              "81.1375"
            ],
            "text/markdown": "81.1375",
            "text/latex": "81.1375",
            "text/plain": [
              "[1] 81.1375"
            ]
          },
          "metadata": {}
        },
        {
          "output_type": "display_data",
          "data": {
            "text/html": [
              "69.5019867549669"
            ],
            "text/markdown": "69.5019867549669",
            "text/latex": "69.5019867549669",
            "text/plain": [
              "[1] 69.50199"
            ]
          },
          "metadata": {}
        }
      ]
    },
    {
      "cell_type": "code",
      "source": [],
      "metadata": {
        "id": "Pp0p3UON03LC"
      },
      "execution_count": 6,
      "outputs": []
    },
    {
      "cell_type": "markdown",
      "metadata": {
        "id": "f416dd8f"
      },
      "source": [
        "1.4. Qual a média, mediana e quartis de BMI e Expectativa de Vida para os países desenvolvidos em 2014?\n",
        "\n",
        "**Solução**"
      ]
    },
    {
      "cell_type": "code",
      "metadata": {
        "kernel": "R",
        "tags": [
          "report_cell"
        ],
        "id": "6c706ab8",
        "colab": {
          "base_uri": "https://localhost:8080/",
          "height": 139
        },
        "outputId": "ac0951bf-4906-4aaa-fde0-5e2e112da997"
      },
      "source": [
        "summary( df[df$Status == 'Developed', c('BMI','Life.expectancy')] )"
      ],
      "execution_count": 7,
      "outputs": [
        {
          "output_type": "display_data",
          "data": {
            "text/plain": [
              "      BMI        Life.expectancy\n",
              " Min.   : 5.10   Min.   :69.90  \n",
              " 1st Qu.:54.92   1st Qu.:75.55  \n",
              " Median :58.10   Median :78.95  \n",
              " Mean   :52.34   Mean   :78.69  \n",
              " 3rd Qu.:61.08   3rd Qu.:81.40  \n",
              " Max.   :69.20   Max.   :89.00  "
            ]
          },
          "metadata": {}
        }
      ]
    },
    {
      "cell_type": "markdown",
      "metadata": {
        "id": "205b69b7"
      },
      "source": [
        "1.5. Qual a média e desvio padrão para os valores de BMI e Expectativa de Vida para os países em desenvolvimento e desenvolvidos em 2014?\n",
        "\n",
        "**Solução**"
      ]
    },
    {
      "cell_type": "code",
      "metadata": {
        "kernel": "R",
        "tags": [
          "report_cell"
        ],
        "id": "124c21e2",
        "colab": {
          "base_uri": "https://localhost:8080/"
        },
        "outputId": "14e82cf5-4210-40af-9ffd-e1a899efa658"
      },
      "source": [
        "for (s in unique(df$Status)){\n",
        "  cat('\\n', s , '\\nLife',  mean(df[df$Status == s, ]$Life.expectancy),\n",
        "      sd(df[df$Status == s, ]$Life.expectancy))\n",
        "  cat('\\nBMI',  mean(df[df$Status == s, ]$BMI),\n",
        "      sd(df[df$Status == s, ]$BMI))\n",
        "}"
      ],
      "execution_count": 8,
      "outputs": [
        {
          "output_type": "stream",
          "name": "stdout",
          "text": [
            "\n",
            " Developing \n",
            "Life 67.68735 8.353983\n",
            "BMI 35.68486 19.05403\n",
            " Developed \n",
            "Life 78.69174 4.273485\n",
            "BMI 52.33678 17.68643"
          ]
        }
      ]
    },
    {
      "cell_type": "markdown",
      "metadata": {
        "id": "8c9ba974"
      },
      "source": [
        "1.6. Existe correlação significativa entre BMI e Expectativa de Vida para os desenvolvidos em 2014?\n",
        "\n",
        "**Solução**"
      ]
    },
    {
      "cell_type": "code",
      "source": [
        "df = na.omit(df)\n",
        "\n",
        "cor(df[df$Status == 'Developed', ]$Life.expectancy,df[df$Status == 'Developed', , ]$BMI)\n",
        "# Próximo de 0, não existe correlação"
      ],
      "metadata": {
        "id": "d784be70",
        "outputId": "2c2a2a17-cfac-412a-fc27-7afd20fba1ef",
        "colab": {
          "base_uri": "https://localhost:8080/",
          "height": 34
        }
      },
      "execution_count": 2,
      "outputs": [
        {
          "output_type": "display_data",
          "data": {
            "text/html": [
              "0.01079434084272"
            ],
            "text/markdown": "0.01079434084272",
            "text/latex": "0.01079434084272",
            "text/plain": [
              "[1] 0.01079434"
            ]
          },
          "metadata": {}
        }
      ]
    },
    {
      "cell_type": "markdown",
      "metadata": {
        "id": "410a2c2b"
      },
      "source": [
        "1.7.* E para países em desenvolvimento, existe correlação significativa entre BMI e Expectativa de Vida em 2014?\n"
      ]
    },
    {
      "cell_type": "code",
      "source": [
        "df = na.omit(df)\n",
        "\n",
        "cor(df[df$Status=='Developing',]$Life.expectancy,df[df$Status=='Developing', , ]$BMI)"
      ],
      "metadata": {
        "id": "tZQf794az4rL",
        "outputId": "be4958f7-7e79-4ff3-f351-6764502a94c5",
        "colab": {
          "base_uri": "https://localhost:8080/",
          "height": 34
        }
      },
      "execution_count": 3,
      "outputs": [
        {
          "output_type": "display_data",
          "data": {
            "text/html": [
              "0.523659677510349"
            ],
            "text/markdown": "0.523659677510349",
            "text/latex": "0.523659677510349",
            "text/plain": [
              "[1] 0.5236597"
            ]
          },
          "metadata": {}
        }
      ]
    },
    {
      "cell_type": "code",
      "source": [
        "# Verificar a soma total de valores nulos no dataframe\n",
        "sum(is.na(df))\n"
      ],
      "metadata": {
        "id": "scL5Lisg5al5",
        "outputId": "5ebbdc1a-3677-4c40-93a1-e26ece31105f",
        "colab": {
          "base_uri": "https://localhost:8080/",
          "height": 34
        }
      },
      "execution_count": 18,
      "outputs": [
        {
          "output_type": "display_data",
          "data": {
            "text/html": [
              "0"
            ],
            "text/markdown": "0",
            "text/latex": "0",
            "text/plain": [
              "[1] 0"
            ]
          },
          "metadata": {}
        }
      ]
    },
    {
      "cell_type": "code",
      "source": [
        "# Carregar o pacote necessário\n",
        "library(dplyr)\n",
        "\n",
        "# Filtrar os dados para o ano de 2014\n",
        "df_2014 <- df %>% filter(Year == 2014)\n",
        "\n",
        "# Calcular a correlação entre BMI e Expectativa de Vida\n",
        "correlation <- cor(df_2014$BMI, df_2014$Life.expectancy, use = \"complete.obs\")\n",
        "\n",
        "# Exibir o valor da correlação\n",
        "print(paste(\"Correlação entre BMI e Expectativa de Vida em 2014: \", correlation))"
      ],
      "metadata": {
        "id": "W-nn1F1c08f5",
        "outputId": "71a9893a-b4bc-4a71-f44d-95c3389f8e8d",
        "colab": {
          "base_uri": "https://localhost:8080/"
        }
      },
      "execution_count": 11,
      "outputs": [
        {
          "output_type": "stream",
          "name": "stderr",
          "text": [
            "\n",
            "Attaching package: ‘dplyr’\n",
            "\n",
            "\n",
            "The following objects are masked from ‘package:stats’:\n",
            "\n",
            "    filter, lag\n",
            "\n",
            "\n",
            "The following objects are masked from ‘package:base’:\n",
            "\n",
            "    intersect, setdiff, setequal, union\n",
            "\n",
            "\n"
          ]
        },
        {
          "output_type": "stream",
          "name": "stdout",
          "text": [
            "[1] \"Correlação entre BMI e Expectativa de Vida em 2014:  0.555226486506446\"\n"
          ]
        }
      ]
    },
    {
      "cell_type": "markdown",
      "metadata": {
        "id": "e9193695"
      },
      "source": [
        "1.8.* Leia os dados novamente com todos os anos. Existem *outliers* de BMI e Expectativa de Vida no conjunto de todos os países? Se sim, quantos dados são outliers? (empregue o critério dos interquartis)\n",
        "\n",
        "DICA: empregue o comando `df = na.omit(df)` para eliminar valores ausentes nos dados como fizemos no início do exercício.\n",
        "\n"
      ]
    },
    {
      "cell_type": "code",
      "source": [
        "boxplot(df$Life.expectancy, data = df, main=\"Life.expectency\", col=\"Blue\")"
      ],
      "metadata": {
        "id": "73uhS0YH71cL",
        "outputId": "c5d8a24a-570e-4849-e6f0-a05dbc31334a",
        "colab": {
          "base_uri": "https://localhost:8080/",
          "height": 437
        }
      },
      "execution_count": 7,
      "outputs": [
        {
          "output_type": "display_data",
          "data": {
            "text/plain": [
              "Plot with title “Life.expectency”"
            ],
            "image/png": "[encoded data removed]"
          },
          "metadata": {
            "image/png": {
              "width": 420,
              "height": 420
            }
          }
        }
      ]
    },
    {
      "cell_type": "code",
      "source": [
        "summary(df$Life.expectancy)"
      ],
      "metadata": {
        "id": "BSXw6nwy8vCV",
        "outputId": "4896334c-8e3b-4777-8f14-f86f14bdbe5a",
        "colab": {
          "base_uri": "https://localhost:8080/",
          "height": 52
        }
      },
      "execution_count": 8,
      "outputs": [
        {
          "output_type": "display_data",
          "data": {
            "text/plain": [
              "   Min. 1st Qu.  Median    Mean 3rd Qu.    Max. \n",
              "   44.0    64.4    71.7    69.3    75.0    89.0 "
            ]
          },
          "metadata": {}
        }
      ]
    },
    {
      "cell_type": "code",
      "source": [
        "# ITQ * 1,5 + 3Q"
      ],
      "metadata": {
        "id": "p-Ob2P1t85-q"
      },
      "execution_count": null,
      "outputs": []
    },
    {
      "cell_type": "code",
      "source": [
        "Q3 = quantile(df$Life.expectancy, probs = .75)\n",
        "Q1 = quantile(df$Life.expectancy, probs = .25)\n",
        "Q1\n",
        "Q3"
      ],
      "metadata": {
        "id": "Hvnpn7fy9Kqm",
        "outputId": "66fd8c0c-5bc6-4c28-c351-6838bea60f25",
        "colab": {
          "base_uri": "https://localhost:8080/",
          "height": 52
        }
      },
      "execution_count": 12,
      "outputs": [
        {
          "output_type": "display_data",
          "data": {
            "text/html": [
              "<strong>25%:</strong> 64.4"
            ],
            "text/markdown": "**25%:** 64.4",
            "text/latex": "\\textbf{25\\textbackslash{}\\%:} 64.4",
            "text/plain": [
              " 25% \n",
              "64.4 "
            ]
          },
          "metadata": {}
        },
        {
          "output_type": "display_data",
          "data": {
            "text/html": [
              "<strong>75%:</strong> 75"
            ],
            "text/markdown": "**75%:** 75",
            "text/latex": "\\textbf{75\\textbackslash{}\\%:} 75",
            "text/plain": [
              "75% \n",
              " 75 "
            ]
          },
          "metadata": {}
        }
      ]
    },
    {
      "cell_type": "code",
      "source": [
        "IQR = Q3-Q1\n",
        "IQR"
      ],
      "metadata": {
        "id": "MWvWVsPV9eHE",
        "outputId": "39ff5a90-5c93-4e8a-86e5-89539b33910c",
        "colab": {
          "base_uri": "https://localhost:8080/",
          "height": 34
        }
      },
      "execution_count": 16,
      "outputs": [
        {
          "output_type": "display_data",
          "data": {
            "text/html": [
              "<strong>75%:</strong> 10.6"
            ],
            "text/markdown": "**75%:** 10.6",
            "text/latex": "\\textbf{75\\textbackslash{}\\%:} 10.6",
            "text/plain": [
              " 75% \n",
              "10.6 "
            ]
          },
          "metadata": {}
        }
      ]
    },
    {
      "cell_type": "code",
      "source": [
        "# Out = (IQR * 1.5 ) + Q3\n",
        "Out ="
      ],
      "metadata": {
        "id": "62WeH4nZ9tfS",
        "outputId": "a32d701f-1f18-4828-b36d-4119091bcda2",
        "colab": {
          "base_uri": "https://localhost:8080/",
          "height": 34
        }
      },
      "execution_count": 18,
      "outputs": [
        {
          "output_type": "display_data",
          "data": {
            "text/html": [
              "<strong>75%:</strong> 90.9"
            ],
            "text/markdown": "**75%:** 90.9",
            "text/latex": "\\textbf{75\\textbackslash{}\\%:} 90.9",
            "text/plain": [
              " 75% \n",
              "90.9 "
            ]
          },
          "metadata": {}
        }
      ]
    },
    {
      "cell_type": "code",
      "source": [
        "nrow(df[df$Life.expectancy < Out, ])"
      ],
      "metadata": {
        "id": "JieVGh4D99o7",
        "outputId": "78f3afec-fdf6-4e26-f7a5-881b9e2c0667",
        "colab": {
          "base_uri": "https://localhost:8080/",
          "height": 34
        }
      },
      "execution_count": 25,
      "outputs": [
        {
          "output_type": "display_data",
          "data": {
            "text/html": [
              "1649"
            ],
            "text/markdown": "1649",
            "text/latex": "1649",
            "text/plain": [
              "[1] 1649"
            ]
          },
          "metadata": {}
        }
      ]
    },
    {
      "cell_type": "markdown",
      "metadata": {
        "id": "5ea04792"
      },
      "source": [
        "1.9. Qual a média de Expectativa de Vida com e sem *outliers* (lembre-se de considerar aqui a base completa)?\n",
        "\n",
        "**Solução**"
      ]
    },
    {
      "cell_type": "code",
      "metadata": {
        "kernel": "R",
        "tags": [
          "report_cell"
        ],
        "id": "36786d0f",
        "colab": {
          "base_uri": "https://localhost:8080/",
          "height": 52
        },
        "outputId": "9a3773f7-e3cb-4bad-9db4-7906db55792c"
      },
      "source": [
        "require(stats)\n",
        "iqr = IQR(df$Life.expectancy)\n",
        "\n",
        "mean(df[ - ( (df$Life.expectancy > quantile(df$Life.expectancy,0.75) + 1.5*iqr) |\n",
        "          (df$Life.expectancy < quantile(df$Life.expectancy,0.25) - 1.5*iqr) ), ]$Life.expectancy)\n",
        "\n",
        "mean(df$Life.expectancy)"
      ],
      "execution_count": 12,
      "outputs": [
        {
          "output_type": "display_data",
          "data": {
            "text/html": [
              "69.3049150485437"
            ],
            "text/markdown": "69.3049150485437",
            "text/latex": "69.3049150485437",
            "text/plain": [
              "[1] 69.30492"
            ]
          },
          "metadata": {}
        },
        {
          "output_type": "display_data",
          "data": {
            "text/html": [
              "69.3023044269254"
            ],
            "text/markdown": "69.3023044269254",
            "text/latex": "69.3023044269254",
            "text/plain": [
              "[1] 69.3023"
            ]
          },
          "metadata": {}
        }
      ]
    },
    {
      "cell_type": "markdown",
      "metadata": {
        "id": "d7d98fd4"
      },
      "source": [
        "## Exercício 2\n",
        "Considere a base."
      ]
    },
    {
      "cell_type": "code",
      "metadata": {
        "kernel": "R",
        "tags": [
          "report_cell"
        ],
        "id": "c5aeb361",
        "colab": {
          "base_uri": "https://localhost:8080/",
          "height": 286
        },
        "outputId": "c266bfd6-caba-47bf-9534-c99dc0239fd3"
      },
      "source": [
        "library(MASS)\n",
        "# help(painters)\n",
        "painters = na.omit(painters)\n",
        "head(painters)"
      ],
      "execution_count": 26,
      "outputs": [
        {
          "output_type": "display_data",
          "data": {
            "text/html": [
              "<table class=\"dataframe\">\n",
              "<caption>A data.frame: 6 × 5</caption>\n",
              "<thead>\n",
              "\t<tr><th></th><th scope=col>Composition</th><th scope=col>Drawing</th><th scope=col>Colour</th><th scope=col>Expression</th><th scope=col>School</th></tr>\n",
              "\t<tr><th></th><th scope=col>&lt;int&gt;</th><th scope=col>&lt;int&gt;</th><th scope=col>&lt;int&gt;</th><th scope=col>&lt;int&gt;</th><th scope=col>&lt;fct&gt;</th></tr>\n",
              "</thead>\n",
              "<tbody>\n",
              "\t<tr><th scope=row>Da Udine</th><td>10</td><td> 8</td><td>16</td><td> 3</td><td>A</td></tr>\n",
              "\t<tr><th scope=row>Da Vinci</th><td>15</td><td>16</td><td> 4</td><td>14</td><td>A</td></tr>\n",
              "\t<tr><th scope=row>Del Piombo</th><td> 8</td><td>13</td><td>16</td><td> 7</td><td>A</td></tr>\n",
              "\t<tr><th scope=row>Del Sarto</th><td>12</td><td>16</td><td> 9</td><td> 8</td><td>A</td></tr>\n",
              "\t<tr><th scope=row>Fr. Penni</th><td> 0</td><td>15</td><td> 8</td><td> 0</td><td>A</td></tr>\n",
              "\t<tr><th scope=row>Guilio Romano</th><td>15</td><td>16</td><td> 4</td><td>14</td><td>A</td></tr>\n",
              "</tbody>\n",
              "</table>\n"
            ],
            "text/markdown": "\nA data.frame: 6 × 5\n\n| <!--/--> | Composition &lt;int&gt; | Drawing &lt;int&gt; | Colour &lt;int&gt; | Expression &lt;int&gt; | School &lt;fct&gt; |\n|---|---|---|---|---|---|\n| Da Udine | 10 |  8 | 16 |  3 | A |\n| Da Vinci | 15 | 16 |  4 | 14 | A |\n| Del Piombo |  8 | 13 | 16 |  7 | A |\n| Del Sarto | 12 | 16 |  9 |  8 | A |\n| Fr. Penni |  0 | 15 |  8 |  0 | A |\n| Guilio Romano | 15 | 16 |  4 | 14 | A |\n\n",
            "text/latex": "A data.frame: 6 × 5\n\\begin{tabular}{r|lllll}\n  & Composition & Drawing & Colour & Expression & School\\\\\n  & <int> & <int> & <int> & <int> & <fct>\\\\\n\\hline\n\tDa Udine & 10 &  8 & 16 &  3 & A\\\\\n\tDa Vinci & 15 & 16 &  4 & 14 & A\\\\\n\tDel Piombo &  8 & 13 & 16 &  7 & A\\\\\n\tDel Sarto & 12 & 16 &  9 &  8 & A\\\\\n\tFr. Penni &  0 & 15 &  8 &  0 & A\\\\\n\tGuilio Romano & 15 & 16 &  4 & 14 & A\\\\\n\\end{tabular}\n",
            "text/plain": [
              "              Composition Drawing Colour Expression School\n",
              "Da Udine      10           8      16      3         A     \n",
              "Da Vinci      15          16       4     14         A     \n",
              "Del Piombo     8          13      16      7         A     \n",
              "Del Sarto     12          16       9      8         A     \n",
              "Fr. Penni      0          15       8      0         A     \n",
              "Guilio Romano 15          16       4     14         A     "
            ]
          },
          "metadata": {}
        }
      ]
    },
    {
      "cell_type": "markdown",
      "metadata": {
        "id": "a5925025"
      },
      "source": [
        "2.1. Quantos tipos de escolas de pintores existem?\n",
        "\n",
        "**Solução**"
      ]
    },
    {
      "cell_type": "code",
      "metadata": {
        "kernel": "R",
        "tags": [
          "report_cell"
        ],
        "id": "5ce2e9f8",
        "colab": {
          "base_uri": "https://localhost:8080/",
          "height": 104
        },
        "outputId": "2853647b-c371-44f1-dffd-1b2ccf12f8d7"
      },
      "source": [
        "unique(painters$School)\n",
        "table(painters$School)"
      ],
      "execution_count": 27,
      "outputs": [
        {
          "output_type": "display_data",
          "data": {
            "text/html": [
              "<style>\n",
              ".list-inline {list-style: none; margin:0; padding: 0}\n",
              ".list-inline>li {display: inline-block}\n",
              ".list-inline>li:not(:last-child)::after {content: \"\\00b7\"; padding: 0 .5ex}\n",
              "</style>\n",
              "<ol class=list-inline><li>A</li><li>B</li><li>C</li><li>D</li><li>E</li><li>F</li><li>G</li><li>H</li></ol>\n",
              "\n",
              "<details>\n",
              "\t<summary style=display:list-item;cursor:pointer>\n",
              "\t\t<strong>Levels</strong>:\n",
              "\t</summary>\n",
              "\t<style>\n",
              "\t.list-inline {list-style: none; margin:0; padding: 0}\n",
              "\t.list-inline>li {display: inline-block}\n",
              "\t.list-inline>li:not(:last-child)::after {content: \"\\00b7\"; padding: 0 .5ex}\n",
              "\t</style>\n",
              "\t<ol class=list-inline><li>'A'</li><li>'B'</li><li>'C'</li><li>'D'</li><li>'E'</li><li>'F'</li><li>'G'</li><li>'H'</li></ol>\n",
              "</details>"
            ],
            "text/markdown": "1. A\n2. B\n3. C\n4. D\n5. E\n6. F\n7. G\n8. H\n\n\n\n**Levels**: 1. 'A'\n2. 'B'\n3. 'C'\n4. 'D'\n5. 'E'\n6. 'F'\n7. 'G'\n8. 'H'\n\n\n",
            "text/latex": "\\begin{enumerate*}\n\\item A\n\\item B\n\\item C\n\\item D\n\\item E\n\\item F\n\\item G\n\\item H\n\\end{enumerate*}\n\n\\emph{Levels}: \\begin{enumerate*}\n\\item 'A'\n\\item 'B'\n\\item 'C'\n\\item 'D'\n\\item 'E'\n\\item 'F'\n\\item 'G'\n\\item 'H'\n\\end{enumerate*}\n",
            "text/plain": [
              "[1] A B C D E F G H\n",
              "Levels: A B C D E F G H"
            ]
          },
          "metadata": {}
        },
        {
          "output_type": "display_data",
          "data": {
            "text/plain": [
              "\n",
              " A  B  C  D  E  F  G  H \n",
              "10  6  6 10  7  4  7  4 "
            ]
          },
          "metadata": {}
        }
      ]
    },
    {
      "cell_type": "markdown",
      "metadata": {
        "id": "f34b2b9c"
      },
      "source": [
        "2.2. Qual a *moda* das escolas de pintores?\n",
        "\n",
        "**Solução**"
      ]
    },
    {
      "cell_type": "code",
      "metadata": {
        "kernel": "R",
        "tags": [
          "report_cell"
        ],
        "id": "8cb121c2",
        "colab": {
          "base_uri": "https://localhost:8080/",
          "height": 69
        },
        "outputId": "d7525d14-692d-417c-82dd-03526b489b2f"
      },
      "source": [
        "table(painters$School)\n",
        "# Podemos ver que 'D' é o valor mais frequente"
      ],
      "execution_count": 15,
      "outputs": [
        {
          "output_type": "display_data",
          "data": {
            "text/plain": [
              "\n",
              " A  B  C  D  E  F  G  H \n",
              "10  6  6 10  7  4  7  4 "
            ]
          },
          "metadata": {}
        }
      ]
    },
    {
      "cell_type": "markdown",
      "metadata": {
        "id": "7c3ba180"
      },
      "source": [
        "2.3.* Quantos pintores estão acima da média em composição?\n",
        "\n"
      ]
    },
    {
      "cell_type": "code",
      "source": [
        "mean(painters$Composition)"
      ],
      "metadata": {
        "id": "xQKazrauBQ4D",
        "outputId": "d59fe6fe-5f6a-40ef-eab8-e0eb0dfb88df",
        "colab": {
          "base_uri": "https://localhost:8080/",
          "height": 34
        }
      },
      "execution_count": 28,
      "outputs": [
        {
          "output_type": "display_data",
          "data": {
            "text/html": [
              "11.5555555555556"
            ],
            "text/markdown": "11.5555555555556",
            "text/latex": "11.5555555555556",
            "text/plain": [
              "[1] 11.55556"
            ]
          },
          "metadata": {}
        }
      ]
    },
    {
      "cell_type": "code",
      "source": [
        "nrow(painters[painters$Composition > 11.55,])"
      ],
      "metadata": {
        "id": "nO6wLjyHBjQR",
        "outputId": "5fb933cd-13c7-47d3-c781-d4b162b374e2",
        "colab": {
          "base_uri": "https://localhost:8080/",
          "height": 34
        }
      },
      "execution_count": 33,
      "outputs": [
        {
          "output_type": "display_data",
          "data": {
            "text/html": [
              "31"
            ],
            "text/markdown": "31",
            "text/latex": "31",
            "text/plain": [
              "[1] 31"
            ]
          },
          "metadata": {}
        }
      ]
    },
    {
      "cell_type": "markdown",
      "metadata": {
        "id": "c947d621"
      },
      "source": [
        "2.4. Qual o pintor ou pintores com maior pontuação considerando todos os critérios? Não há muita surpresa aqui não?\n",
        "\n",
        "DICA: crie uma nota com a soma de todas as pontuações dos pintores.\n",
        "\n",
        "**Solução**"
      ]
    },
    {
      "cell_type": "code",
      "metadata": {
        "kernel": "R",
        "tags": [
          "report_cell"
        ],
        "id": "8bdc564f",
        "colab": {
          "base_uri": "https://localhost:8080/",
          "height": 430
        },
        "outputId": "b3f9aac1-a353-40c3-ceaa-b94aa33f7d47"
      },
      "source": [
        "painters['Score'] = painters[,c(1)] + painters[,c(2)] + painters[,c(3)] + painters[,c(4)]\n",
        "head(painters)\n",
        "painters[painters$Score == max(painters$Score), ]"
      ],
      "execution_count": 16,
      "outputs": [
        {
          "output_type": "display_data",
          "data": {
            "text/html": [
              "<table class=\"dataframe\">\n",
              "<caption>A data.frame: 6 × 6</caption>\n",
              "<thead>\n",
              "\t<tr><th></th><th scope=col>Composition</th><th scope=col>Drawing</th><th scope=col>Colour</th><th scope=col>Expression</th><th scope=col>School</th><th scope=col>Score</th></tr>\n",
              "\t<tr><th></th><th scope=col>&lt;int&gt;</th><th scope=col>&lt;int&gt;</th><th scope=col>&lt;int&gt;</th><th scope=col>&lt;int&gt;</th><th scope=col>&lt;fct&gt;</th><th scope=col>&lt;int&gt;</th></tr>\n",
              "</thead>\n",
              "<tbody>\n",
              "\t<tr><th scope=row>Da Udine</th><td>10</td><td> 8</td><td>16</td><td> 3</td><td>A</td><td>37</td></tr>\n",
              "\t<tr><th scope=row>Da Vinci</th><td>15</td><td>16</td><td> 4</td><td>14</td><td>A</td><td>49</td></tr>\n",
              "\t<tr><th scope=row>Del Piombo</th><td> 8</td><td>13</td><td>16</td><td> 7</td><td>A</td><td>44</td></tr>\n",
              "\t<tr><th scope=row>Del Sarto</th><td>12</td><td>16</td><td> 9</td><td> 8</td><td>A</td><td>45</td></tr>\n",
              "\t<tr><th scope=row>Fr. Penni</th><td> 0</td><td>15</td><td> 8</td><td> 0</td><td>A</td><td>23</td></tr>\n",
              "\t<tr><th scope=row>Guilio Romano</th><td>15</td><td>16</td><td> 4</td><td>14</td><td>A</td><td>49</td></tr>\n",
              "</tbody>\n",
              "</table>\n"
            ],
            "text/markdown": "\nA data.frame: 6 × 6\n\n| <!--/--> | Composition &lt;int&gt; | Drawing &lt;int&gt; | Colour &lt;int&gt; | Expression &lt;int&gt; | School &lt;fct&gt; | Score &lt;int&gt; |\n|---|---|---|---|---|---|---|\n| Da Udine | 10 |  8 | 16 |  3 | A | 37 |\n| Da Vinci | 15 | 16 |  4 | 14 | A | 49 |\n| Del Piombo |  8 | 13 | 16 |  7 | A | 44 |\n| Del Sarto | 12 | 16 |  9 |  8 | A | 45 |\n| Fr. Penni |  0 | 15 |  8 |  0 | A | 23 |\n| Guilio Romano | 15 | 16 |  4 | 14 | A | 49 |\n\n",
            "text/latex": "A data.frame: 6 × 6\n\\begin{tabular}{r|llllll}\n  & Composition & Drawing & Colour & Expression & School & Score\\\\\n  & <int> & <int> & <int> & <int> & <fct> & <int>\\\\\n\\hline\n\tDa Udine & 10 &  8 & 16 &  3 & A & 37\\\\\n\tDa Vinci & 15 & 16 &  4 & 14 & A & 49\\\\\n\tDel Piombo &  8 & 13 & 16 &  7 & A & 44\\\\\n\tDel Sarto & 12 & 16 &  9 &  8 & A & 45\\\\\n\tFr. Penni &  0 & 15 &  8 &  0 & A & 23\\\\\n\tGuilio Romano & 15 & 16 &  4 & 14 & A & 49\\\\\n\\end{tabular}\n",
            "text/plain": [
              "              Composition Drawing Colour Expression School Score\n",
              "Da Udine      10           8      16      3         A      37   \n",
              "Da Vinci      15          16       4     14         A      49   \n",
              "Del Piombo     8          13      16      7         A      44   \n",
              "Del Sarto     12          16       9      8         A      45   \n",
              "Fr. Penni      0          15       8      0         A      23   \n",
              "Guilio Romano 15          16       4     14         A      49   "
            ]
          },
          "metadata": {}
        },
        {
          "output_type": "display_data",
          "data": {
            "text/html": [
              "<table class=\"dataframe\">\n",
              "<caption>A data.frame: 2 × 6</caption>\n",
              "<thead>\n",
              "\t<tr><th></th><th scope=col>Composition</th><th scope=col>Drawing</th><th scope=col>Colour</th><th scope=col>Expression</th><th scope=col>School</th><th scope=col>Score</th></tr>\n",
              "\t<tr><th></th><th scope=col>&lt;int&gt;</th><th scope=col>&lt;int&gt;</th><th scope=col>&lt;int&gt;</th><th scope=col>&lt;int&gt;</th><th scope=col>&lt;fct&gt;</th><th scope=col>&lt;int&gt;</th></tr>\n",
              "</thead>\n",
              "<tbody>\n",
              "\t<tr><th scope=row>Raphael</th><td>17</td><td>18</td><td>12</td><td>18</td><td>A</td><td>65</td></tr>\n",
              "\t<tr><th scope=row>Rubens</th><td>18</td><td>13</td><td>17</td><td>17</td><td>G</td><td>65</td></tr>\n",
              "</tbody>\n",
              "</table>\n"
            ],
            "text/markdown": "\nA data.frame: 2 × 6\n\n| <!--/--> | Composition &lt;int&gt; | Drawing &lt;int&gt; | Colour &lt;int&gt; | Expression &lt;int&gt; | School &lt;fct&gt; | Score &lt;int&gt; |\n|---|---|---|---|---|---|---|\n| Raphael | 17 | 18 | 12 | 18 | A | 65 |\n| Rubens | 18 | 13 | 17 | 17 | G | 65 |\n\n",
            "text/latex": "A data.frame: 2 × 6\n\\begin{tabular}{r|llllll}\n  & Composition & Drawing & Colour & Expression & School & Score\\\\\n  & <int> & <int> & <int> & <int> & <fct> & <int>\\\\\n\\hline\n\tRaphael & 17 & 18 & 12 & 18 & A & 65\\\\\n\tRubens & 18 & 13 & 17 & 17 & G & 65\\\\\n\\end{tabular}\n",
            "text/plain": [
              "        Composition Drawing Colour Expression School Score\n",
              "Raphael 17          18      12     18         A      65   \n",
              "Rubens  18          13      17     17         G      65   "
            ]
          },
          "metadata": {}
        }
      ]
    },
    {
      "cell_type": "markdown",
      "metadata": {
        "id": "dd395e34"
      },
      "source": [
        "2.5. Explore a mediana e média através das notas de Composição e Colour dos pintores.\n",
        "\n",
        "**Solução**"
      ]
    },
    {
      "cell_type": "code",
      "metadata": {
        "kernel": "R",
        "tags": [
          "report_cell"
        ],
        "id": "5ed86236",
        "colab": {
          "base_uri": "https://localhost:8080/",
          "height": 437
        },
        "outputId": "0a0ff482-66eb-45d8-b512-d2f704a45d3d"
      },
      "source": [
        "# Faremos uma exploração gráfica empregando vários recursos avançados aqui apenas para\n",
        "# você 'visualizar' as relações entre a média e mediana, o que pode ser bastante útil\n",
        "# para você. Mas sua solução solução pode mesmo ser simples e apenas comparar os valores. ;-)\n",
        "\n",
        "par(mfrow = c(1, 2))\n",
        "x = painters$Colour\n",
        "h = hist(x, col=\"lightblue\", xlab=\"Colour scores\", main=\"Média e Mediana\", xlim=c(0,30))\n",
        "xfit = seq(min(x)-3*sd(x),max(x)+4*sd(x),length=100)\n",
        "yfit = dnorm(xfit,mean=mean(x),sd=sd(x))\n",
        "yfit = yfit*diff(h$mids[1:2])*length(x)\n",
        "lines(xfit, yfit, col=\"black\", lwd=1)\n",
        "abline(v=mean(painters$Colour),col='red',lty = 2, lwd = 2)\n",
        "abline(v=median(painters$Colour),col='darkblue',lty = 2, lwd = 2)\n",
        "\n",
        "x = painters$Composition\n",
        "h = hist(x, col=\"lightblue\", xlab=\"Composition Scores\", main=\"Média e Mediana\", xlim=c(0,30))\n",
        "xfit = seq(min(x)-3*sd(x),max(x)+4*sd(x),length=100)\n",
        "yfit = dnorm(xfit,mean=mean(x),sd=sd(x))\n",
        "yfit = yfit*diff(h$mids[1:2])*length(x)\n",
        "lines(xfit, yfit, col=\"black\", lwd=1)\n",
        "abline(v=mean(painters$Colour),col='red',lty = 2, lwd = 2)\n",
        "abline(v=median(painters$Colour),col='darkblue',lty = 2, lwd = 2)"
      ],
      "execution_count": 17,
      "outputs": [
        {
          "output_type": "display_data",
          "data": {
            "text/plain": [
              "Plot with title “Média e Mediana”"
            ],
            "image/png": "[encoded data removed]"
          },
          "metadata": {
            "image/png": {
              "width": 420,
              "height": 420
            }
          }
        }
      ]
    },
    {
      "cell_type": "markdown",
      "metadata": {
        "id": "a79ecaa2"
      },
      "source": [
        "## Exercício 3\n",
        "\n",
        "3.1.* A mediana e desvio padrão são estatísticas que ajudam a compreender:\n",
        "\n",
        "  a. A centralidade e dispersão dos dados\n",
        "\n",
        "  b. A centralidade dos dados\n",
        "\n",
        "  c. A dispersão dos dados\n",
        "\n",
        "  d. A posição dos dados\n",
        "\n",
        "  e. Nenhuma das alternativas\n",
        "\n"
      ]
    },
    {
      "cell_type": "markdown",
      "metadata": {
        "id": "2a80438f"
      },
      "source": [
        "3.2.* Um conjunto de dados com um desvio padrão alto:\n",
        "\n",
        "  a. Está mais concentrado\n",
        "\n",
        "  b. É mais disperso\n",
        "\n",
        "  c. Apresenta média e medianas próximas\n",
        "\n",
        "  d. Apresenta média e medianas distantes\n",
        "  \n",
        "  e. Nenhuma das alternativas\n",
        "\n"
      ]
    },
    {
      "cell_type": "markdown",
      "metadata": {
        "id": "4e00fcb2"
      },
      "source": [
        "3.3.* Uma correlação, entre duas variáveis, próxima de zero indica que:\n",
        "\n",
        "  a. As variáveis são independentes\n",
        "\n",
        "  b. As variáveis não tem relação\n",
        "\n",
        "  c. As variáveis não tem relação linear\n",
        "\n",
        "  d. As variáveis apresentam valores muito iguais\n",
        "  \n",
        "  e. Nenhuma das alternativas\n",
        "\n"
      ]
    },
    {
      "cell_type": "markdown",
      "metadata": {
        "id": "fa9238ca"
      },
      "source": [
        "3.4.* Outliers nos dados ser encontrados por:\n",
        "\n",
        "  a. Erros de medida\n",
        "\n",
        "  b. Erro na entrada dos dados\n",
        "\n",
        "  c. Ruído nos dados (interferências)\n",
        "\n",
        "  d. Valores legítimos mas que de fato se destacam do padrão dos dados\n",
        "\n",
        "  e. Todas as alternativas\n",
        "\n"
      ]
    },
    {
      "cell_type": "markdown",
      "metadata": {
        "id": "010143b6"
      },
      "source": [
        "3.5.* Sobre o desvio padrão:\n",
        "\n",
        "  i. Diferentemente da variância encontra-se na mesma unidade que os dados\n",
        "\n",
        "  ii. É igual ao quadrado da variância\n",
        "\n",
        "  iii. É uma medida de dispersão dos dados\n",
        "\n",
        "  São corretas:\n",
        "\n",
        "  a. Somente i\n",
        "\n",
        "  b. Somente i, ii\n",
        "\n",
        "  c. Somente i, iii\n",
        "\n",
        "  d. Somente ii, iii\n",
        "\n",
        "  e. Todas\n",
        "\n"
      ]
    }
  ]
}